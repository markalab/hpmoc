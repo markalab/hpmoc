{
 "cells": [
  {
   "cell_type": "code",
   "execution_count": 1,
   "id": "aa07660f",
   "metadata": {},
   "outputs": [],
   "source": [
    "#import healpy as hp\n",
    "import astropy_healpix.healpy as ahp\n",
    "from astropy_healpix import HEALPix\n",
    "from hpmoc.healpy import healpy as hhp\n",
    "from matplotlib import pyplot as plt, cm\n",
    "import numpy as np\n",
    "import hpmoc\n",
    "from hpmoc.partial import PartialUniqSkymap\n",
    "from hpmoc import atlas as atls\n",
    "from reproject import reproject_from_healpix, reproject_to_healpix\n",
    "import astropy as ap\n",
    "from astropy.wcs import WCS\n",
    "from astropy.io import fits\n",
    "from astropy.visualization.wcsaxes.frame import EllipticalFrame\n",
    "from astropy.coordinates import FK5"
   ]
  },
  {
   "cell_type": "code",
   "execution_count": 2,
   "id": "1559cc39",
   "metadata": {},
   "outputs": [
    {
     "name": "stderr",
     "output_type": "stream",
     "text": [
      "E:\\miniconda3\\envs\\hpmoc-dev-win\\lib\\site-packages\\hpmoc\\utils.py:1443: VisibleDeprecationWarning: Creating an ndarray from ragged nested sequences (which is a list-or-tuple of lists-or-tuples-or ndarrays with different lengths or shapes) is deprecated. If you meant to do this, you must specify 'dtype=object' when creating the ndarray.\n",
      "  u⃗ = np.array(u⃗, dtype=dtype, copy=False)\n"
     ]
    }
   ],
   "source": [
    "m = PartialUniqSkymap.read(\"../tests/data/S191216ap.fits.gz\", strategy='ligo')\n",
    "mo = PartialUniqSkymap.read(\"../tests/data/S191216ap.multiorder.fits\", strategy='ligo')\n",
    "mc = (m.s⃗*m.A⃗()).value"
   ]
  },
  {
   "cell_type": "code",
   "execution_count": 3,
   "id": "ac12c5a1",
   "metadata": {},
   "outputs": [],
   "source": [
    "hdu_ligo = fits.open(\"../tests/data/S191216ap.fits.gz\")[1]\n",
    "target_header = fits.Header.fromstring(\"\"\"\n",
    "NAXIS   =                    2\n",
    "NAXIS1  =                  480\n",
    "NAXIS2  =                  240\n",
    "CTYPE1  = 'RA---MOL'\n",
    "CRPIX1  =                240.5\n",
    "CRVAL1  =                180.0\n",
    "CDELT1  =               -0.675\n",
    "CUNIT1  = 'deg     '\n",
    "CTYPE2  = 'DEC--MOL'\n",
    "CRPIX2  =                120.5\n",
    "CRVAL2  =                  0.0\n",
    "CDELT2  =                0.675\n",
    "CUNIT2  = 'deg     '\n",
    "COORDSYS= 'icrs    '\n",
    "\"\"\", sep='\\n')\n",
    "w = WCS(target_header)"
   ]
  },
  {
   "cell_type": "code",
   "execution_count": 4,
   "id": "5ad92267",
   "metadata": {},
   "outputs": [
    {
     "data": {
      "text/plain": [
       "array([[nan, nan, nan, ..., nan, nan, nan],\n",
       "       [nan, nan, nan, ..., nan, nan, nan],\n",
       "       [nan, nan, nan, ..., nan, nan, nan],\n",
       "       ...,\n",
       "       [nan, nan, nan, ..., nan, nan, nan],\n",
       "       [nan, nan, nan, ..., nan, nan, nan],\n",
       "       [nan, nan, nan, ..., nan, nan, nan]])"
      ]
     },
     "execution_count": 4,
     "metadata": {},
     "output_type": "execute_result"
    }
   ],
   "source": [
    "mo.render(w)"
   ]
  },
  {
   "cell_type": "code",
   "execution_count": 5,
   "id": "8bc93dc6",
   "metadata": {},
   "outputs": [],
   "source": [
    "# Go counter-clockwise from x=0, i.e. x=0, y=nˢ-1, x=nˢ-1, y=0\n",
    "atlas = np.array([\n",
    "    [4, 3, 1, 5],\n",
    "    [5, 0, 2, 6],\n",
    "    [6, 1, 3, 7],\n",
    "    [7, 2, 0, 4],\n",
    "    [11, 3, 0, 8],\n",
    "    [8, 0, 1, 9],\n",
    "    [9, 1, 2, 10],\n",
    "    [10, 2, 3, 11],\n",
    "    [11, 4, 5, 9],\n",
    "    [8, 5, 6, 10],\n",
    "    [9, 6, 7, 11],\n",
    "    [10, 7, 4, 8],\n",
    "], dtype=np.uint8)\n",
    "# Go counter-clockwise from (0,0), i.e. (0,0), (0,1), (1,1), (1,0)"
   ]
  },
  {
   "cell_type": "code",
   "execution_count": 92,
   "id": "1aaa413a",
   "metadata": {},
   "outputs": [],
   "source": [
    "right, face = np.meshgrid(*map(np.arange, atlas.shape[::-1]))\n",
    "loops = np.stack([*map(np.ravel, [np.roll(right, 1), face, right])]).T"
   ]
  },
  {
   "cell_type": "code",
   "execution_count": 180,
   "id": "1acb6b17",
   "metadata": {},
   "outputs": [],
   "source": [
    "def close_loops(loops):\n",
    "    next_sides = loops[:,-1]\n",
    "    last_faces = loops[:,-2]\n",
    "    next_faces = atlas[last_faces, next_sides]\n",
    "    next_last_sides = np.where(atlas[next_faces]==last_faces.reshape((-1, 1)))[1]\n",
    "    is_done = (loops[:,0]==next_last_sides) & (loops[:,1]==next_faces)\n",
    "    done = loops[is_done]\n",
    "    \n",
    "    # dedup and clean up\n",
    "    k = done.shape[1]\n",
    "    roll = 3*done[:,np.arange(1, k, 3)].argsort()[:,0]\n",
    "    rows, col_idx = np.ogrid[:done.shape[0], :k]\n",
    "    col_idx = (col_idx + roll[:, None])%k\n",
    "    next_res = done[rows, col_idx]\n",
    "    sorted_res = next_res[np.lexsort([next_res[:,i] for i in range(k-2, 0, -3)])]\n",
    "    for i in range(1, k//3):\n",
    "        assert (sorted_res[::k//3]==sorted_res[i::k//3]).all()\n",
    "    final = sorted_res[::k//3].reshape((-1, k//3, 3))\n",
    "\n",
    "    remove = (loops[is_done,:2].reshape((1, -1, 2))==loops[:,:2].reshape((-1, 1, 2))).all(axis=2).any(axis=1)\n",
    "    if remove.all():\n",
    "        return [final]\n",
    "    next_next_sides = ((next_last_sides[~remove].repeat(2).reshape((-1, 2))+(1+2*np.arange(2)))%4).ravel()\n",
    "    next_loops = np.concatenate(\n",
    "        [\n",
    "            loops[~remove].repeat(2, 0),\n",
    "            np.stack([\n",
    "                next_last_sides[~remove].repeat(2),\n",
    "                next_faces[~remove].repeat(2),\n",
    "                next_next_sides\n",
    "            ]).T\n",
    "        ],\n",
    "        1,\n",
    "    )\n",
    "    return [final, *close_loops(next_loops)]"
   ]
  },
  {
   "cell_type": "code",
   "execution_count": 181,
   "id": "6c62b863",
   "metadata": {},
   "outputs": [
    {
     "data": {
      "text/plain": [
       "[array([], shape=(0, 1, 3), dtype=int32),\n",
       " array([], shape=(0, 2, 3), dtype=int64),\n",
       " array([[[ 0,  0,  1],\n",
       "         [ 2,  3,  3],\n",
       "         [ 1,  4,  2]],\n",
       " \n",
       "        [[ 2,  0,  3],\n",
       "         [ 1,  5,  2],\n",
       "         [ 0,  1,  1]],\n",
       " \n",
       "        [[ 2,  1,  3],\n",
       "         [ 1,  6,  2],\n",
       "         [ 0,  2,  1]],\n",
       " \n",
       "        [[ 2,  2,  3],\n",
       "         [ 1,  7,  2],\n",
       "         [ 0,  3,  1]],\n",
       " \n",
       "        [[ 3,  4,  0],\n",
       "         [ 2, 11,  3],\n",
       "         [ 0,  8,  1]],\n",
       " \n",
       "        [[ 3,  5,  0],\n",
       "         [ 2,  8,  3],\n",
       "         [ 0,  9,  1]],\n",
       " \n",
       "        [[ 3,  6,  0],\n",
       "         [ 2,  9,  3],\n",
       "         [ 0, 10,  1]],\n",
       " \n",
       "        [[ 3,  7,  0],\n",
       "         [ 2, 10,  3],\n",
       "         [ 0, 11,  1]]], dtype=int64),\n",
       " array([[[ 1,  0,  2],\n",
       "         [ 1,  1,  2],\n",
       "         [ 1,  2,  2],\n",
       "         [ 1,  3,  2]],\n",
       " \n",
       "        [[ 3,  0,  0],\n",
       "         [ 2,  4,  3],\n",
       "         [ 1,  8,  2],\n",
       "         [ 0,  5,  1]],\n",
       " \n",
       "        [[ 3,  1,  0],\n",
       "         [ 2,  5,  3],\n",
       "         [ 1,  9,  2],\n",
       "         [ 0,  6,  1]],\n",
       " \n",
       "        [[ 3,  2,  0],\n",
       "         [ 2,  6,  3],\n",
       "         [ 1, 10,  2],\n",
       "         [ 0,  7,  1]],\n",
       " \n",
       "        [[ 3,  3,  0],\n",
       "         [ 2,  7,  3],\n",
       "         [ 1, 11,  2],\n",
       "         [ 0,  4,  1]],\n",
       " \n",
       "        [[ 3,  8,  0],\n",
       "         [ 3, 11,  0],\n",
       "         [ 3, 10,  0],\n",
       "         [ 3,  9,  0]]], dtype=int64)]"
      ]
     },
     "execution_count": 181,
     "metadata": {},
     "output_type": "execute_result"
    }
   ],
   "source": [
    "close_loops(loops)"
   ]
  },
  {
   "cell_type": "code",
   "execution_count": 9,
   "id": "a175e2b3",
   "metadata": {},
   "outputs": [
    {
     "data": {
      "text/plain": [
       "'0101010101010101010101010101010101010101010101010101010101010101'"
      ]
     },
     "execution_count": 9,
     "metadata": {},
     "output_type": "execute_result"
    }
   ],
   "source": [
    "f'{0x5555555555555555:064b}'"
   ]
  },
  {
   "cell_type": "code",
   "execution_count": 12,
   "id": "870cedc3",
   "metadata": {},
   "outputs": [
    {
     "data": {
      "text/plain": [
       "'f'"
      ]
     },
     "execution_count": 12,
     "metadata": {},
     "output_type": "execute_result"
    }
   ],
   "source": [
    "f'{0b1111:x}'"
   ]
  },
  {
   "cell_type": "code",
   "execution_count": 26,
   "id": "fbf84e0b",
   "metadata": {},
   "outputs": [
    {
     "name": "stderr",
     "output_type": "stream",
     "text": [
      "E:\\miniconda3\\envs\\hpmoc-dev-win\\lib\\site-packages\\hpmoc\\utils.py:1443: VisibleDeprecationWarning: Creating an ndarray from ragged nested sequences (which is a list-or-tuple of lists-or-tuples-or ndarrays with different lengths or shapes) is deprecated. If you meant to do this, you must specify 'dtype=object' when creating the ndarray.\n",
      "  u⃗ = np.array(u⃗, dtype=dtype, copy=False)\n"
     ]
    },
    {
     "data": {
      "text/plain": [
       "(array([0, 1], dtype=int64), array([7, 0], dtype=int64), array([-4, -3]))"
      ]
     },
     "execution_count": 26,
     "metadata": {},
     "output_type": "execute_result"
    }
   ],
   "source": [
    "from hpmoc.utils import uniq_intersection, uniq2nest_and_nside, uniq2nest, uniq2nside\n",
    "\n",
    "uniq_intersection(np.array([3003, 301]), np.arange(4, 16))"
   ]
  },
  {
   "cell_type": "code",
   "execution_count": 35,
   "id": "35ea4223",
   "metadata": {},
   "outputs": [
    {
     "data": {
      "text/plain": [
       "array([7, 0], dtype=int32)"
      ]
     },
     "execution_count": 35,
     "metadata": {},
     "output_type": "execute_result"
    }
   ],
   "source": [
    "x = np.array([3003, 301])\n",
    "(x//uniq2nside(x)**2)-4"
   ]
  },
  {
   "cell_type": "code",
   "execution_count": 31,
   "id": "0649e33e",
   "metadata": {},
   "outputs": [
    {
     "data": {
      "text/plain": [
       "(array([1979,   45]), array([16,  8], dtype=int32))"
      ]
     },
     "execution_count": 31,
     "metadata": {},
     "output_type": "execute_result"
    }
   ],
   "source": [
    "uniq2nest_and_nside(x)"
   ]
  },
  {
   "cell_type": "code",
   "execution_count": 7,
   "id": "d7a13f1c",
   "metadata": {},
   "outputs": [],
   "source": [
    "hp = ahp"
   ]
  },
  {
   "cell_type": "code",
   "execution_count": 11,
   "id": "430a9b49",
   "metadata": {},
   "outputs": [
    {
     "data": {
      "text/plain": [
       "array([2], dtype=int64)"
      ]
     },
     "execution_count": 11,
     "metadata": {},
     "output_type": "execute_result"
    }
   ],
   "source": [
    "hp.ring2nest(2, 4)"
   ]
  },
  {
   "cell_type": "code",
   "execution_count": 23,
   "id": "1a4a4892",
   "metadata": {},
   "outputs": [
    {
     "data": {
      "text/plain": [
       "False"
      ]
     },
     "execution_count": 23,
     "metadata": {},
     "output_type": "execute_result"
    }
   ],
   "source": [
    "np.isscalar(hp.ring2nest(1, 8))"
   ]
  },
  {
   "cell_type": "code",
   "execution_count": 35,
   "id": "13af9d8d",
   "metadata": {},
   "outputs": [
    {
     "data": {
      "text/plain": [
       "True"
      ]
     },
     "execution_count": 35,
     "metadata": {},
     "output_type": "execute_result"
    }
   ],
   "source": [
    "hp.order2nside(3) == 1<<3"
   ]
  },
  {
   "cell_type": "code",
   "execution_count": 50,
   "id": "0efc07e2",
   "metadata": {},
   "outputs": [],
   "source": [
    "np.random.randint?"
   ]
  },
  {
   "cell_type": "code",
   "execution_count": 52,
   "id": "07b9739f",
   "metadata": {},
   "outputs": [
    {
     "data": {
      "text/plain": [
       "int"
      ]
     },
     "execution_count": 52,
     "metadata": {},
     "output_type": "execute_result"
    }
   ],
   "source": [
    "type(np.random.randint(0, 30))"
   ]
  },
  {
   "cell_type": "code",
   "execution_count": 49,
   "id": "38e7d86b",
   "metadata": {},
   "outputs": [
    {
     "data": {
      "text/plain": [
       "array([28, 15, 23, 27,  7,  6,  9, 11,  3, 10], dtype=uint64)"
      ]
     },
     "execution_count": 49,
     "metadata": {},
     "output_type": "execute_result"
    }
   ],
   "source": [
    "np.random.randint(0, 30, 10, dtype='uint64')"
   ]
  },
  {
   "cell_type": "code",
   "execution_count": 38,
   "id": "6da13f37",
   "metadata": {},
   "outputs": [],
   "source": [
    "def pix2xyf(nside, ipix, nest=False):\n",
    "    \"Drop-in replacement for ``healpy.pix2xyf``.\"\n",
    "    import numpy as np\n",
    "\n",
    "    # Check for mistake in ``astropy_healpix`` scalar handling\n",
    "    scalar = np.isscalar(ipix)\n",
    "    ipix = ipix if nest else hp.ring2nest(nside, ipix)\n",
    "    if scalar and not np.isscalar(ipix):\n",
    "        ipix = ipix.ravel()[0]\n",
    "    nsq = nside*nside\n",
    "    f = ipix//nsq\n",
    "    i = ipix-f*nsq\n",
    "    return alt_compress(i), alt_compress(i>>1, True), f\n",
    "\n",
    "\n",
    "def xyf2pix(nside, x, y, face, nest=False):\n",
    "    \"Drop-in replacement for ``healpy.xyf2pix``.\"\n",
    "    import numpy as np\n",
    "\n",
    "    # Check for mistake in ``astropy_healpix`` scalar handling\n",
    "    scalar = all(map(np.isscalar, [x, y, face]))\n",
    "    ipix = alt_expand(x) + (alt_expand(y)<<1) + face*nside*nside\n",
    "    ipix = ipix if nest else hp.nest2ring(nside, ipix)\n",
    "    return ipix.ravel()[0] if scalar and not np.isscalar(ipix) else ipix"
   ]
  },
  {
   "cell_type": "code",
   "execution_count": 44,
   "id": "fc6b3efe",
   "metadata": {},
   "outputs": [
    {
     "data": {
      "text/plain": [
       "array([258, 259], dtype=int64)"
      ]
     },
     "execution_count": 44,
     "metadata": {},
     "output_type": "execute_result"
    }
   ],
   "source": [
    "xyf2pix(8, *pix2xyf(8, np.array([258, 259])))"
   ]
  },
  {
   "cell_type": "code",
   "execution_count": 40,
   "id": "0b81c6fa",
   "metadata": {},
   "outputs": [
    {
     "data": {
      "text/plain": [
       "(0, 3, 2)"
      ]
     },
     "execution_count": 40,
     "metadata": {},
     "output_type": "execute_result"
    }
   ],
   "source": [
    "pix2xyf(8, xyf2pix(8, 0, 3, 2))"
   ]
  },
  {
   "cell_type": "code",
   "execution_count": 33,
   "id": "f04282c2",
   "metadata": {},
   "outputs": [
    {
     "data": {
      "text/plain": [
       "(0, 0, 5)"
      ]
     },
     "execution_count": 33,
     "metadata": {},
     "output_type": "execute_result"
    }
   ],
   "source": [
    "pix2xyf(2, 20, nest=True)"
   ]
  },
  {
   "cell_type": "code",
   "execution_count": 73,
   "id": "f1eb4b38",
   "metadata": {},
   "outputs": [],
   "source": [
    "def uniq2xyf_nside(u⃗):\n",
    "    \"\"\"\n",
    "    Examples\n",
    "    --------\n",
    "    >>> uniq2xyf_nside(8)\n",
    "    (0, 0, 4, 1)\n",
    "    \n",
    "    See Also\n",
    "    --------\n",
    "    xyf_nside2uniq\n",
    "    \"\"\"\n",
    "    i, nˢ = uniq2nest_and_nside(u⃗)\n",
    "    nˢˢ = nˢ*nˢ\n",
    "    f = (u⃗//nˢˢ)-4\n",
    "    i -= f*nˢˢ\n",
    "    return alt_compress(i), alt_compress(i>>1, True), f, nˢ\n",
    "\n",
    "\n",
    "def xyf_nside2uniq(x, y, f, nˢ):\n",
    "    \"\"\"\n",
    "    Examples\n",
    "    --------\n",
    "    >>> (xyf_nside2uniq(*uniq2xyf_nside(np.arange(4, 10000))) == np.arange(4, 10000)).all()\n",
    "    True\n",
    "    \n",
    "    See Also\n",
    "    --------\n",
    "    uniq2xyf_nside\n",
    "    \"\"\"\n",
    "    return alt_expand(x) + (alt_expand(y)<<1) + (f+4)*nˢ*nˢ"
   ]
  },
  {
   "cell_type": "code",
   "execution_count": 82,
   "id": "4a8b7d3a",
   "metadata": {},
   "outputs": [
    {
     "data": {
      "text/plain": [
       "True"
      ]
     },
     "execution_count": 82,
     "metadata": {},
     "output_type": "execute_result"
    }
   ],
   "source": [
    "(xyf_nside2uniq(*uniq2xyf_nside(np.arange(4, 10000))) == np.arange(4, 10000)).all()"
   ]
  },
  {
   "cell_type": "code",
   "execution_count": 75,
   "id": "655e87a9",
   "metadata": {},
   "outputs": [
    {
     "data": {
      "text/plain": [
       "(0, 0, 4, 1)"
      ]
     },
     "execution_count": 75,
     "metadata": {},
     "output_type": "execute_result"
    }
   ],
   "source": [
    "uniq2xyf_nside(8)"
   ]
  },
  {
   "cell_type": "code",
   "execution_count": 76,
   "id": "11cb2b45",
   "metadata": {},
   "outputs": [
    {
     "data": {
      "text/plain": [
       "8"
      ]
     },
     "execution_count": 76,
     "metadata": {},
     "output_type": "execute_result"
    }
   ],
   "source": [
    "xyf_nside2uniq(0, 0, 4, 1)"
   ]
  },
  {
   "cell_type": "code",
   "execution_count": 72,
   "id": "ea28b8c8",
   "metadata": {},
   "outputs": [
    {
     "data": {
      "text/plain": [
       "(array([0, 0, 0, 0, 0, 0, 0, 0, 0, 0, 0, 0, 0, 1, 0, 1, 0, 1, 0, 1, 0, 1,\n",
       "        0, 1, 0, 1, 0, 1]),\n",
       " array([0, 0, 0, 0, 0, 0, 0, 0, 0, 0, 0, 0, 0, 0, 1, 1, 0, 0, 1, 1, 0, 0,\n",
       "        1, 1, 0, 0, 1, 1], dtype=int32),\n",
       " array([ 0,  1,  2,  3,  4,  5,  6,  7,  8,  9, 10, 11,  0,  0,  0,  0,  1,\n",
       "         1,  1,  1,  2,  2,  2,  2,  3,  3,  3,  3], dtype=int32))"
      ]
     },
     "execution_count": 72,
     "metadata": {},
     "output_type": "execute_result"
    }
   ],
   "source": [
    "uniq2xyf(np.arange(4, 32))"
   ]
  },
  {
   "cell_type": "code",
   "execution_count": 18,
   "id": "97dbda6c",
   "metadata": {},
   "outputs": [],
   "source": [
    "COMPRESS_MASKS = [\n",
    "    0x5555555555555555,\n",
    "    0x3333333333333333,\n",
    "    0x0f0f0f0f0f0f0f0f,\n",
    "    0x00ff00ff00ff00ff,\n",
    "    0x0000ffff0000ffff,\n",
    "    0x00000000ffffffff,\n",
    "]\n",
    "\n",
    "\n",
    "def alt_compress(x, in_place=False):\n",
    "    \"\"\"\n",
    "    Start in 0x55... state.\n",
    "    \n",
    "    https://help.dyalog.com/18.0/Content/Language/Primitive%20Functions/Replicate.htm\n",
    "    \n",
    "    Examples\n",
    "    --------\n",
    "    >>> alt_compress(0b011101)\n",
    "    7\n",
    "    >>> alt_compress(0b110010)\n",
    "    4\n",
    "    >>> alt_compress(100)\n",
    "    10\n",
    "    >>> f'{alt_compress(0b10011100):04b}'\n",
    "    '0110'\n",
    "    \"\"\"\n",
    "    import numpy as np\n",
    "\n",
    "    if (not isinstance(x, int)) and (not in_place):\n",
    "        x = x.copy()\n",
    "    x &= COMPRESS_MASKS[0]\n",
    "    for i, m in enumerate(COMPRESS_MASKS[1:]):\n",
    "        hold = m&x\n",
    "        x &= ~m\n",
    "        x >>= 1<<i\n",
    "        x |= hold\n",
    "    return x\n",
    "\n",
    "\n",
    "def alt_expand(x, in_place=False):\n",
    "    \"\"\"\n",
    "    Start in 0x00000000ffffffff state.\n",
    "    \n",
    "    https://help.dyalog.com/18.0/Content/Language/Primitive%20Functions/Expand.htm\n",
    "    \n",
    "    Examples\n",
    "    --------\n",
    "    >>> f'{alt_expand(0b100101):012b}'\n",
    "    '010000010001'\n",
    "    \"\"\"\n",
    "    import numpy as np\n",
    "    \n",
    "    o = len(COMPRESS_MASKS)\n",
    "    if (not isinstance(x, int)) and (not in_place):\n",
    "        x = x.copy()\n",
    "    x &= COMPRESS_MASKS[-1]\n",
    "    for i, m in enumerate(COMPRESS_MASKS[-2::-1]):\n",
    "        hold = m&x\n",
    "        x &= ~m\n",
    "        x <<= 1<<(o-i-2)\n",
    "        x |= hold\n",
    "    return x"
   ]
  },
  {
   "cell_type": "code",
   "execution_count": 59,
   "id": "af65a94a",
   "metadata": {},
   "outputs": [
    {
     "data": {
      "text/plain": [
       "'0110'"
      ]
     },
     "execution_count": 59,
     "metadata": {},
     "output_type": "execute_result"
    }
   ],
   "source": [
    "f'{alt_compress(0b10011100):04b}'"
   ]
  },
  {
   "cell_type": "code",
   "execution_count": 53,
   "id": "9e8d9616",
   "metadata": {},
   "outputs": [
    {
     "data": {
      "text/plain": [
       "[281470681808895,\n",
       " 71777214294589695,\n",
       " 1085102592571150095,\n",
       " 3689348814741910323,\n",
       " 6148914691236517205]"
      ]
     },
     "execution_count": 53,
     "metadata": {},
     "output_type": "execute_result"
    }
   ],
   "source": [
    "COMPRESS_MASKS[-2::-1]"
   ]
  },
  {
   "cell_type": "code",
   "execution_count": 56,
   "id": "b5d175e1",
   "metadata": {},
   "outputs": [
    {
     "data": {
      "text/plain": [
       "10"
      ]
     },
     "execution_count": 56,
     "metadata": {},
     "output_type": "execute_result"
    }
   ],
   "source": [
    "alt_compress(100)"
   ]
  },
  {
   "cell_type": "code",
   "execution_count": 62,
   "id": "ea19c2b0",
   "metadata": {},
   "outputs": [
    {
     "data": {
      "text/plain": [
       "'010000010001'"
      ]
     },
     "execution_count": 62,
     "metadata": {},
     "output_type": "execute_result"
    }
   ],
   "source": [
    "f'{alt_expand(0b100101):012b}'"
   ]
  },
  {
   "cell_type": "code",
   "execution_count": 2,
   "id": "ef68cd23",
   "metadata": {},
   "outputs": [],
   "source": [
    "from hpmoc.utils import uniq2xyf_nside"
   ]
  },
  {
   "cell_type": "code",
   "execution_count": 4,
   "id": "d060f854",
   "metadata": {},
   "outputs": [],
   "source": [
    "uniq2xyf_nside?"
   ]
  },
  {
   "cell_type": "code",
   "execution_count": 1,
   "id": "6ea3a9c2",
   "metadata": {},
   "outputs": [
    {
     "name": "stdout",
     "output_type": "stream",
     "text": [
      "C:\\Users\\Stefan\\dev\\hpmoc\n"
     ]
    }
   ],
   "source": [
    "cd .."
   ]
  },
  {
   "cell_type": "code",
   "execution_count": 2,
   "id": "1bf58f6b",
   "metadata": {},
   "outputs": [],
   "source": [
    "from tests.test_healpy_shim import test_installed_pix2xyf_xyf2pix"
   ]
  },
  {
   "cell_type": "code",
   "execution_count": 3,
   "id": "500298b1",
   "metadata": {},
   "outputs": [
    {
     "name": "stderr",
     "output_type": "stream",
     "text": [
      "C:\\Users\\Stefan\\dev\\hpmoc\\hpmoc\\healpy.py:62: VisibleDeprecationWarning: Creating an ndarray from ragged nested sequences (which is a list-or-tuple of lists-or-tuples-or ndarrays with different lengths or shapes) is deprecated. If you meant to do this, you must specify 'dtype=object' when creating the ndarray.\n",
      "  ipix = alt_expand(x) + (alt_expand(y)<<np.uint64(1), True) + face*nside*nside\n"
     ]
    },
    {
     "ename": "ValueError",
     "evalue": "operands could not be broadcast together with shapes (12,) (2,) ",
     "output_type": "error",
     "traceback": [
      "\u001b[1;31m---------------------------------------------------------------------------\u001b[0m",
      "\u001b[1;31mValueError\u001b[0m                                Traceback (most recent call last)",
      "\u001b[1;32m<ipython-input-3-43dd57a28752>\u001b[0m in \u001b[0;36m<module>\u001b[1;34m\u001b[0m\n\u001b[1;32m----> 1\u001b[1;33m \u001b[0mtest_installed_pix2xyf_xyf2pix\u001b[0m\u001b[1;33m(\u001b[0m\u001b[1;33m)\u001b[0m\u001b[1;33m\u001b[0m\u001b[1;33m\u001b[0m\u001b[0m\n\u001b[0m",
      "\u001b[1;32m~\\dev\\hpmoc\\tests\\test_healpy_shim.py\u001b[0m in \u001b[0;36mtest_installed_pix2xyf_xyf2pix\u001b[1;34m()\u001b[0m\n\u001b[0;32m    113\u001b[0m                                                                  np.uint64)\n\u001b[0;32m    114\u001b[0m         \u001b[1;32mfor\u001b[0m \u001b[0mnest\u001b[0m \u001b[1;32min\u001b[0m \u001b[1;33m[\u001b[0m\u001b[1;32mTrue\u001b[0m\u001b[1;33m,\u001b[0m \u001b[1;32mFalse\u001b[0m\u001b[1;33m]\u001b[0m\u001b[1;33m:\u001b[0m\u001b[1;33m\u001b[0m\u001b[1;33m\u001b[0m\u001b[0m\n\u001b[1;32m--> 115\u001b[1;33m             assert (xyf2pix(nside, *pix2xyf(nside, i, nest=nest), nest=nest) ==\n\u001b[0m\u001b[0;32m    116\u001b[0m                     i).all()\n\u001b[0;32m    117\u001b[0m         \u001b[1;32massert\u001b[0m \u001b[1;33m(\u001b[0m\u001b[0mxyf2pix\u001b[0m\u001b[1;33m(\u001b[0m\u001b[0mnside\u001b[0m\u001b[1;33m,\u001b[0m \u001b[1;33m*\u001b[0m\u001b[0mpix2xyf\u001b[0m\u001b[1;33m(\u001b[0m\u001b[0mnside\u001b[0m\u001b[1;33m,\u001b[0m \u001b[0mi\u001b[0m\u001b[1;33m)\u001b[0m\u001b[1;33m)\u001b[0m \u001b[1;33m==\u001b[0m \u001b[0mi\u001b[0m\u001b[1;33m)\u001b[0m\u001b[1;33m.\u001b[0m\u001b[0mall\u001b[0m\u001b[1;33m(\u001b[0m\u001b[1;33m)\u001b[0m\u001b[1;33m\u001b[0m\u001b[1;33m\u001b[0m\u001b[0m\n",
      "\u001b[1;32m~\\dev\\hpmoc\\hpmoc\\healpy.py\u001b[0m in \u001b[0;36mxyf2pix\u001b[1;34m(nside, x, y, face, nest)\u001b[0m\n\u001b[0;32m     60\u001b[0m     \u001b[1;31m# Check for mistake in ``astropy_healpix`` scalar handling\u001b[0m\u001b[1;33m\u001b[0m\u001b[1;33m\u001b[0m\u001b[1;33m\u001b[0m\u001b[0m\n\u001b[0;32m     61\u001b[0m     \u001b[0mscalar\u001b[0m \u001b[1;33m=\u001b[0m \u001b[0mall\u001b[0m\u001b[1;33m(\u001b[0m\u001b[0mmap\u001b[0m\u001b[1;33m(\u001b[0m\u001b[0mnp\u001b[0m\u001b[1;33m.\u001b[0m\u001b[0misscalar\u001b[0m\u001b[1;33m,\u001b[0m \u001b[1;33m[\u001b[0m\u001b[0mx\u001b[0m\u001b[1;33m,\u001b[0m \u001b[0my\u001b[0m\u001b[1;33m,\u001b[0m \u001b[0mface\u001b[0m\u001b[1;33m]\u001b[0m\u001b[1;33m)\u001b[0m\u001b[1;33m)\u001b[0m\u001b[1;33m\u001b[0m\u001b[1;33m\u001b[0m\u001b[0m\n\u001b[1;32m---> 62\u001b[1;33m     \u001b[0mipix\u001b[0m \u001b[1;33m=\u001b[0m \u001b[0malt_expand\u001b[0m\u001b[1;33m(\u001b[0m\u001b[0mx\u001b[0m\u001b[1;33m)\u001b[0m \u001b[1;33m+\u001b[0m \u001b[1;33m(\u001b[0m\u001b[0malt_expand\u001b[0m\u001b[1;33m(\u001b[0m\u001b[0my\u001b[0m\u001b[1;33m)\u001b[0m\u001b[1;33m<<\u001b[0m\u001b[0mnp\u001b[0m\u001b[1;33m.\u001b[0m\u001b[0muint64\u001b[0m\u001b[1;33m(\u001b[0m\u001b[1;36m1\u001b[0m\u001b[1;33m)\u001b[0m\u001b[1;33m,\u001b[0m \u001b[1;32mTrue\u001b[0m\u001b[1;33m)\u001b[0m \u001b[1;33m+\u001b[0m \u001b[0mface\u001b[0m\u001b[1;33m*\u001b[0m\u001b[0mnside\u001b[0m\u001b[1;33m*\u001b[0m\u001b[0mnside\u001b[0m\u001b[1;33m\u001b[0m\u001b[1;33m\u001b[0m\u001b[0m\n\u001b[0m\u001b[0;32m     63\u001b[0m     \u001b[0mipix\u001b[0m \u001b[1;33m=\u001b[0m \u001b[0mipix\u001b[0m \u001b[1;32mif\u001b[0m \u001b[0mnest\u001b[0m \u001b[1;32melse\u001b[0m \u001b[0mhealpy\u001b[0m\u001b[1;33m.\u001b[0m\u001b[0mnest2ring\u001b[0m\u001b[1;33m(\u001b[0m\u001b[0mnside\u001b[0m\u001b[1;33m,\u001b[0m \u001b[0mipix\u001b[0m\u001b[1;33m)\u001b[0m\u001b[1;33m\u001b[0m\u001b[1;33m\u001b[0m\u001b[0m\n\u001b[0;32m     64\u001b[0m     \u001b[1;32mreturn\u001b[0m \u001b[0mipix\u001b[0m\u001b[1;33m.\u001b[0m\u001b[0mravel\u001b[0m\u001b[1;33m(\u001b[0m\u001b[1;33m)\u001b[0m\u001b[1;33m[\u001b[0m\u001b[1;36m0\u001b[0m\u001b[1;33m]\u001b[0m \u001b[1;32mif\u001b[0m \u001b[0mscalar\u001b[0m \u001b[1;32mand\u001b[0m \u001b[1;32mnot\u001b[0m \u001b[0mnp\u001b[0m\u001b[1;33m.\u001b[0m\u001b[0misscalar\u001b[0m\u001b[1;33m(\u001b[0m\u001b[0mipix\u001b[0m\u001b[1;33m)\u001b[0m \u001b[1;32melse\u001b[0m \u001b[0mipix\u001b[0m\u001b[1;33m\u001b[0m\u001b[1;33m\u001b[0m\u001b[0m\n",
      "\u001b[1;31mValueError\u001b[0m: operands could not be broadcast together with shapes (12,) (2,) "
     ]
    }
   ],
   "source": [
    "test_installed_pix2xyf_xyf2pix()"
   ]
  },
  {
   "cell_type": "code",
   "execution_count": 4,
   "id": "d6c9c8d7",
   "metadata": {},
   "outputs": [],
   "source": [
    "import numpy as np"
   ]
  },
  {
   "cell_type": "code",
   "execution_count": 10,
   "id": "f69c3011",
   "metadata": {},
   "outputs": [
    {
     "data": {
      "text/plain": [
       "False"
      ]
     },
     "execution_count": 10,
     "metadata": {},
     "output_type": "execute_result"
    }
   ],
   "source": [
    "np.issubdtype(np.array([3, 4], dtype=np.uint8).dtype, np.uint64)"
   ]
  },
  {
   "cell_type": "code",
   "execution_count": 4,
   "id": "94af3546",
   "metadata": {
    "scrolled": true
   },
   "outputs": [
    {
     "name": "stdout",
     "output_type": "stream",
     "text": [
      "> \u001b[1;32m<ipython-input-4-f833ef72af3a>\u001b[0m(3)\u001b[0;36mfoo\u001b[1;34m()\u001b[0m\n",
      "\u001b[1;32m      1 \u001b[1;33m\u001b[1;32mdef\u001b[0m \u001b[0mfoo\u001b[0m\u001b[1;33m(\u001b[0m\u001b[1;33m)\u001b[0m\u001b[1;33m:\u001b[0m\u001b[1;33m\u001b[0m\u001b[1;33m\u001b[0m\u001b[0m\n",
      "\u001b[0m\u001b[1;32m      2 \u001b[1;33m    \u001b[0mbreakpoint\u001b[0m\u001b[1;33m(\u001b[0m\u001b[1;33m)\u001b[0m\u001b[1;33m\u001b[0m\u001b[1;33m\u001b[0m\u001b[0m\n",
      "\u001b[0m\u001b[1;32m----> 3 \u001b[1;33m    \u001b[0mtest_installed_pix2xyf_xyf2pix\u001b[0m\u001b[1;33m(\u001b[0m\u001b[1;33m)\u001b[0m\u001b[1;33m\u001b[0m\u001b[1;33m\u001b[0m\u001b[0m\n",
      "\u001b[0m\u001b[1;32m      4 \u001b[1;33m\u001b[0mfoo\u001b[0m\u001b[1;33m(\u001b[0m\u001b[1;33m)\u001b[0m\u001b[1;33m\u001b[0m\u001b[1;33m\u001b[0m\u001b[0m\n",
      "\u001b[0m\n",
      "ipdb> s\n",
      "--Call--\n",
      "> \u001b[1;32mc:\\users\\stefan\\dev\\hpmoc\\tests\\test_healpy_shim.py\u001b[0m(99)\u001b[0;36mtest_installed_pix2xyf_xyf2pix\u001b[1;34m()\u001b[0m\n",
      "\u001b[1;32m     97 \u001b[1;33m\u001b[1;33m\u001b[0m\u001b[0m\n",
      "\u001b[0m\u001b[1;32m     98 \u001b[1;33m\u001b[1;33m\u001b[0m\u001b[0m\n",
      "\u001b[0m\u001b[1;32m---> 99 \u001b[1;33m\u001b[1;32mdef\u001b[0m \u001b[0mtest_installed_pix2xyf_xyf2pix\u001b[0m\u001b[1;33m(\u001b[0m\u001b[1;33m)\u001b[0m\u001b[1;33m:\u001b[0m\u001b[1;33m\u001b[0m\u001b[1;33m\u001b[0m\u001b[0m\n",
      "\u001b[0m\u001b[1;32m    100 \u001b[1;33m    \"\"\"\n",
      "\u001b[0m\u001b[1;32m    101 \u001b[1;33m    \u001b[0mTest\u001b[0m\u001b[0;31m \u001b[0m\u001b[0;31m`\u001b[0m\u001b[0;31m`\u001b[0m\u001b[0mpix2xyf\u001b[0m\u001b[0;31m`\u001b[0m\u001b[0;31m`\u001b[0m \u001b[1;32mand\u001b[0m\u001b[0;31m \u001b[0m\u001b[0;31m`\u001b[0m\u001b[0;31m`\u001b[0m\u001b[0mxyf2pix\u001b[0m\u001b[0;31m`\u001b[0m\u001b[0;31m`\u001b[0m \u001b[0mshims\u001b[0m \u001b[0magainst\u001b[0m \u001b[0meach\u001b[0m \u001b[0mother\u001b[0m \u001b[1;32mfor\u001b[0m\u001b[1;33m\u001b[0m\u001b[1;33m\u001b[0m\u001b[0m\n",
      "\u001b[0m\n",
      "ipdb> n\n",
      "> \u001b[1;32mc:\\users\\stefan\\dev\\hpmoc\\tests\\test_healpy_shim.py\u001b[0m(104)\u001b[0;36mtest_installed_pix2xyf_xyf2pix\u001b[1;34m()\u001b[0m\n",
      "\u001b[1;32m    102 \u001b[1;33m    \u001b[0minvertibility\u001b[0m\u001b[1;33m.\u001b[0m \u001b[0mCan\u001b[0m \u001b[0mrun\u001b[0m \u001b[0meven\u001b[0m \u001b[0mwithout\u001b[0m\u001b[0;31m \u001b[0m\u001b[0;31m`\u001b[0m\u001b[0;31m`\u001b[0m\u001b[0mhealpy\u001b[0m\u001b[0;31m`\u001b[0m\u001b[0;31m`\u001b[0m \u001b[0minstalled\u001b[0m\u001b[1;33m.\u001b[0m\u001b[1;33m\u001b[0m\u001b[1;33m\u001b[0m\u001b[0m\n",
      "\u001b[0m\u001b[1;32m    103 \u001b[1;33m    \"\"\"\n",
      "\u001b[0m\u001b[1;32m--> 104 \u001b[1;33m    \u001b[1;32mimport\u001b[0m \u001b[0mnumpy\u001b[0m \u001b[1;32mas\u001b[0m \u001b[0mnp\u001b[0m\u001b[1;33m\u001b[0m\u001b[1;33m\u001b[0m\u001b[0m\n",
      "\u001b[0m\u001b[1;32m    105 \u001b[1;33m    \u001b[1;32mfrom\u001b[0m \u001b[0mhpmoc\u001b[0m\u001b[1;33m.\u001b[0m\u001b[0mhealpy\u001b[0m \u001b[1;32mimport\u001b[0m \u001b[0mpix2xyf\u001b[0m\u001b[1;33m,\u001b[0m \u001b[0mxyf2pix\u001b[0m\u001b[1;33m\u001b[0m\u001b[1;33m\u001b[0m\u001b[0m\n",
      "\u001b[0m\u001b[1;32m    106 \u001b[1;33m\u001b[1;33m\u001b[0m\u001b[0m\n",
      "\u001b[0m\n",
      "ipdb> n\n",
      "> \u001b[1;32mc:\\users\\stefan\\dev\\hpmoc\\tests\\test_healpy_shim.py\u001b[0m(105)\u001b[0;36mtest_installed_pix2xyf_xyf2pix\u001b[1;34m()\u001b[0m\n",
      "\u001b[1;32m    103 \u001b[1;33m    \"\"\"\n",
      "\u001b[0m\u001b[1;32m    104 \u001b[1;33m    \u001b[1;32mimport\u001b[0m \u001b[0mnumpy\u001b[0m \u001b[1;32mas\u001b[0m \u001b[0mnp\u001b[0m\u001b[1;33m\u001b[0m\u001b[1;33m\u001b[0m\u001b[0m\n",
      "\u001b[0m\u001b[1;32m--> 105 \u001b[1;33m    \u001b[1;32mfrom\u001b[0m \u001b[0mhpmoc\u001b[0m\u001b[1;33m.\u001b[0m\u001b[0mhealpy\u001b[0m \u001b[1;32mimport\u001b[0m \u001b[0mpix2xyf\u001b[0m\u001b[1;33m,\u001b[0m \u001b[0mxyf2pix\u001b[0m\u001b[1;33m\u001b[0m\u001b[1;33m\u001b[0m\u001b[0m\n",
      "\u001b[0m\u001b[1;32m    106 \u001b[1;33m\u001b[1;33m\u001b[0m\u001b[0m\n",
      "\u001b[0m\u001b[1;32m    107 \u001b[1;33m    \u001b[0mnp\u001b[0m\u001b[1;33m.\u001b[0m\u001b[0mrandom\u001b[0m\u001b[1;33m.\u001b[0m\u001b[0mseed\u001b[0m\u001b[1;33m(\u001b[0m\u001b[1;36m0\u001b[0m\u001b[1;33m)\u001b[0m\u001b[1;33m\u001b[0m\u001b[1;33m\u001b[0m\u001b[0m\n",
      "\u001b[0m\n",
      "ipdb> n\n",
      "> \u001b[1;32mc:\\users\\stefan\\dev\\hpmoc\\tests\\test_healpy_shim.py\u001b[0m(107)\u001b[0;36mtest_installed_pix2xyf_xyf2pix\u001b[1;34m()\u001b[0m\n",
      "\u001b[1;32m    105 \u001b[1;33m    \u001b[1;32mfrom\u001b[0m \u001b[0mhpmoc\u001b[0m\u001b[1;33m.\u001b[0m\u001b[0mhealpy\u001b[0m \u001b[1;32mimport\u001b[0m \u001b[0mpix2xyf\u001b[0m\u001b[1;33m,\u001b[0m \u001b[0mxyf2pix\u001b[0m\u001b[1;33m\u001b[0m\u001b[1;33m\u001b[0m\u001b[0m\n",
      "\u001b[0m\u001b[1;32m    106 \u001b[1;33m\u001b[1;33m\u001b[0m\u001b[0m\n",
      "\u001b[0m\u001b[1;32m--> 107 \u001b[1;33m    \u001b[0mnp\u001b[0m\u001b[1;33m.\u001b[0m\u001b[0mrandom\u001b[0m\u001b[1;33m.\u001b[0m\u001b[0mseed\u001b[0m\u001b[1;33m(\u001b[0m\u001b[1;36m0\u001b[0m\u001b[1;33m)\u001b[0m\u001b[1;33m\u001b[0m\u001b[1;33m\u001b[0m\u001b[0m\n",
      "\u001b[0m\u001b[1;32m    108 \u001b[1;33m    \u001b[1;32mfor\u001b[0m \u001b[0morder\u001b[0m \u001b[1;32min\u001b[0m \u001b[0mrange\u001b[0m\u001b[1;33m(\u001b[0m\u001b[1;36m30\u001b[0m\u001b[1;33m)\u001b[0m\u001b[1;33m:\u001b[0m\u001b[1;33m\u001b[0m\u001b[1;33m\u001b[0m\u001b[0m\n",
      "\u001b[0m\u001b[1;32m    109 \u001b[1;33m        \u001b[0mnside\u001b[0m \u001b[1;33m=\u001b[0m \u001b[1;36m1\u001b[0m\u001b[1;33m<<\u001b[0m\u001b[0morder\u001b[0m\u001b[1;33m\u001b[0m\u001b[1;33m\u001b[0m\u001b[0m\n",
      "\u001b[0m\n",
      "ipdb> n\n",
      "> \u001b[1;32mc:\\users\\stefan\\dev\\hpmoc\\tests\\test_healpy_shim.py\u001b[0m(108)\u001b[0;36mtest_installed_pix2xyf_xyf2pix\u001b[1;34m()\u001b[0m\n",
      "\u001b[1;32m    106 \u001b[1;33m\u001b[1;33m\u001b[0m\u001b[0m\n",
      "\u001b[0m\u001b[1;32m    107 \u001b[1;33m    \u001b[0mnp\u001b[0m\u001b[1;33m.\u001b[0m\u001b[0mrandom\u001b[0m\u001b[1;33m.\u001b[0m\u001b[0mseed\u001b[0m\u001b[1;33m(\u001b[0m\u001b[1;36m0\u001b[0m\u001b[1;33m)\u001b[0m\u001b[1;33m\u001b[0m\u001b[1;33m\u001b[0m\u001b[0m\n",
      "\u001b[0m\u001b[1;32m--> 108 \u001b[1;33m    \u001b[1;32mfor\u001b[0m \u001b[0morder\u001b[0m \u001b[1;32min\u001b[0m \u001b[0mrange\u001b[0m\u001b[1;33m(\u001b[0m\u001b[1;36m30\u001b[0m\u001b[1;33m)\u001b[0m\u001b[1;33m:\u001b[0m\u001b[1;33m\u001b[0m\u001b[1;33m\u001b[0m\u001b[0m\n",
      "\u001b[0m\u001b[1;32m    109 \u001b[1;33m        \u001b[0mnside\u001b[0m \u001b[1;33m=\u001b[0m \u001b[1;36m1\u001b[0m\u001b[1;33m<<\u001b[0m\u001b[0morder\u001b[0m\u001b[1;33m\u001b[0m\u001b[1;33m\u001b[0m\u001b[0m\n",
      "\u001b[0m\u001b[1;32m    110 \u001b[1;33m        \u001b[0mnpix\u001b[0m \u001b[1;33m=\u001b[0m \u001b[1;36m12\u001b[0m\u001b[1;33m*\u001b[0m\u001b[0mnside\u001b[0m\u001b[1;33m*\u001b[0m\u001b[0mnside\u001b[0m\u001b[1;33m\u001b[0m\u001b[1;33m\u001b[0m\u001b[0m\n",
      "\u001b[0m\n",
      "ipdb> n\n",
      "> \u001b[1;32mc:\\users\\stefan\\dev\\hpmoc\\tests\\test_healpy_shim.py\u001b[0m(109)\u001b[0;36mtest_installed_pix2xyf_xyf2pix\u001b[1;34m()\u001b[0m\n",
      "\u001b[1;32m    107 \u001b[1;33m    \u001b[0mnp\u001b[0m\u001b[1;33m.\u001b[0m\u001b[0mrandom\u001b[0m\u001b[1;33m.\u001b[0m\u001b[0mseed\u001b[0m\u001b[1;33m(\u001b[0m\u001b[1;36m0\u001b[0m\u001b[1;33m)\u001b[0m\u001b[1;33m\u001b[0m\u001b[1;33m\u001b[0m\u001b[0m\n",
      "\u001b[0m\u001b[1;32m    108 \u001b[1;33m    \u001b[1;32mfor\u001b[0m \u001b[0morder\u001b[0m \u001b[1;32min\u001b[0m \u001b[0mrange\u001b[0m\u001b[1;33m(\u001b[0m\u001b[1;36m30\u001b[0m\u001b[1;33m)\u001b[0m\u001b[1;33m:\u001b[0m\u001b[1;33m\u001b[0m\u001b[1;33m\u001b[0m\u001b[0m\n",
      "\u001b[0m\u001b[1;32m--> 109 \u001b[1;33m        \u001b[0mnside\u001b[0m \u001b[1;33m=\u001b[0m \u001b[1;36m1\u001b[0m\u001b[1;33m<<\u001b[0m\u001b[0morder\u001b[0m\u001b[1;33m\u001b[0m\u001b[1;33m\u001b[0m\u001b[0m\n",
      "\u001b[0m\u001b[1;32m    110 \u001b[1;33m        \u001b[0mnpix\u001b[0m \u001b[1;33m=\u001b[0m \u001b[1;36m12\u001b[0m\u001b[1;33m*\u001b[0m\u001b[0mnside\u001b[0m\u001b[1;33m*\u001b[0m\u001b[0mnside\u001b[0m\u001b[1;33m\u001b[0m\u001b[1;33m\u001b[0m\u001b[0m\n",
      "\u001b[0m\u001b[1;32m    111 \u001b[1;33m        \u001b[1;31m# test collections of pixels\u001b[0m\u001b[1;33m\u001b[0m\u001b[1;33m\u001b[0m\u001b[1;33m\u001b[0m\u001b[0m\n",
      "\u001b[0m\n",
      "ipdb> nside\n",
      "*** NameError: name 'nside' is not defined\n",
      "ipdb> n\n",
      "> \u001b[1;32mc:\\users\\stefan\\dev\\hpmoc\\tests\\test_healpy_shim.py\u001b[0m(110)\u001b[0;36mtest_installed_pix2xyf_xyf2pix\u001b[1;34m()\u001b[0m\n",
      "\u001b[1;32m    108 \u001b[1;33m    \u001b[1;32mfor\u001b[0m \u001b[0morder\u001b[0m \u001b[1;32min\u001b[0m \u001b[0mrange\u001b[0m\u001b[1;33m(\u001b[0m\u001b[1;36m30\u001b[0m\u001b[1;33m)\u001b[0m\u001b[1;33m:\u001b[0m\u001b[1;33m\u001b[0m\u001b[1;33m\u001b[0m\u001b[0m\n",
      "\u001b[0m\u001b[1;32m    109 \u001b[1;33m        \u001b[0mnside\u001b[0m \u001b[1;33m=\u001b[0m \u001b[1;36m1\u001b[0m\u001b[1;33m<<\u001b[0m\u001b[0morder\u001b[0m\u001b[1;33m\u001b[0m\u001b[1;33m\u001b[0m\u001b[0m\n",
      "\u001b[0m\u001b[1;32m--> 110 \u001b[1;33m        \u001b[0mnpix\u001b[0m \u001b[1;33m=\u001b[0m \u001b[1;36m12\u001b[0m\u001b[1;33m*\u001b[0m\u001b[0mnside\u001b[0m\u001b[1;33m*\u001b[0m\u001b[0mnside\u001b[0m\u001b[1;33m\u001b[0m\u001b[1;33m\u001b[0m\u001b[0m\n",
      "\u001b[0m\u001b[1;32m    111 \u001b[1;33m        \u001b[1;31m# test collections of pixels\u001b[0m\u001b[1;33m\u001b[0m\u001b[1;33m\u001b[0m\u001b[1;33m\u001b[0m\u001b[0m\n",
      "\u001b[0m\u001b[1;32m    112 \u001b[1;33m        i = np.arange(npix) if npix < MAX else np.random.randint(0, npix, MAX,\n",
      "\u001b[0m\n",
      "ipdb> n\n",
      "> \u001b[1;32mc:\\users\\stefan\\dev\\hpmoc\\tests\\test_healpy_shim.py\u001b[0m(112)\u001b[0;36mtest_installed_pix2xyf_xyf2pix\u001b[1;34m()\u001b[0m\n",
      "\u001b[1;32m    110 \u001b[1;33m        \u001b[0mnpix\u001b[0m \u001b[1;33m=\u001b[0m \u001b[1;36m12\u001b[0m\u001b[1;33m*\u001b[0m\u001b[0mnside\u001b[0m\u001b[1;33m*\u001b[0m\u001b[0mnside\u001b[0m\u001b[1;33m\u001b[0m\u001b[1;33m\u001b[0m\u001b[0m\n",
      "\u001b[0m\u001b[1;32m    111 \u001b[1;33m        \u001b[1;31m# test collections of pixels\u001b[0m\u001b[1;33m\u001b[0m\u001b[1;33m\u001b[0m\u001b[1;33m\u001b[0m\u001b[0m\n",
      "\u001b[0m\u001b[1;32m--> 112 \u001b[1;33m        i = np.arange(npix) if npix < MAX else np.random.randint(0, npix, MAX,\n",
      "\u001b[0m\u001b[1;32m    113 \u001b[1;33m                                                                 np.uint64)\n",
      "\u001b[0m\u001b[1;32m    114 \u001b[1;33m        \u001b[1;32mfor\u001b[0m \u001b[0mnest\u001b[0m \u001b[1;32min\u001b[0m \u001b[1;33m[\u001b[0m\u001b[1;32mTrue\u001b[0m\u001b[1;33m,\u001b[0m \u001b[1;32mFalse\u001b[0m\u001b[1;33m]\u001b[0m\u001b[1;33m:\u001b[0m\u001b[1;33m\u001b[0m\u001b[1;33m\u001b[0m\u001b[0m\n",
      "\u001b[0m\n",
      "ipdb> nside\n",
      "1\n",
      "ipdb> npix\n",
      "12\n",
      "ipdb> n\n",
      "> \u001b[1;32mc:\\users\\stefan\\dev\\hpmoc\\tests\\test_healpy_shim.py\u001b[0m(114)\u001b[0;36mtest_installed_pix2xyf_xyf2pix\u001b[1;34m()\u001b[0m\n",
      "\u001b[1;32m    112 \u001b[1;33m        i = np.arange(npix) if npix < MAX else np.random.randint(0, npix, MAX,\n",
      "\u001b[0m\u001b[1;32m    113 \u001b[1;33m                                                                 np.uint64)\n",
      "\u001b[0m\u001b[1;32m--> 114 \u001b[1;33m        \u001b[1;32mfor\u001b[0m \u001b[0mnest\u001b[0m \u001b[1;32min\u001b[0m \u001b[1;33m[\u001b[0m\u001b[1;32mTrue\u001b[0m\u001b[1;33m,\u001b[0m \u001b[1;32mFalse\u001b[0m\u001b[1;33m]\u001b[0m\u001b[1;33m:\u001b[0m\u001b[1;33m\u001b[0m\u001b[1;33m\u001b[0m\u001b[0m\n",
      "\u001b[0m\u001b[1;32m    115 \u001b[1;33m            assert (xyf2pix(nside, *pix2xyf(nside, i, nest=nest), nest=nest) ==\n",
      "\u001b[0m\u001b[1;32m    116 \u001b[1;33m                    i).all()\n",
      "\u001b[0m\n",
      "ipdb> i\n",
      "array([ 0,  1,  2,  3,  4,  5,  6,  7,  8,  9, 10, 11])\n",
      "ipdb> n\n",
      "> \u001b[1;32mc:\\users\\stefan\\dev\\hpmoc\\tests\\test_healpy_shim.py\u001b[0m(115)\u001b[0;36mtest_installed_pix2xyf_xyf2pix\u001b[1;34m()\u001b[0m\n",
      "\u001b[1;32m    113 \u001b[1;33m                                                                 np.uint64)\n",
      "\u001b[0m\u001b[1;32m    114 \u001b[1;33m        \u001b[1;32mfor\u001b[0m \u001b[0mnest\u001b[0m \u001b[1;32min\u001b[0m \u001b[1;33m[\u001b[0m\u001b[1;32mTrue\u001b[0m\u001b[1;33m,\u001b[0m \u001b[1;32mFalse\u001b[0m\u001b[1;33m]\u001b[0m\u001b[1;33m:\u001b[0m\u001b[1;33m\u001b[0m\u001b[1;33m\u001b[0m\u001b[0m\n",
      "\u001b[0m\u001b[1;32m--> 115 \u001b[1;33m            assert (xyf2pix(nside, *pix2xyf(nside, i, nest=nest), nest=nest) ==\n",
      "\u001b[0m\u001b[1;32m    116 \u001b[1;33m                    i).all()\n",
      "\u001b[0m\u001b[1;32m    117 \u001b[1;33m        \u001b[1;32massert\u001b[0m \u001b[1;33m(\u001b[0m\u001b[0mxyf2pix\u001b[0m\u001b[1;33m(\u001b[0m\u001b[0mnside\u001b[0m\u001b[1;33m,\u001b[0m \u001b[1;33m*\u001b[0m\u001b[0mpix2xyf\u001b[0m\u001b[1;33m(\u001b[0m\u001b[0mnside\u001b[0m\u001b[1;33m,\u001b[0m \u001b[0mi\u001b[0m\u001b[1;33m)\u001b[0m\u001b[1;33m)\u001b[0m \u001b[1;33m==\u001b[0m \u001b[0mi\u001b[0m\u001b[1;33m)\u001b[0m\u001b[1;33m.\u001b[0m\u001b[0mall\u001b[0m\u001b[1;33m(\u001b[0m\u001b[1;33m)\u001b[0m\u001b[1;33m\u001b[0m\u001b[1;33m\u001b[0m\u001b[0m\n",
      "\u001b[0m\n"
     ]
    },
    {
     "name": "stdout",
     "output_type": "stream",
     "text": [
      "ipdb> n\n",
      "> \u001b[1;32mc:\\users\\stefan\\dev\\hpmoc\\tests\\test_healpy_shim.py\u001b[0m(116)\u001b[0;36mtest_installed_pix2xyf_xyf2pix\u001b[1;34m()\u001b[0m\n",
      "\u001b[1;32m    114 \u001b[1;33m        \u001b[1;32mfor\u001b[0m \u001b[0mnest\u001b[0m \u001b[1;32min\u001b[0m \u001b[1;33m[\u001b[0m\u001b[1;32mTrue\u001b[0m\u001b[1;33m,\u001b[0m \u001b[1;32mFalse\u001b[0m\u001b[1;33m]\u001b[0m\u001b[1;33m:\u001b[0m\u001b[1;33m\u001b[0m\u001b[1;33m\u001b[0m\u001b[0m\n",
      "\u001b[0m\u001b[1;32m    115 \u001b[1;33m            assert (xyf2pix(nside, *pix2xyf(nside, i, nest=nest), nest=nest) ==\n",
      "\u001b[0m\u001b[1;32m--> 116 \u001b[1;33m                    i).all()\n",
      "\u001b[0m\u001b[1;32m    117 \u001b[1;33m        \u001b[1;32massert\u001b[0m \u001b[1;33m(\u001b[0m\u001b[0mxyf2pix\u001b[0m\u001b[1;33m(\u001b[0m\u001b[0mnside\u001b[0m\u001b[1;33m,\u001b[0m \u001b[1;33m*\u001b[0m\u001b[0mpix2xyf\u001b[0m\u001b[1;33m(\u001b[0m\u001b[0mnside\u001b[0m\u001b[1;33m,\u001b[0m \u001b[0mi\u001b[0m\u001b[1;33m)\u001b[0m\u001b[1;33m)\u001b[0m \u001b[1;33m==\u001b[0m \u001b[0mi\u001b[0m\u001b[1;33m)\u001b[0m\u001b[1;33m.\u001b[0m\u001b[0mall\u001b[0m\u001b[1;33m(\u001b[0m\u001b[1;33m)\u001b[0m\u001b[1;33m\u001b[0m\u001b[1;33m\u001b[0m\u001b[0m\n",
      "\u001b[0m\u001b[1;32m    118 \u001b[1;33m        \u001b[1;32mfor\u001b[0m \u001b[0ms\u001b[0m \u001b[1;32min\u001b[0m \u001b[1;33m[\u001b[0m\u001b[1;36m0\u001b[0m\u001b[1;33m,\u001b[0m \u001b[0mnp\u001b[0m\u001b[1;33m.\u001b[0m\u001b[0mrandom\u001b[0m\u001b[1;33m.\u001b[0m\u001b[0mrandint\u001b[0m\u001b[1;33m(\u001b[0m\u001b[1;36m0\u001b[0m\u001b[1;33m,\u001b[0m \u001b[0mnpix\u001b[0m\u001b[1;33m)\u001b[0m\u001b[1;33m,\u001b[0m \u001b[0mnpix\u001b[0m\u001b[1;33m-\u001b[0m\u001b[1;36m1\u001b[0m\u001b[1;33m]\u001b[0m\u001b[1;33m:\u001b[0m\u001b[1;33m\u001b[0m\u001b[1;33m\u001b[0m\u001b[0m\n",
      "\u001b[0m\n",
      "ipdb> n\n",
      "> \u001b[1;32mc:\\users\\stefan\\dev\\hpmoc\\tests\\test_healpy_shim.py\u001b[0m(115)\u001b[0;36mtest_installed_pix2xyf_xyf2pix\u001b[1;34m()\u001b[0m\n",
      "\u001b[1;32m    113 \u001b[1;33m                                                                 np.uint64)\n",
      "\u001b[0m\u001b[1;32m    114 \u001b[1;33m        \u001b[1;32mfor\u001b[0m \u001b[0mnest\u001b[0m \u001b[1;32min\u001b[0m \u001b[1;33m[\u001b[0m\u001b[1;32mTrue\u001b[0m\u001b[1;33m,\u001b[0m \u001b[1;32mFalse\u001b[0m\u001b[1;33m]\u001b[0m\u001b[1;33m:\u001b[0m\u001b[1;33m\u001b[0m\u001b[1;33m\u001b[0m\u001b[0m\n",
      "\u001b[0m\u001b[1;32m--> 115 \u001b[1;33m            assert (xyf2pix(nside, *pix2xyf(nside, i, nest=nest), nest=nest) ==\n",
      "\u001b[0m\u001b[1;32m    116 \u001b[1;33m                    i).all()\n",
      "\u001b[0m\u001b[1;32m    117 \u001b[1;33m        \u001b[1;32massert\u001b[0m \u001b[1;33m(\u001b[0m\u001b[0mxyf2pix\u001b[0m\u001b[1;33m(\u001b[0m\u001b[0mnside\u001b[0m\u001b[1;33m,\u001b[0m \u001b[1;33m*\u001b[0m\u001b[0mpix2xyf\u001b[0m\u001b[1;33m(\u001b[0m\u001b[0mnside\u001b[0m\u001b[1;33m,\u001b[0m \u001b[0mi\u001b[0m\u001b[1;33m)\u001b[0m\u001b[1;33m)\u001b[0m \u001b[1;33m==\u001b[0m \u001b[0mi\u001b[0m\u001b[1;33m)\u001b[0m\u001b[1;33m.\u001b[0m\u001b[0mall\u001b[0m\u001b[1;33m(\u001b[0m\u001b[1;33m)\u001b[0m\u001b[1;33m\u001b[0m\u001b[1;33m\u001b[0m\u001b[0m\n",
      "\u001b[0m\n",
      "ipdb> n\n",
      "> \u001b[1;32mc:\\users\\stefan\\dev\\hpmoc\\tests\\test_healpy_shim.py\u001b[0m(114)\u001b[0;36mtest_installed_pix2xyf_xyf2pix\u001b[1;34m()\u001b[0m\n",
      "\u001b[1;32m    112 \u001b[1;33m        i = np.arange(npix) if npix < MAX else np.random.randint(0, npix, MAX,\n",
      "\u001b[0m\u001b[1;32m    113 \u001b[1;33m                                                                 np.uint64)\n",
      "\u001b[0m\u001b[1;32m--> 114 \u001b[1;33m        \u001b[1;32mfor\u001b[0m \u001b[0mnest\u001b[0m \u001b[1;32min\u001b[0m \u001b[1;33m[\u001b[0m\u001b[1;32mTrue\u001b[0m\u001b[1;33m,\u001b[0m \u001b[1;32mFalse\u001b[0m\u001b[1;33m]\u001b[0m\u001b[1;33m:\u001b[0m\u001b[1;33m\u001b[0m\u001b[1;33m\u001b[0m\u001b[0m\n",
      "\u001b[0m\u001b[1;32m    115 \u001b[1;33m            assert (xyf2pix(nside, *pix2xyf(nside, i, nest=nest), nest=nest) ==\n",
      "\u001b[0m\u001b[1;32m    116 \u001b[1;33m                    i).all()\n",
      "\u001b[0m\n",
      "ipdb> n\n",
      "> \u001b[1;32mc:\\users\\stefan\\dev\\hpmoc\\tests\\test_healpy_shim.py\u001b[0m(115)\u001b[0;36mtest_installed_pix2xyf_xyf2pix\u001b[1;34m()\u001b[0m\n",
      "\u001b[1;32m    113 \u001b[1;33m                                                                 np.uint64)\n",
      "\u001b[0m\u001b[1;32m    114 \u001b[1;33m        \u001b[1;32mfor\u001b[0m \u001b[0mnest\u001b[0m \u001b[1;32min\u001b[0m \u001b[1;33m[\u001b[0m\u001b[1;32mTrue\u001b[0m\u001b[1;33m,\u001b[0m \u001b[1;32mFalse\u001b[0m\u001b[1;33m]\u001b[0m\u001b[1;33m:\u001b[0m\u001b[1;33m\u001b[0m\u001b[1;33m\u001b[0m\u001b[0m\n",
      "\u001b[0m\u001b[1;32m--> 115 \u001b[1;33m            assert (xyf2pix(nside, *pix2xyf(nside, i, nest=nest), nest=nest) ==\n",
      "\u001b[0m\u001b[1;32m    116 \u001b[1;33m                    i).all()\n",
      "\u001b[0m\u001b[1;32m    117 \u001b[1;33m        \u001b[1;32massert\u001b[0m \u001b[1;33m(\u001b[0m\u001b[0mxyf2pix\u001b[0m\u001b[1;33m(\u001b[0m\u001b[0mnside\u001b[0m\u001b[1;33m,\u001b[0m \u001b[1;33m*\u001b[0m\u001b[0mpix2xyf\u001b[0m\u001b[1;33m(\u001b[0m\u001b[0mnside\u001b[0m\u001b[1;33m,\u001b[0m \u001b[0mi\u001b[0m\u001b[1;33m)\u001b[0m\u001b[1;33m)\u001b[0m \u001b[1;33m==\u001b[0m \u001b[0mi\u001b[0m\u001b[1;33m)\u001b[0m\u001b[1;33m.\u001b[0m\u001b[0mall\u001b[0m\u001b[1;33m(\u001b[0m\u001b[1;33m)\u001b[0m\u001b[1;33m\u001b[0m\u001b[1;33m\u001b[0m\u001b[0m\n",
      "\u001b[0m\n",
      "ipdb> n\n",
      "> \u001b[1;32mc:\\users\\stefan\\dev\\hpmoc\\tests\\test_healpy_shim.py\u001b[0m(116)\u001b[0;36mtest_installed_pix2xyf_xyf2pix\u001b[1;34m()\u001b[0m\n",
      "\u001b[1;32m    114 \u001b[1;33m        \u001b[1;32mfor\u001b[0m \u001b[0mnest\u001b[0m \u001b[1;32min\u001b[0m \u001b[1;33m[\u001b[0m\u001b[1;32mTrue\u001b[0m\u001b[1;33m,\u001b[0m \u001b[1;32mFalse\u001b[0m\u001b[1;33m]\u001b[0m\u001b[1;33m:\u001b[0m\u001b[1;33m\u001b[0m\u001b[1;33m\u001b[0m\u001b[0m\n",
      "\u001b[0m\u001b[1;32m    115 \u001b[1;33m            assert (xyf2pix(nside, *pix2xyf(nside, i, nest=nest), nest=nest) ==\n",
      "\u001b[0m\u001b[1;32m--> 116 \u001b[1;33m                    i).all()\n",
      "\u001b[0m\u001b[1;32m    117 \u001b[1;33m        \u001b[1;32massert\u001b[0m \u001b[1;33m(\u001b[0m\u001b[0mxyf2pix\u001b[0m\u001b[1;33m(\u001b[0m\u001b[0mnside\u001b[0m\u001b[1;33m,\u001b[0m \u001b[1;33m*\u001b[0m\u001b[0mpix2xyf\u001b[0m\u001b[1;33m(\u001b[0m\u001b[0mnside\u001b[0m\u001b[1;33m,\u001b[0m \u001b[0mi\u001b[0m\u001b[1;33m)\u001b[0m\u001b[1;33m)\u001b[0m \u001b[1;33m==\u001b[0m \u001b[0mi\u001b[0m\u001b[1;33m)\u001b[0m\u001b[1;33m.\u001b[0m\u001b[0mall\u001b[0m\u001b[1;33m(\u001b[0m\u001b[1;33m)\u001b[0m\u001b[1;33m\u001b[0m\u001b[1;33m\u001b[0m\u001b[0m\n",
      "\u001b[0m\u001b[1;32m    118 \u001b[1;33m        \u001b[1;32mfor\u001b[0m \u001b[0ms\u001b[0m \u001b[1;32min\u001b[0m \u001b[1;33m[\u001b[0m\u001b[1;36m0\u001b[0m\u001b[1;33m,\u001b[0m \u001b[0mnp\u001b[0m\u001b[1;33m.\u001b[0m\u001b[0mrandom\u001b[0m\u001b[1;33m.\u001b[0m\u001b[0mrandint\u001b[0m\u001b[1;33m(\u001b[0m\u001b[1;36m0\u001b[0m\u001b[1;33m,\u001b[0m \u001b[0mnpix\u001b[0m\u001b[1;33m)\u001b[0m\u001b[1;33m,\u001b[0m \u001b[0mnpix\u001b[0m\u001b[1;33m-\u001b[0m\u001b[1;36m1\u001b[0m\u001b[1;33m]\u001b[0m\u001b[1;33m:\u001b[0m\u001b[1;33m\u001b[0m\u001b[1;33m\u001b[0m\u001b[0m\n",
      "\u001b[0m\n",
      "ipdb> n\n",
      "> \u001b[1;32mc:\\users\\stefan\\dev\\hpmoc\\tests\\test_healpy_shim.py\u001b[0m(115)\u001b[0;36mtest_installed_pix2xyf_xyf2pix\u001b[1;34m()\u001b[0m\n",
      "\u001b[1;32m    113 \u001b[1;33m                                                                 np.uint64)\n",
      "\u001b[0m\u001b[1;32m    114 \u001b[1;33m        \u001b[1;32mfor\u001b[0m \u001b[0mnest\u001b[0m \u001b[1;32min\u001b[0m \u001b[1;33m[\u001b[0m\u001b[1;32mTrue\u001b[0m\u001b[1;33m,\u001b[0m \u001b[1;32mFalse\u001b[0m\u001b[1;33m]\u001b[0m\u001b[1;33m:\u001b[0m\u001b[1;33m\u001b[0m\u001b[1;33m\u001b[0m\u001b[0m\n",
      "\u001b[0m\u001b[1;32m--> 115 \u001b[1;33m            assert (xyf2pix(nside, *pix2xyf(nside, i, nest=nest), nest=nest) ==\n",
      "\u001b[0m\u001b[1;32m    116 \u001b[1;33m                    i).all()\n",
      "\u001b[0m\u001b[1;32m    117 \u001b[1;33m        \u001b[1;32massert\u001b[0m \u001b[1;33m(\u001b[0m\u001b[0mxyf2pix\u001b[0m\u001b[1;33m(\u001b[0m\u001b[0mnside\u001b[0m\u001b[1;33m,\u001b[0m \u001b[1;33m*\u001b[0m\u001b[0mpix2xyf\u001b[0m\u001b[1;33m(\u001b[0m\u001b[0mnside\u001b[0m\u001b[1;33m,\u001b[0m \u001b[0mi\u001b[0m\u001b[1;33m)\u001b[0m\u001b[1;33m)\u001b[0m \u001b[1;33m==\u001b[0m \u001b[0mi\u001b[0m\u001b[1;33m)\u001b[0m\u001b[1;33m.\u001b[0m\u001b[0mall\u001b[0m\u001b[1;33m(\u001b[0m\u001b[1;33m)\u001b[0m\u001b[1;33m\u001b[0m\u001b[1;33m\u001b[0m\u001b[0m\n",
      "\u001b[0m\n",
      "ipdb> n\n",
      "> \u001b[1;32mc:\\users\\stefan\\dev\\hpmoc\\tests\\test_healpy_shim.py\u001b[0m(114)\u001b[0;36mtest_installed_pix2xyf_xyf2pix\u001b[1;34m()\u001b[0m\n",
      "\u001b[1;32m    112 \u001b[1;33m        i = np.arange(npix) if npix < MAX else np.random.randint(0, npix, MAX,\n",
      "\u001b[0m\u001b[1;32m    113 \u001b[1;33m                                                                 np.uint64)\n",
      "\u001b[0m\u001b[1;32m--> 114 \u001b[1;33m        \u001b[1;32mfor\u001b[0m \u001b[0mnest\u001b[0m \u001b[1;32min\u001b[0m \u001b[1;33m[\u001b[0m\u001b[1;32mTrue\u001b[0m\u001b[1;33m,\u001b[0m \u001b[1;32mFalse\u001b[0m\u001b[1;33m]\u001b[0m\u001b[1;33m:\u001b[0m\u001b[1;33m\u001b[0m\u001b[1;33m\u001b[0m\u001b[0m\n",
      "\u001b[0m\u001b[1;32m    115 \u001b[1;33m            assert (xyf2pix(nside, *pix2xyf(nside, i, nest=nest), nest=nest) ==\n",
      "\u001b[0m\u001b[1;32m    116 \u001b[1;33m                    i).all()\n",
      "\u001b[0m\n",
      "ipdb> n\n",
      "> \u001b[1;32mc:\\users\\stefan\\dev\\hpmoc\\tests\\test_healpy_shim.py\u001b[0m(117)\u001b[0;36mtest_installed_pix2xyf_xyf2pix\u001b[1;34m()\u001b[0m\n",
      "\u001b[1;32m    115 \u001b[1;33m            assert (xyf2pix(nside, *pix2xyf(nside, i, nest=nest), nest=nest) ==\n",
      "\u001b[0m\u001b[1;32m    116 \u001b[1;33m                    i).all()\n",
      "\u001b[0m\u001b[1;32m--> 117 \u001b[1;33m        \u001b[1;32massert\u001b[0m \u001b[1;33m(\u001b[0m\u001b[0mxyf2pix\u001b[0m\u001b[1;33m(\u001b[0m\u001b[0mnside\u001b[0m\u001b[1;33m,\u001b[0m \u001b[1;33m*\u001b[0m\u001b[0mpix2xyf\u001b[0m\u001b[1;33m(\u001b[0m\u001b[0mnside\u001b[0m\u001b[1;33m,\u001b[0m \u001b[0mi\u001b[0m\u001b[1;33m)\u001b[0m\u001b[1;33m)\u001b[0m \u001b[1;33m==\u001b[0m \u001b[0mi\u001b[0m\u001b[1;33m)\u001b[0m\u001b[1;33m.\u001b[0m\u001b[0mall\u001b[0m\u001b[1;33m(\u001b[0m\u001b[1;33m)\u001b[0m\u001b[1;33m\u001b[0m\u001b[1;33m\u001b[0m\u001b[0m\n",
      "\u001b[0m\u001b[1;32m    118 \u001b[1;33m        \u001b[1;32mfor\u001b[0m \u001b[0ms\u001b[0m \u001b[1;32min\u001b[0m \u001b[1;33m[\u001b[0m\u001b[1;36m0\u001b[0m\u001b[1;33m,\u001b[0m \u001b[0mnp\u001b[0m\u001b[1;33m.\u001b[0m\u001b[0mrandom\u001b[0m\u001b[1;33m.\u001b[0m\u001b[0mrandint\u001b[0m\u001b[1;33m(\u001b[0m\u001b[1;36m0\u001b[0m\u001b[1;33m,\u001b[0m \u001b[0mnpix\u001b[0m\u001b[1;33m)\u001b[0m\u001b[1;33m,\u001b[0m \u001b[0mnpix\u001b[0m\u001b[1;33m-\u001b[0m\u001b[1;36m1\u001b[0m\u001b[1;33m]\u001b[0m\u001b[1;33m:\u001b[0m\u001b[1;33m\u001b[0m\u001b[1;33m\u001b[0m\u001b[0m\n",
      "\u001b[0m\u001b[1;32m    119 \u001b[1;33m            \u001b[1;32mfor\u001b[0m \u001b[0mnest\u001b[0m \u001b[1;32min\u001b[0m \u001b[1;33m[\u001b[0m\u001b[1;32mTrue\u001b[0m\u001b[1;33m,\u001b[0m \u001b[1;32mFalse\u001b[0m\u001b[1;33m]\u001b[0m\u001b[1;33m:\u001b[0m\u001b[1;33m\u001b[0m\u001b[1;33m\u001b[0m\u001b[0m\n",
      "\u001b[0m\n",
      "ipdb> n\n",
      "> \u001b[1;32mc:\\users\\stefan\\dev\\hpmoc\\tests\\test_healpy_shim.py\u001b[0m(118)\u001b[0;36mtest_installed_pix2xyf_xyf2pix\u001b[1;34m()\u001b[0m\n",
      "\u001b[1;32m    116 \u001b[1;33m                    i).all()\n",
      "\u001b[0m\u001b[1;32m    117 \u001b[1;33m        \u001b[1;32massert\u001b[0m \u001b[1;33m(\u001b[0m\u001b[0mxyf2pix\u001b[0m\u001b[1;33m(\u001b[0m\u001b[0mnside\u001b[0m\u001b[1;33m,\u001b[0m \u001b[1;33m*\u001b[0m\u001b[0mpix2xyf\u001b[0m\u001b[1;33m(\u001b[0m\u001b[0mnside\u001b[0m\u001b[1;33m,\u001b[0m \u001b[0mi\u001b[0m\u001b[1;33m)\u001b[0m\u001b[1;33m)\u001b[0m \u001b[1;33m==\u001b[0m \u001b[0mi\u001b[0m\u001b[1;33m)\u001b[0m\u001b[1;33m.\u001b[0m\u001b[0mall\u001b[0m\u001b[1;33m(\u001b[0m\u001b[1;33m)\u001b[0m\u001b[1;33m\u001b[0m\u001b[1;33m\u001b[0m\u001b[0m\n",
      "\u001b[0m\u001b[1;32m--> 118 \u001b[1;33m        \u001b[1;32mfor\u001b[0m \u001b[0ms\u001b[0m \u001b[1;32min\u001b[0m \u001b[1;33m[\u001b[0m\u001b[1;36m0\u001b[0m\u001b[1;33m,\u001b[0m \u001b[0mnp\u001b[0m\u001b[1;33m.\u001b[0m\u001b[0mrandom\u001b[0m\u001b[1;33m.\u001b[0m\u001b[0mrandint\u001b[0m\u001b[1;33m(\u001b[0m\u001b[1;36m0\u001b[0m\u001b[1;33m,\u001b[0m \u001b[0mnpix\u001b[0m\u001b[1;33m)\u001b[0m\u001b[1;33m,\u001b[0m \u001b[0mnpix\u001b[0m\u001b[1;33m-\u001b[0m\u001b[1;36m1\u001b[0m\u001b[1;33m]\u001b[0m\u001b[1;33m:\u001b[0m\u001b[1;33m\u001b[0m\u001b[1;33m\u001b[0m\u001b[0m\n",
      "\u001b[0m\u001b[1;32m    119 \u001b[1;33m            \u001b[1;32mfor\u001b[0m \u001b[0mnest\u001b[0m \u001b[1;32min\u001b[0m \u001b[1;33m[\u001b[0m\u001b[1;32mTrue\u001b[0m\u001b[1;33m,\u001b[0m \u001b[1;32mFalse\u001b[0m\u001b[1;33m]\u001b[0m\u001b[1;33m:\u001b[0m\u001b[1;33m\u001b[0m\u001b[1;33m\u001b[0m\u001b[0m\n",
      "\u001b[0m\u001b[1;32m    120 \u001b[1;33m                assert (xyf2pix(nside, *pix2xyf(nside, s, nest=nest),\n",
      "\u001b[0m\n"
     ]
    },
    {
     "name": "stdout",
     "output_type": "stream",
     "text": [
      "ipdb> n\n",
      "> \u001b[1;32mc:\\users\\stefan\\dev\\hpmoc\\tests\\test_healpy_shim.py\u001b[0m(119)\u001b[0;36mtest_installed_pix2xyf_xyf2pix\u001b[1;34m()\u001b[0m\n",
      "\u001b[1;32m    117 \u001b[1;33m        \u001b[1;32massert\u001b[0m \u001b[1;33m(\u001b[0m\u001b[0mxyf2pix\u001b[0m\u001b[1;33m(\u001b[0m\u001b[0mnside\u001b[0m\u001b[1;33m,\u001b[0m \u001b[1;33m*\u001b[0m\u001b[0mpix2xyf\u001b[0m\u001b[1;33m(\u001b[0m\u001b[0mnside\u001b[0m\u001b[1;33m,\u001b[0m \u001b[0mi\u001b[0m\u001b[1;33m)\u001b[0m\u001b[1;33m)\u001b[0m \u001b[1;33m==\u001b[0m \u001b[0mi\u001b[0m\u001b[1;33m)\u001b[0m\u001b[1;33m.\u001b[0m\u001b[0mall\u001b[0m\u001b[1;33m(\u001b[0m\u001b[1;33m)\u001b[0m\u001b[1;33m\u001b[0m\u001b[1;33m\u001b[0m\u001b[0m\n",
      "\u001b[0m\u001b[1;32m    118 \u001b[1;33m        \u001b[1;32mfor\u001b[0m \u001b[0ms\u001b[0m \u001b[1;32min\u001b[0m \u001b[1;33m[\u001b[0m\u001b[1;36m0\u001b[0m\u001b[1;33m,\u001b[0m \u001b[0mnp\u001b[0m\u001b[1;33m.\u001b[0m\u001b[0mrandom\u001b[0m\u001b[1;33m.\u001b[0m\u001b[0mrandint\u001b[0m\u001b[1;33m(\u001b[0m\u001b[1;36m0\u001b[0m\u001b[1;33m,\u001b[0m \u001b[0mnpix\u001b[0m\u001b[1;33m)\u001b[0m\u001b[1;33m,\u001b[0m \u001b[0mnpix\u001b[0m\u001b[1;33m-\u001b[0m\u001b[1;36m1\u001b[0m\u001b[1;33m]\u001b[0m\u001b[1;33m:\u001b[0m\u001b[1;33m\u001b[0m\u001b[1;33m\u001b[0m\u001b[0m\n",
      "\u001b[0m\u001b[1;32m--> 119 \u001b[1;33m            \u001b[1;32mfor\u001b[0m \u001b[0mnest\u001b[0m \u001b[1;32min\u001b[0m \u001b[1;33m[\u001b[0m\u001b[1;32mTrue\u001b[0m\u001b[1;33m,\u001b[0m \u001b[1;32mFalse\u001b[0m\u001b[1;33m]\u001b[0m\u001b[1;33m:\u001b[0m\u001b[1;33m\u001b[0m\u001b[1;33m\u001b[0m\u001b[0m\n",
      "\u001b[0m\u001b[1;32m    120 \u001b[1;33m                assert (xyf2pix(nside, *pix2xyf(nside, s, nest=nest),\n",
      "\u001b[0m\u001b[1;32m    121 \u001b[1;33m                                nest=nest) == s)\n",
      "\u001b[0m\n",
      "ipdb> n\n",
      "> \u001b[1;32mc:\\users\\stefan\\dev\\hpmoc\\tests\\test_healpy_shim.py\u001b[0m(120)\u001b[0;36mtest_installed_pix2xyf_xyf2pix\u001b[1;34m()\u001b[0m\n",
      "\u001b[1;32m    118 \u001b[1;33m        \u001b[1;32mfor\u001b[0m \u001b[0ms\u001b[0m \u001b[1;32min\u001b[0m \u001b[1;33m[\u001b[0m\u001b[1;36m0\u001b[0m\u001b[1;33m,\u001b[0m \u001b[0mnp\u001b[0m\u001b[1;33m.\u001b[0m\u001b[0mrandom\u001b[0m\u001b[1;33m.\u001b[0m\u001b[0mrandint\u001b[0m\u001b[1;33m(\u001b[0m\u001b[1;36m0\u001b[0m\u001b[1;33m,\u001b[0m \u001b[0mnpix\u001b[0m\u001b[1;33m)\u001b[0m\u001b[1;33m,\u001b[0m \u001b[0mnpix\u001b[0m\u001b[1;33m-\u001b[0m\u001b[1;36m1\u001b[0m\u001b[1;33m]\u001b[0m\u001b[1;33m:\u001b[0m\u001b[1;33m\u001b[0m\u001b[1;33m\u001b[0m\u001b[0m\n",
      "\u001b[0m\u001b[1;32m    119 \u001b[1;33m            \u001b[1;32mfor\u001b[0m \u001b[0mnest\u001b[0m \u001b[1;32min\u001b[0m \u001b[1;33m[\u001b[0m\u001b[1;32mTrue\u001b[0m\u001b[1;33m,\u001b[0m \u001b[1;32mFalse\u001b[0m\u001b[1;33m]\u001b[0m\u001b[1;33m:\u001b[0m\u001b[1;33m\u001b[0m\u001b[1;33m\u001b[0m\u001b[0m\n",
      "\u001b[0m\u001b[1;32m--> 120 \u001b[1;33m                assert (xyf2pix(nside, *pix2xyf(nside, s, nest=nest),\n",
      "\u001b[0m\u001b[1;32m    121 \u001b[1;33m                                nest=nest) == s)\n",
      "\u001b[0m\u001b[1;32m    122 \u001b[1;33m            \u001b[1;32massert\u001b[0m \u001b[0mxyf2pix\u001b[0m\u001b[1;33m(\u001b[0m\u001b[0mnside\u001b[0m\u001b[1;33m,\u001b[0m \u001b[1;33m*\u001b[0m\u001b[0mpix2xyf\u001b[0m\u001b[1;33m(\u001b[0m\u001b[0mnside\u001b[0m\u001b[1;33m,\u001b[0m \u001b[0ms\u001b[0m\u001b[1;33m)\u001b[0m\u001b[1;33m)\u001b[0m \u001b[1;33m==\u001b[0m \u001b[0ms\u001b[0m\u001b[1;33m\u001b[0m\u001b[1;33m\u001b[0m\u001b[0m\n",
      "\u001b[0m\n",
      "ipdb> h\n",
      "\n",
      "Documented commands (type help <topic>):\n",
      "========================================\n",
      "EOF    commands   enable    ll        pp       s                until \n",
      "a      condition  exit      longlist  psource  skip_hidden      up    \n",
      "alias  cont       h         n         q        skip_predicates  w     \n",
      "args   context    help      next      quit     source           whatis\n",
      "b      continue   ignore    p         r        step             where \n",
      "break  d          interact  pdef      restart  tbreak         \n",
      "bt     debug      j         pdoc      return   u              \n",
      "c      disable    jump      pfile     retval   unalias        \n",
      "cl     display    l         pinfo     run      undisplay      \n",
      "clear  down       list      pinfo2    rv       unt            \n",
      "\n",
      "Miscellaneous help topics:\n",
      "==========================\n",
      "exec  pdb\n",
      "\n",
      "ipdb> commands\n",
      "(com) h u\n",
      "(com) h unt\n",
      "(com) c\n",
      "ipdb> h u\n",
      "u(p) [count]\n",
      "        Move the current frame count (default one) levels up in the\n",
      "        stack trace (to an older frame).\n",
      "\n",
      "        Will skip hidden frames.\n",
      "ipdb> h unt\n",
      "unt(il) [lineno]\n",
      "        Without argument, continue execution until the line with a\n",
      "        number greater than the current one is reached.  With a line\n",
      "        number, continue execution until a line with a number greater\n",
      "        or equal to that is reached.  In both cases, also stop when\n",
      "        the current frame returns.\n",
      "ipdb> n\n",
      "> \u001b[1;32mc:\\users\\stefan\\dev\\hpmoc\\tests\\test_healpy_shim.py\u001b[0m(121)\u001b[0;36mtest_installed_pix2xyf_xyf2pix\u001b[1;34m()\u001b[0m\n",
      "\u001b[1;32m    118 \u001b[1;33m        \u001b[1;32mfor\u001b[0m \u001b[0ms\u001b[0m \u001b[1;32min\u001b[0m \u001b[1;33m[\u001b[0m\u001b[1;36m0\u001b[0m\u001b[1;33m,\u001b[0m \u001b[0mnp\u001b[0m\u001b[1;33m.\u001b[0m\u001b[0mrandom\u001b[0m\u001b[1;33m.\u001b[0m\u001b[0mrandint\u001b[0m\u001b[1;33m(\u001b[0m\u001b[1;36m0\u001b[0m\u001b[1;33m,\u001b[0m \u001b[0mnpix\u001b[0m\u001b[1;33m)\u001b[0m\u001b[1;33m,\u001b[0m \u001b[0mnpix\u001b[0m\u001b[1;33m-\u001b[0m\u001b[1;36m1\u001b[0m\u001b[1;33m]\u001b[0m\u001b[1;33m:\u001b[0m\u001b[1;33m\u001b[0m\u001b[1;33m\u001b[0m\u001b[0m\n",
      "\u001b[0m\u001b[1;32m    119 \u001b[1;33m            \u001b[1;32mfor\u001b[0m \u001b[0mnest\u001b[0m \u001b[1;32min\u001b[0m \u001b[1;33m[\u001b[0m\u001b[1;32mTrue\u001b[0m\u001b[1;33m,\u001b[0m \u001b[1;32mFalse\u001b[0m\u001b[1;33m]\u001b[0m\u001b[1;33m:\u001b[0m\u001b[1;33m\u001b[0m\u001b[1;33m\u001b[0m\u001b[0m\n",
      "\u001b[0m\u001b[1;32m    120 \u001b[1;33m                assert (xyf2pix(nside, *pix2xyf(nside, s, nest=nest),\n",
      "\u001b[0m\u001b[1;32m--> 121 \u001b[1;33m                                nest=nest) == s)\n",
      "\u001b[0m\u001b[1;32m    122 \u001b[1;33m            \u001b[1;32massert\u001b[0m \u001b[0mxyf2pix\u001b[0m\u001b[1;33m(\u001b[0m\u001b[0mnside\u001b[0m\u001b[1;33m,\u001b[0m \u001b[1;33m*\u001b[0m\u001b[0mpix2xyf\u001b[0m\u001b[1;33m(\u001b[0m\u001b[0mnside\u001b[0m\u001b[1;33m,\u001b[0m \u001b[0ms\u001b[0m\u001b[1;33m)\u001b[0m\u001b[1;33m)\u001b[0m \u001b[1;33m==\u001b[0m \u001b[0ms\u001b[0m\u001b[1;33m\u001b[0m\u001b[1;33m\u001b[0m\u001b[0m\n",
      "\u001b[0m\n",
      "ipdb> n\n",
      "> \u001b[1;32mc:\\users\\stefan\\dev\\hpmoc\\tests\\test_healpy_shim.py\u001b[0m(120)\u001b[0;36mtest_installed_pix2xyf_xyf2pix\u001b[1;34m()\u001b[0m\n",
      "\u001b[1;32m    118 \u001b[1;33m        \u001b[1;32mfor\u001b[0m \u001b[0ms\u001b[0m \u001b[1;32min\u001b[0m \u001b[1;33m[\u001b[0m\u001b[1;36m0\u001b[0m\u001b[1;33m,\u001b[0m \u001b[0mnp\u001b[0m\u001b[1;33m.\u001b[0m\u001b[0mrandom\u001b[0m\u001b[1;33m.\u001b[0m\u001b[0mrandint\u001b[0m\u001b[1;33m(\u001b[0m\u001b[1;36m0\u001b[0m\u001b[1;33m,\u001b[0m \u001b[0mnpix\u001b[0m\u001b[1;33m)\u001b[0m\u001b[1;33m,\u001b[0m \u001b[0mnpix\u001b[0m\u001b[1;33m-\u001b[0m\u001b[1;36m1\u001b[0m\u001b[1;33m]\u001b[0m\u001b[1;33m:\u001b[0m\u001b[1;33m\u001b[0m\u001b[1;33m\u001b[0m\u001b[0m\n",
      "\u001b[0m\u001b[1;32m    119 \u001b[1;33m            \u001b[1;32mfor\u001b[0m \u001b[0mnest\u001b[0m \u001b[1;32min\u001b[0m \u001b[1;33m[\u001b[0m\u001b[1;32mTrue\u001b[0m\u001b[1;33m,\u001b[0m \u001b[1;32mFalse\u001b[0m\u001b[1;33m]\u001b[0m\u001b[1;33m:\u001b[0m\u001b[1;33m\u001b[0m\u001b[1;33m\u001b[0m\u001b[0m\n",
      "\u001b[0m\u001b[1;32m--> 120 \u001b[1;33m                assert (xyf2pix(nside, *pix2xyf(nside, s, nest=nest),\n",
      "\u001b[0m\u001b[1;32m    121 \u001b[1;33m                                nest=nest) == s)\n",
      "\u001b[0m\u001b[1;32m    122 \u001b[1;33m            \u001b[1;32massert\u001b[0m \u001b[0mxyf2pix\u001b[0m\u001b[1;33m(\u001b[0m\u001b[0mnside\u001b[0m\u001b[1;33m,\u001b[0m \u001b[1;33m*\u001b[0m\u001b[0mpix2xyf\u001b[0m\u001b[1;33m(\u001b[0m\u001b[0mnside\u001b[0m\u001b[1;33m,\u001b[0m \u001b[0ms\u001b[0m\u001b[1;33m)\u001b[0m\u001b[1;33m)\u001b[0m \u001b[1;33m==\u001b[0m \u001b[0ms\u001b[0m\u001b[1;33m\u001b[0m\u001b[1;33m\u001b[0m\u001b[0m\n",
      "\u001b[0m\n",
      "ipdb> n\n",
      "> \u001b[1;32mc:\\users\\stefan\\dev\\hpmoc\\tests\\test_healpy_shim.py\u001b[0m(121)\u001b[0;36mtest_installed_pix2xyf_xyf2pix\u001b[1;34m()\u001b[0m\n",
      "\u001b[1;32m    118 \u001b[1;33m        \u001b[1;32mfor\u001b[0m \u001b[0ms\u001b[0m \u001b[1;32min\u001b[0m \u001b[1;33m[\u001b[0m\u001b[1;36m0\u001b[0m\u001b[1;33m,\u001b[0m \u001b[0mnp\u001b[0m\u001b[1;33m.\u001b[0m\u001b[0mrandom\u001b[0m\u001b[1;33m.\u001b[0m\u001b[0mrandint\u001b[0m\u001b[1;33m(\u001b[0m\u001b[1;36m0\u001b[0m\u001b[1;33m,\u001b[0m \u001b[0mnpix\u001b[0m\u001b[1;33m)\u001b[0m\u001b[1;33m,\u001b[0m \u001b[0mnpix\u001b[0m\u001b[1;33m-\u001b[0m\u001b[1;36m1\u001b[0m\u001b[1;33m]\u001b[0m\u001b[1;33m:\u001b[0m\u001b[1;33m\u001b[0m\u001b[1;33m\u001b[0m\u001b[0m\n",
      "\u001b[0m\u001b[1;32m    119 \u001b[1;33m            \u001b[1;32mfor\u001b[0m \u001b[0mnest\u001b[0m \u001b[1;32min\u001b[0m \u001b[1;33m[\u001b[0m\u001b[1;32mTrue\u001b[0m\u001b[1;33m,\u001b[0m \u001b[1;32mFalse\u001b[0m\u001b[1;33m]\u001b[0m\u001b[1;33m:\u001b[0m\u001b[1;33m\u001b[0m\u001b[1;33m\u001b[0m\u001b[0m\n",
      "\u001b[0m\u001b[1;32m    120 \u001b[1;33m                assert (xyf2pix(nside, *pix2xyf(nside, s, nest=nest),\n",
      "\u001b[0m\u001b[1;32m--> 121 \u001b[1;33m                                nest=nest) == s)\n",
      "\u001b[0m\u001b[1;32m    122 \u001b[1;33m            \u001b[1;32massert\u001b[0m \u001b[0mxyf2pix\u001b[0m\u001b[1;33m(\u001b[0m\u001b[0mnside\u001b[0m\u001b[1;33m,\u001b[0m \u001b[1;33m*\u001b[0m\u001b[0mpix2xyf\u001b[0m\u001b[1;33m(\u001b[0m\u001b[0mnside\u001b[0m\u001b[1;33m,\u001b[0m \u001b[0ms\u001b[0m\u001b[1;33m)\u001b[0m\u001b[1;33m)\u001b[0m \u001b[1;33m==\u001b[0m \u001b[0ms\u001b[0m\u001b[1;33m\u001b[0m\u001b[1;33m\u001b[0m\u001b[0m\n",
      "\u001b[0m\n",
      "ipdb> n\n",
      "> \u001b[1;32mc:\\users\\stefan\\dev\\hpmoc\\tests\\test_healpy_shim.py\u001b[0m(120)\u001b[0;36mtest_installed_pix2xyf_xyf2pix\u001b[1;34m()\u001b[0m\n",
      "\u001b[1;32m    118 \u001b[1;33m        \u001b[1;32mfor\u001b[0m \u001b[0ms\u001b[0m \u001b[1;32min\u001b[0m \u001b[1;33m[\u001b[0m\u001b[1;36m0\u001b[0m\u001b[1;33m,\u001b[0m \u001b[0mnp\u001b[0m\u001b[1;33m.\u001b[0m\u001b[0mrandom\u001b[0m\u001b[1;33m.\u001b[0m\u001b[0mrandint\u001b[0m\u001b[1;33m(\u001b[0m\u001b[1;36m0\u001b[0m\u001b[1;33m,\u001b[0m \u001b[0mnpix\u001b[0m\u001b[1;33m)\u001b[0m\u001b[1;33m,\u001b[0m \u001b[0mnpix\u001b[0m\u001b[1;33m-\u001b[0m\u001b[1;36m1\u001b[0m\u001b[1;33m]\u001b[0m\u001b[1;33m:\u001b[0m\u001b[1;33m\u001b[0m\u001b[1;33m\u001b[0m\u001b[0m\n",
      "\u001b[0m\u001b[1;32m    119 \u001b[1;33m            \u001b[1;32mfor\u001b[0m \u001b[0mnest\u001b[0m \u001b[1;32min\u001b[0m \u001b[1;33m[\u001b[0m\u001b[1;32mTrue\u001b[0m\u001b[1;33m,\u001b[0m \u001b[1;32mFalse\u001b[0m\u001b[1;33m]\u001b[0m\u001b[1;33m:\u001b[0m\u001b[1;33m\u001b[0m\u001b[1;33m\u001b[0m\u001b[0m\n",
      "\u001b[0m\u001b[1;32m--> 120 \u001b[1;33m                assert (xyf2pix(nside, *pix2xyf(nside, s, nest=nest),\n",
      "\u001b[0m\u001b[1;32m    121 \u001b[1;33m                                nest=nest) == s)\n",
      "\u001b[0m\u001b[1;32m    122 \u001b[1;33m            \u001b[1;32massert\u001b[0m \u001b[0mxyf2pix\u001b[0m\u001b[1;33m(\u001b[0m\u001b[0mnside\u001b[0m\u001b[1;33m,\u001b[0m \u001b[1;33m*\u001b[0m\u001b[0mpix2xyf\u001b[0m\u001b[1;33m(\u001b[0m\u001b[0mnside\u001b[0m\u001b[1;33m,\u001b[0m \u001b[0ms\u001b[0m\u001b[1;33m)\u001b[0m\u001b[1;33m)\u001b[0m \u001b[1;33m==\u001b[0m \u001b[0ms\u001b[0m\u001b[1;33m\u001b[0m\u001b[1;33m\u001b[0m\u001b[0m\n",
      "\u001b[0m\n",
      "ipdb> n\n",
      "> \u001b[1;32mc:\\users\\stefan\\dev\\hpmoc\\tests\\test_healpy_shim.py\u001b[0m(119)\u001b[0;36mtest_installed_pix2xyf_xyf2pix\u001b[1;34m()\u001b[0m\n",
      "\u001b[1;32m    117 \u001b[1;33m        \u001b[1;32massert\u001b[0m \u001b[1;33m(\u001b[0m\u001b[0mxyf2pix\u001b[0m\u001b[1;33m(\u001b[0m\u001b[0mnside\u001b[0m\u001b[1;33m,\u001b[0m \u001b[1;33m*\u001b[0m\u001b[0mpix2xyf\u001b[0m\u001b[1;33m(\u001b[0m\u001b[0mnside\u001b[0m\u001b[1;33m,\u001b[0m \u001b[0mi\u001b[0m\u001b[1;33m)\u001b[0m\u001b[1;33m)\u001b[0m \u001b[1;33m==\u001b[0m \u001b[0mi\u001b[0m\u001b[1;33m)\u001b[0m\u001b[1;33m.\u001b[0m\u001b[0mall\u001b[0m\u001b[1;33m(\u001b[0m\u001b[1;33m)\u001b[0m\u001b[1;33m\u001b[0m\u001b[1;33m\u001b[0m\u001b[0m\n",
      "\u001b[0m\u001b[1;32m    118 \u001b[1;33m        \u001b[1;32mfor\u001b[0m \u001b[0ms\u001b[0m \u001b[1;32min\u001b[0m \u001b[1;33m[\u001b[0m\u001b[1;36m0\u001b[0m\u001b[1;33m,\u001b[0m \u001b[0mnp\u001b[0m\u001b[1;33m.\u001b[0m\u001b[0mrandom\u001b[0m\u001b[1;33m.\u001b[0m\u001b[0mrandint\u001b[0m\u001b[1;33m(\u001b[0m\u001b[1;36m0\u001b[0m\u001b[1;33m,\u001b[0m \u001b[0mnpix\u001b[0m\u001b[1;33m)\u001b[0m\u001b[1;33m,\u001b[0m \u001b[0mnpix\u001b[0m\u001b[1;33m-\u001b[0m\u001b[1;36m1\u001b[0m\u001b[1;33m]\u001b[0m\u001b[1;33m:\u001b[0m\u001b[1;33m\u001b[0m\u001b[1;33m\u001b[0m\u001b[0m\n",
      "\u001b[0m\u001b[1;32m--> 119 \u001b[1;33m            \u001b[1;32mfor\u001b[0m \u001b[0mnest\u001b[0m \u001b[1;32min\u001b[0m \u001b[1;33m[\u001b[0m\u001b[1;32mTrue\u001b[0m\u001b[1;33m,\u001b[0m \u001b[1;32mFalse\u001b[0m\u001b[1;33m]\u001b[0m\u001b[1;33m:\u001b[0m\u001b[1;33m\u001b[0m\u001b[1;33m\u001b[0m\u001b[0m\n",
      "\u001b[0m\u001b[1;32m    120 \u001b[1;33m                assert (xyf2pix(nside, *pix2xyf(nside, s, nest=nest),\n",
      "\u001b[0m\u001b[1;32m    121 \u001b[1;33m                                nest=nest) == s)\n",
      "\u001b[0m\n"
     ]
    },
    {
     "name": "stdout",
     "output_type": "stream",
     "text": [
      "ipdb> n\n",
      "> \u001b[1;32mc:\\users\\stefan\\dev\\hpmoc\\tests\\test_healpy_shim.py\u001b[0m(120)\u001b[0;36mtest_installed_pix2xyf_xyf2pix\u001b[1;34m()\u001b[0m\n",
      "\u001b[1;32m    118 \u001b[1;33m        \u001b[1;32mfor\u001b[0m \u001b[0ms\u001b[0m \u001b[1;32min\u001b[0m \u001b[1;33m[\u001b[0m\u001b[1;36m0\u001b[0m\u001b[1;33m,\u001b[0m \u001b[0mnp\u001b[0m\u001b[1;33m.\u001b[0m\u001b[0mrandom\u001b[0m\u001b[1;33m.\u001b[0m\u001b[0mrandint\u001b[0m\u001b[1;33m(\u001b[0m\u001b[1;36m0\u001b[0m\u001b[1;33m,\u001b[0m \u001b[0mnpix\u001b[0m\u001b[1;33m)\u001b[0m\u001b[1;33m,\u001b[0m \u001b[0mnpix\u001b[0m\u001b[1;33m-\u001b[0m\u001b[1;36m1\u001b[0m\u001b[1;33m]\u001b[0m\u001b[1;33m:\u001b[0m\u001b[1;33m\u001b[0m\u001b[1;33m\u001b[0m\u001b[0m\n",
      "\u001b[0m\u001b[1;32m    119 \u001b[1;33m            \u001b[1;32mfor\u001b[0m \u001b[0mnest\u001b[0m \u001b[1;32min\u001b[0m \u001b[1;33m[\u001b[0m\u001b[1;32mTrue\u001b[0m\u001b[1;33m,\u001b[0m \u001b[1;32mFalse\u001b[0m\u001b[1;33m]\u001b[0m\u001b[1;33m:\u001b[0m\u001b[1;33m\u001b[0m\u001b[1;33m\u001b[0m\u001b[0m\n",
      "\u001b[0m\u001b[1;32m--> 120 \u001b[1;33m                assert (xyf2pix(nside, *pix2xyf(nside, s, nest=nest),\n",
      "\u001b[0m\u001b[1;32m    121 \u001b[1;33m                                nest=nest) == s)\n",
      "\u001b[0m\u001b[1;32m    122 \u001b[1;33m            \u001b[1;32massert\u001b[0m \u001b[0mxyf2pix\u001b[0m\u001b[1;33m(\u001b[0m\u001b[0mnside\u001b[0m\u001b[1;33m,\u001b[0m \u001b[1;33m*\u001b[0m\u001b[0mpix2xyf\u001b[0m\u001b[1;33m(\u001b[0m\u001b[0mnside\u001b[0m\u001b[1;33m,\u001b[0m \u001b[0ms\u001b[0m\u001b[1;33m)\u001b[0m\u001b[1;33m)\u001b[0m \u001b[1;33m==\u001b[0m \u001b[0ms\u001b[0m\u001b[1;33m\u001b[0m\u001b[1;33m\u001b[0m\u001b[0m\n",
      "\u001b[0m\n",
      "ipdb> n\n",
      "> \u001b[1;32mc:\\users\\stefan\\dev\\hpmoc\\tests\\test_healpy_shim.py\u001b[0m(121)\u001b[0;36mtest_installed_pix2xyf_xyf2pix\u001b[1;34m()\u001b[0m\n",
      "\u001b[1;32m    118 \u001b[1;33m        \u001b[1;32mfor\u001b[0m \u001b[0ms\u001b[0m \u001b[1;32min\u001b[0m \u001b[1;33m[\u001b[0m\u001b[1;36m0\u001b[0m\u001b[1;33m,\u001b[0m \u001b[0mnp\u001b[0m\u001b[1;33m.\u001b[0m\u001b[0mrandom\u001b[0m\u001b[1;33m.\u001b[0m\u001b[0mrandint\u001b[0m\u001b[1;33m(\u001b[0m\u001b[1;36m0\u001b[0m\u001b[1;33m,\u001b[0m \u001b[0mnpix\u001b[0m\u001b[1;33m)\u001b[0m\u001b[1;33m,\u001b[0m \u001b[0mnpix\u001b[0m\u001b[1;33m-\u001b[0m\u001b[1;36m1\u001b[0m\u001b[1;33m]\u001b[0m\u001b[1;33m:\u001b[0m\u001b[1;33m\u001b[0m\u001b[1;33m\u001b[0m\u001b[0m\n",
      "\u001b[0m\u001b[1;32m    119 \u001b[1;33m            \u001b[1;32mfor\u001b[0m \u001b[0mnest\u001b[0m \u001b[1;32min\u001b[0m \u001b[1;33m[\u001b[0m\u001b[1;32mTrue\u001b[0m\u001b[1;33m,\u001b[0m \u001b[1;32mFalse\u001b[0m\u001b[1;33m]\u001b[0m\u001b[1;33m:\u001b[0m\u001b[1;33m\u001b[0m\u001b[1;33m\u001b[0m\u001b[0m\n",
      "\u001b[0m\u001b[1;32m    120 \u001b[1;33m                assert (xyf2pix(nside, *pix2xyf(nside, s, nest=nest),\n",
      "\u001b[0m\u001b[1;32m--> 121 \u001b[1;33m                                nest=nest) == s)\n",
      "\u001b[0m\u001b[1;32m    122 \u001b[1;33m            \u001b[1;32massert\u001b[0m \u001b[0mxyf2pix\u001b[0m\u001b[1;33m(\u001b[0m\u001b[0mnside\u001b[0m\u001b[1;33m,\u001b[0m \u001b[1;33m*\u001b[0m\u001b[0mpix2xyf\u001b[0m\u001b[1;33m(\u001b[0m\u001b[0mnside\u001b[0m\u001b[1;33m,\u001b[0m \u001b[0ms\u001b[0m\u001b[1;33m)\u001b[0m\u001b[1;33m)\u001b[0m \u001b[1;33m==\u001b[0m \u001b[0ms\u001b[0m\u001b[1;33m\u001b[0m\u001b[1;33m\u001b[0m\u001b[0m\n",
      "\u001b[0m\n",
      "ipdb> n\n",
      "> \u001b[1;32mc:\\users\\stefan\\dev\\hpmoc\\tests\\test_healpy_shim.py\u001b[0m(120)\u001b[0;36mtest_installed_pix2xyf_xyf2pix\u001b[1;34m()\u001b[0m\n",
      "\u001b[1;32m    118 \u001b[1;33m        \u001b[1;32mfor\u001b[0m \u001b[0ms\u001b[0m \u001b[1;32min\u001b[0m \u001b[1;33m[\u001b[0m\u001b[1;36m0\u001b[0m\u001b[1;33m,\u001b[0m \u001b[0mnp\u001b[0m\u001b[1;33m.\u001b[0m\u001b[0mrandom\u001b[0m\u001b[1;33m.\u001b[0m\u001b[0mrandint\u001b[0m\u001b[1;33m(\u001b[0m\u001b[1;36m0\u001b[0m\u001b[1;33m,\u001b[0m \u001b[0mnpix\u001b[0m\u001b[1;33m)\u001b[0m\u001b[1;33m,\u001b[0m \u001b[0mnpix\u001b[0m\u001b[1;33m-\u001b[0m\u001b[1;36m1\u001b[0m\u001b[1;33m]\u001b[0m\u001b[1;33m:\u001b[0m\u001b[1;33m\u001b[0m\u001b[1;33m\u001b[0m\u001b[0m\n",
      "\u001b[0m\u001b[1;32m    119 \u001b[1;33m            \u001b[1;32mfor\u001b[0m \u001b[0mnest\u001b[0m \u001b[1;32min\u001b[0m \u001b[1;33m[\u001b[0m\u001b[1;32mTrue\u001b[0m\u001b[1;33m,\u001b[0m \u001b[1;32mFalse\u001b[0m\u001b[1;33m]\u001b[0m\u001b[1;33m:\u001b[0m\u001b[1;33m\u001b[0m\u001b[1;33m\u001b[0m\u001b[0m\n",
      "\u001b[0m\u001b[1;32m--> 120 \u001b[1;33m                assert (xyf2pix(nside, *pix2xyf(nside, s, nest=nest),\n",
      "\u001b[0m\u001b[1;32m    121 \u001b[1;33m                                nest=nest) == s)\n",
      "\u001b[0m\u001b[1;32m    122 \u001b[1;33m            \u001b[1;32massert\u001b[0m \u001b[0mxyf2pix\u001b[0m\u001b[1;33m(\u001b[0m\u001b[0mnside\u001b[0m\u001b[1;33m,\u001b[0m \u001b[1;33m*\u001b[0m\u001b[0mpix2xyf\u001b[0m\u001b[1;33m(\u001b[0m\u001b[0mnside\u001b[0m\u001b[1;33m,\u001b[0m \u001b[0ms\u001b[0m\u001b[1;33m)\u001b[0m\u001b[1;33m)\u001b[0m \u001b[1;33m==\u001b[0m \u001b[0ms\u001b[0m\u001b[1;33m\u001b[0m\u001b[1;33m\u001b[0m\u001b[0m\n",
      "\u001b[0m\n",
      "ipdb> n\n",
      "> \u001b[1;32mc:\\users\\stefan\\dev\\hpmoc\\tests\\test_healpy_shim.py\u001b[0m(121)\u001b[0;36mtest_installed_pix2xyf_xyf2pix\u001b[1;34m()\u001b[0m\n",
      "\u001b[1;32m    118 \u001b[1;33m        \u001b[1;32mfor\u001b[0m \u001b[0ms\u001b[0m \u001b[1;32min\u001b[0m \u001b[1;33m[\u001b[0m\u001b[1;36m0\u001b[0m\u001b[1;33m,\u001b[0m \u001b[0mnp\u001b[0m\u001b[1;33m.\u001b[0m\u001b[0mrandom\u001b[0m\u001b[1;33m.\u001b[0m\u001b[0mrandint\u001b[0m\u001b[1;33m(\u001b[0m\u001b[1;36m0\u001b[0m\u001b[1;33m,\u001b[0m \u001b[0mnpix\u001b[0m\u001b[1;33m)\u001b[0m\u001b[1;33m,\u001b[0m \u001b[0mnpix\u001b[0m\u001b[1;33m-\u001b[0m\u001b[1;36m1\u001b[0m\u001b[1;33m]\u001b[0m\u001b[1;33m:\u001b[0m\u001b[1;33m\u001b[0m\u001b[1;33m\u001b[0m\u001b[0m\n",
      "\u001b[0m\u001b[1;32m    119 \u001b[1;33m            \u001b[1;32mfor\u001b[0m \u001b[0mnest\u001b[0m \u001b[1;32min\u001b[0m \u001b[1;33m[\u001b[0m\u001b[1;32mTrue\u001b[0m\u001b[1;33m,\u001b[0m \u001b[1;32mFalse\u001b[0m\u001b[1;33m]\u001b[0m\u001b[1;33m:\u001b[0m\u001b[1;33m\u001b[0m\u001b[1;33m\u001b[0m\u001b[0m\n",
      "\u001b[0m\u001b[1;32m    120 \u001b[1;33m                assert (xyf2pix(nside, *pix2xyf(nside, s, nest=nest),\n",
      "\u001b[0m\u001b[1;32m--> 121 \u001b[1;33m                                nest=nest) == s)\n",
      "\u001b[0m\u001b[1;32m    122 \u001b[1;33m            \u001b[1;32massert\u001b[0m \u001b[0mxyf2pix\u001b[0m\u001b[1;33m(\u001b[0m\u001b[0mnside\u001b[0m\u001b[1;33m,\u001b[0m \u001b[1;33m*\u001b[0m\u001b[0mpix2xyf\u001b[0m\u001b[1;33m(\u001b[0m\u001b[0mnside\u001b[0m\u001b[1;33m,\u001b[0m \u001b[0ms\u001b[0m\u001b[1;33m)\u001b[0m\u001b[1;33m)\u001b[0m \u001b[1;33m==\u001b[0m \u001b[0ms\u001b[0m\u001b[1;33m\u001b[0m\u001b[1;33m\u001b[0m\u001b[0m\n",
      "\u001b[0m\n",
      "ipdb> n\n",
      "> \u001b[1;32mc:\\users\\stefan\\dev\\hpmoc\\tests\\test_healpy_shim.py\u001b[0m(120)\u001b[0;36mtest_installed_pix2xyf_xyf2pix\u001b[1;34m()\u001b[0m\n",
      "\u001b[1;32m    118 \u001b[1;33m        \u001b[1;32mfor\u001b[0m \u001b[0ms\u001b[0m \u001b[1;32min\u001b[0m \u001b[1;33m[\u001b[0m\u001b[1;36m0\u001b[0m\u001b[1;33m,\u001b[0m \u001b[0mnp\u001b[0m\u001b[1;33m.\u001b[0m\u001b[0mrandom\u001b[0m\u001b[1;33m.\u001b[0m\u001b[0mrandint\u001b[0m\u001b[1;33m(\u001b[0m\u001b[1;36m0\u001b[0m\u001b[1;33m,\u001b[0m \u001b[0mnpix\u001b[0m\u001b[1;33m)\u001b[0m\u001b[1;33m,\u001b[0m \u001b[0mnpix\u001b[0m\u001b[1;33m-\u001b[0m\u001b[1;36m1\u001b[0m\u001b[1;33m]\u001b[0m\u001b[1;33m:\u001b[0m\u001b[1;33m\u001b[0m\u001b[1;33m\u001b[0m\u001b[0m\n",
      "\u001b[0m\u001b[1;32m    119 \u001b[1;33m            \u001b[1;32mfor\u001b[0m \u001b[0mnest\u001b[0m \u001b[1;32min\u001b[0m \u001b[1;33m[\u001b[0m\u001b[1;32mTrue\u001b[0m\u001b[1;33m,\u001b[0m \u001b[1;32mFalse\u001b[0m\u001b[1;33m]\u001b[0m\u001b[1;33m:\u001b[0m\u001b[1;33m\u001b[0m\u001b[1;33m\u001b[0m\u001b[0m\n",
      "\u001b[0m\u001b[1;32m--> 120 \u001b[1;33m                assert (xyf2pix(nside, *pix2xyf(nside, s, nest=nest),\n",
      "\u001b[0m\u001b[1;32m    121 \u001b[1;33m                                nest=nest) == s)\n",
      "\u001b[0m\u001b[1;32m    122 \u001b[1;33m            \u001b[1;32massert\u001b[0m \u001b[0mxyf2pix\u001b[0m\u001b[1;33m(\u001b[0m\u001b[0mnside\u001b[0m\u001b[1;33m,\u001b[0m \u001b[1;33m*\u001b[0m\u001b[0mpix2xyf\u001b[0m\u001b[1;33m(\u001b[0m\u001b[0mnside\u001b[0m\u001b[1;33m,\u001b[0m \u001b[0ms\u001b[0m\u001b[1;33m)\u001b[0m\u001b[1;33m)\u001b[0m \u001b[1;33m==\u001b[0m \u001b[0ms\u001b[0m\u001b[1;33m\u001b[0m\u001b[1;33m\u001b[0m\u001b[0m\n",
      "\u001b[0m\n",
      "ipdb> n\n",
      "> \u001b[1;32mc:\\users\\stefan\\dev\\hpmoc\\tests\\test_healpy_shim.py\u001b[0m(119)\u001b[0;36mtest_installed_pix2xyf_xyf2pix\u001b[1;34m()\u001b[0m\n",
      "\u001b[1;32m    117 \u001b[1;33m        \u001b[1;32massert\u001b[0m \u001b[1;33m(\u001b[0m\u001b[0mxyf2pix\u001b[0m\u001b[1;33m(\u001b[0m\u001b[0mnside\u001b[0m\u001b[1;33m,\u001b[0m \u001b[1;33m*\u001b[0m\u001b[0mpix2xyf\u001b[0m\u001b[1;33m(\u001b[0m\u001b[0mnside\u001b[0m\u001b[1;33m,\u001b[0m \u001b[0mi\u001b[0m\u001b[1;33m)\u001b[0m\u001b[1;33m)\u001b[0m \u001b[1;33m==\u001b[0m \u001b[0mi\u001b[0m\u001b[1;33m)\u001b[0m\u001b[1;33m.\u001b[0m\u001b[0mall\u001b[0m\u001b[1;33m(\u001b[0m\u001b[1;33m)\u001b[0m\u001b[1;33m\u001b[0m\u001b[1;33m\u001b[0m\u001b[0m\n",
      "\u001b[0m\u001b[1;32m    118 \u001b[1;33m        \u001b[1;32mfor\u001b[0m \u001b[0ms\u001b[0m \u001b[1;32min\u001b[0m \u001b[1;33m[\u001b[0m\u001b[1;36m0\u001b[0m\u001b[1;33m,\u001b[0m \u001b[0mnp\u001b[0m\u001b[1;33m.\u001b[0m\u001b[0mrandom\u001b[0m\u001b[1;33m.\u001b[0m\u001b[0mrandint\u001b[0m\u001b[1;33m(\u001b[0m\u001b[1;36m0\u001b[0m\u001b[1;33m,\u001b[0m \u001b[0mnpix\u001b[0m\u001b[1;33m)\u001b[0m\u001b[1;33m,\u001b[0m \u001b[0mnpix\u001b[0m\u001b[1;33m-\u001b[0m\u001b[1;36m1\u001b[0m\u001b[1;33m]\u001b[0m\u001b[1;33m:\u001b[0m\u001b[1;33m\u001b[0m\u001b[1;33m\u001b[0m\u001b[0m\n",
      "\u001b[0m\u001b[1;32m--> 119 \u001b[1;33m            \u001b[1;32mfor\u001b[0m \u001b[0mnest\u001b[0m \u001b[1;32min\u001b[0m \u001b[1;33m[\u001b[0m\u001b[1;32mTrue\u001b[0m\u001b[1;33m,\u001b[0m \u001b[1;32mFalse\u001b[0m\u001b[1;33m]\u001b[0m\u001b[1;33m:\u001b[0m\u001b[1;33m\u001b[0m\u001b[1;33m\u001b[0m\u001b[0m\n",
      "\u001b[0m\u001b[1;32m    120 \u001b[1;33m                assert (xyf2pix(nside, *pix2xyf(nside, s, nest=nest),\n",
      "\u001b[0m\u001b[1;32m    121 \u001b[1;33m                                nest=nest) == s)\n",
      "\u001b[0m\n",
      "ipdb> n\n",
      "> \u001b[1;32mc:\\users\\stefan\\dev\\hpmoc\\tests\\test_healpy_shim.py\u001b[0m(122)\u001b[0;36mtest_installed_pix2xyf_xyf2pix\u001b[1;34m()\u001b[0m\n",
      "\u001b[1;32m    118 \u001b[1;33m        \u001b[1;32mfor\u001b[0m \u001b[0ms\u001b[0m \u001b[1;32min\u001b[0m \u001b[1;33m[\u001b[0m\u001b[1;36m0\u001b[0m\u001b[1;33m,\u001b[0m \u001b[0mnp\u001b[0m\u001b[1;33m.\u001b[0m\u001b[0mrandom\u001b[0m\u001b[1;33m.\u001b[0m\u001b[0mrandint\u001b[0m\u001b[1;33m(\u001b[0m\u001b[1;36m0\u001b[0m\u001b[1;33m,\u001b[0m \u001b[0mnpix\u001b[0m\u001b[1;33m)\u001b[0m\u001b[1;33m,\u001b[0m \u001b[0mnpix\u001b[0m\u001b[1;33m-\u001b[0m\u001b[1;36m1\u001b[0m\u001b[1;33m]\u001b[0m\u001b[1;33m:\u001b[0m\u001b[1;33m\u001b[0m\u001b[1;33m\u001b[0m\u001b[0m\n",
      "\u001b[0m\u001b[1;32m    119 \u001b[1;33m            \u001b[1;32mfor\u001b[0m \u001b[0mnest\u001b[0m \u001b[1;32min\u001b[0m \u001b[1;33m[\u001b[0m\u001b[1;32mTrue\u001b[0m\u001b[1;33m,\u001b[0m \u001b[1;32mFalse\u001b[0m\u001b[1;33m]\u001b[0m\u001b[1;33m:\u001b[0m\u001b[1;33m\u001b[0m\u001b[1;33m\u001b[0m\u001b[0m\n",
      "\u001b[0m\u001b[1;32m    120 \u001b[1;33m                assert (xyf2pix(nside, *pix2xyf(nside, s, nest=nest),\n",
      "\u001b[0m\u001b[1;32m    121 \u001b[1;33m                                nest=nest) == s)\n",
      "\u001b[0m\u001b[1;32m--> 122 \u001b[1;33m            \u001b[1;32massert\u001b[0m \u001b[0mxyf2pix\u001b[0m\u001b[1;33m(\u001b[0m\u001b[0mnside\u001b[0m\u001b[1;33m,\u001b[0m \u001b[1;33m*\u001b[0m\u001b[0mpix2xyf\u001b[0m\u001b[1;33m(\u001b[0m\u001b[0mnside\u001b[0m\u001b[1;33m,\u001b[0m \u001b[0ms\u001b[0m\u001b[1;33m)\u001b[0m\u001b[1;33m)\u001b[0m \u001b[1;33m==\u001b[0m \u001b[0ms\u001b[0m\u001b[1;33m\u001b[0m\u001b[1;33m\u001b[0m\u001b[0m\n",
      "\u001b[0m\n",
      "ipdb> n\n",
      "> \u001b[1;32mc:\\users\\stefan\\dev\\hpmoc\\tests\\test_healpy_shim.py\u001b[0m(118)\u001b[0;36mtest_installed_pix2xyf_xyf2pix\u001b[1;34m()\u001b[0m\n",
      "\u001b[1;32m    116 \u001b[1;33m                    i).all()\n",
      "\u001b[0m\u001b[1;32m    117 \u001b[1;33m        \u001b[1;32massert\u001b[0m \u001b[1;33m(\u001b[0m\u001b[0mxyf2pix\u001b[0m\u001b[1;33m(\u001b[0m\u001b[0mnside\u001b[0m\u001b[1;33m,\u001b[0m \u001b[1;33m*\u001b[0m\u001b[0mpix2xyf\u001b[0m\u001b[1;33m(\u001b[0m\u001b[0mnside\u001b[0m\u001b[1;33m,\u001b[0m \u001b[0mi\u001b[0m\u001b[1;33m)\u001b[0m\u001b[1;33m)\u001b[0m \u001b[1;33m==\u001b[0m \u001b[0mi\u001b[0m\u001b[1;33m)\u001b[0m\u001b[1;33m.\u001b[0m\u001b[0mall\u001b[0m\u001b[1;33m(\u001b[0m\u001b[1;33m)\u001b[0m\u001b[1;33m\u001b[0m\u001b[1;33m\u001b[0m\u001b[0m\n",
      "\u001b[0m\u001b[1;32m--> 118 \u001b[1;33m        \u001b[1;32mfor\u001b[0m \u001b[0ms\u001b[0m \u001b[1;32min\u001b[0m \u001b[1;33m[\u001b[0m\u001b[1;36m0\u001b[0m\u001b[1;33m,\u001b[0m \u001b[0mnp\u001b[0m\u001b[1;33m.\u001b[0m\u001b[0mrandom\u001b[0m\u001b[1;33m.\u001b[0m\u001b[0mrandint\u001b[0m\u001b[1;33m(\u001b[0m\u001b[1;36m0\u001b[0m\u001b[1;33m,\u001b[0m \u001b[0mnpix\u001b[0m\u001b[1;33m)\u001b[0m\u001b[1;33m,\u001b[0m \u001b[0mnpix\u001b[0m\u001b[1;33m-\u001b[0m\u001b[1;36m1\u001b[0m\u001b[1;33m]\u001b[0m\u001b[1;33m:\u001b[0m\u001b[1;33m\u001b[0m\u001b[1;33m\u001b[0m\u001b[0m\n",
      "\u001b[0m\u001b[1;32m    119 \u001b[1;33m            \u001b[1;32mfor\u001b[0m \u001b[0mnest\u001b[0m \u001b[1;32min\u001b[0m \u001b[1;33m[\u001b[0m\u001b[1;32mTrue\u001b[0m\u001b[1;33m,\u001b[0m \u001b[1;32mFalse\u001b[0m\u001b[1;33m]\u001b[0m\u001b[1;33m:\u001b[0m\u001b[1;33m\u001b[0m\u001b[1;33m\u001b[0m\u001b[0m\n",
      "\u001b[0m\u001b[1;32m    120 \u001b[1;33m                assert (xyf2pix(nside, *pix2xyf(nside, s, nest=nest),\n",
      "\u001b[0m\n"
     ]
    },
    {
     "name": "stdout",
     "output_type": "stream",
     "text": [
      "ipdb> n\n",
      "> \u001b[1;32mc:\\users\\stefan\\dev\\hpmoc\\tests\\test_healpy_shim.py\u001b[0m(119)\u001b[0;36mtest_installed_pix2xyf_xyf2pix\u001b[1;34m()\u001b[0m\n",
      "\u001b[1;32m    117 \u001b[1;33m        \u001b[1;32massert\u001b[0m \u001b[1;33m(\u001b[0m\u001b[0mxyf2pix\u001b[0m\u001b[1;33m(\u001b[0m\u001b[0mnside\u001b[0m\u001b[1;33m,\u001b[0m \u001b[1;33m*\u001b[0m\u001b[0mpix2xyf\u001b[0m\u001b[1;33m(\u001b[0m\u001b[0mnside\u001b[0m\u001b[1;33m,\u001b[0m \u001b[0mi\u001b[0m\u001b[1;33m)\u001b[0m\u001b[1;33m)\u001b[0m \u001b[1;33m==\u001b[0m \u001b[0mi\u001b[0m\u001b[1;33m)\u001b[0m\u001b[1;33m.\u001b[0m\u001b[0mall\u001b[0m\u001b[1;33m(\u001b[0m\u001b[1;33m)\u001b[0m\u001b[1;33m\u001b[0m\u001b[1;33m\u001b[0m\u001b[0m\n",
      "\u001b[0m\u001b[1;32m    118 \u001b[1;33m        \u001b[1;32mfor\u001b[0m \u001b[0ms\u001b[0m \u001b[1;32min\u001b[0m \u001b[1;33m[\u001b[0m\u001b[1;36m0\u001b[0m\u001b[1;33m,\u001b[0m \u001b[0mnp\u001b[0m\u001b[1;33m.\u001b[0m\u001b[0mrandom\u001b[0m\u001b[1;33m.\u001b[0m\u001b[0mrandint\u001b[0m\u001b[1;33m(\u001b[0m\u001b[1;36m0\u001b[0m\u001b[1;33m,\u001b[0m \u001b[0mnpix\u001b[0m\u001b[1;33m)\u001b[0m\u001b[1;33m,\u001b[0m \u001b[0mnpix\u001b[0m\u001b[1;33m-\u001b[0m\u001b[1;36m1\u001b[0m\u001b[1;33m]\u001b[0m\u001b[1;33m:\u001b[0m\u001b[1;33m\u001b[0m\u001b[1;33m\u001b[0m\u001b[0m\n",
      "\u001b[0m\u001b[1;32m--> 119 \u001b[1;33m            \u001b[1;32mfor\u001b[0m \u001b[0mnest\u001b[0m \u001b[1;32min\u001b[0m \u001b[1;33m[\u001b[0m\u001b[1;32mTrue\u001b[0m\u001b[1;33m,\u001b[0m \u001b[1;32mFalse\u001b[0m\u001b[1;33m]\u001b[0m\u001b[1;33m:\u001b[0m\u001b[1;33m\u001b[0m\u001b[1;33m\u001b[0m\u001b[0m\n",
      "\u001b[0m\u001b[1;32m    120 \u001b[1;33m                assert (xyf2pix(nside, *pix2xyf(nside, s, nest=nest),\n",
      "\u001b[0m\u001b[1;32m    121 \u001b[1;33m                                nest=nest) == s)\n",
      "\u001b[0m\n",
      "ipdb> ~0x5555555555555555\n",
      "-6148914691236517206\n",
      "ipdb> f'{~0x5555555555555555:x}'\n",
      "'-5555555555555556'\n",
      "ipdb> f'{~0x5555555555555555:b}'\n",
      "'-101010101010101010101010101010101010101010101010101010101010110'\n",
      "ipdb> f'{0x5555555555555555:b}'\n",
      "'101010101010101010101010101010101010101010101010101010101010101'\n",
      "ipdb> f'{0x5555555555555555:064b}'\n",
      "'0101010101010101010101010101010101010101010101010101010101010101'\n",
      "ipdb> f'{~0x5555555555555555:064b}'\n",
      "'-101010101010101010101010101010101010101010101010101010101010110'\n",
      "ipdb> np.uint64(0x5555555555555555)\n",
      "6148914691236517205\n",
      "ipdb> f'{np.uint64(0x5555555555555555):064b}'\n",
      "'0101010101010101010101010101010101010101010101010101010101010101'\n",
      "ipdb> f'{~np.uint64(0x5555555555555555):064b}'\n",
      "'1010101010101010101010101010101010101010101010101010101010101010'\n",
      "ipdb> c\n"
     ]
    },
    {
     "ename": "TypeError",
     "evalue": "ufunc 'bitwise_and' not supported for the input types, and the inputs could not be safely coerced to any supported types according to the casting rule ''safe''",
     "output_type": "error",
     "traceback": [
      "\u001b[1;31m---------------------------------------------------------------------------\u001b[0m",
      "\u001b[1;31mTypeError\u001b[0m                                 Traceback (most recent call last)",
      "\u001b[1;32m<ipython-input-4-f833ef72af3a>\u001b[0m in \u001b[0;36m<module>\u001b[1;34m\u001b[0m\n\u001b[0;32m      2\u001b[0m     \u001b[0mbreakpoint\u001b[0m\u001b[1;33m(\u001b[0m\u001b[1;33m)\u001b[0m\u001b[1;33m\u001b[0m\u001b[1;33m\u001b[0m\u001b[0m\n\u001b[0;32m      3\u001b[0m     \u001b[0mtest_installed_pix2xyf_xyf2pix\u001b[0m\u001b[1;33m(\u001b[0m\u001b[1;33m)\u001b[0m\u001b[1;33m\u001b[0m\u001b[1;33m\u001b[0m\u001b[0m\n\u001b[1;32m----> 4\u001b[1;33m \u001b[0mfoo\u001b[0m\u001b[1;33m(\u001b[0m\u001b[1;33m)\u001b[0m\u001b[1;33m\u001b[0m\u001b[1;33m\u001b[0m\u001b[0m\n\u001b[0m",
      "\u001b[1;32m<ipython-input-4-f833ef72af3a>\u001b[0m in \u001b[0;36mfoo\u001b[1;34m()\u001b[0m\n\u001b[0;32m      1\u001b[0m \u001b[1;32mdef\u001b[0m \u001b[0mfoo\u001b[0m\u001b[1;33m(\u001b[0m\u001b[1;33m)\u001b[0m\u001b[1;33m:\u001b[0m\u001b[1;33m\u001b[0m\u001b[1;33m\u001b[0m\u001b[0m\n\u001b[0;32m      2\u001b[0m     \u001b[0mbreakpoint\u001b[0m\u001b[1;33m(\u001b[0m\u001b[1;33m)\u001b[0m\u001b[1;33m\u001b[0m\u001b[1;33m\u001b[0m\u001b[0m\n\u001b[1;32m----> 3\u001b[1;33m     \u001b[0mtest_installed_pix2xyf_xyf2pix\u001b[0m\u001b[1;33m(\u001b[0m\u001b[1;33m)\u001b[0m\u001b[1;33m\u001b[0m\u001b[1;33m\u001b[0m\u001b[0m\n\u001b[0m\u001b[0;32m      4\u001b[0m \u001b[0mfoo\u001b[0m\u001b[1;33m(\u001b[0m\u001b[1;33m)\u001b[0m\u001b[1;33m\u001b[0m\u001b[1;33m\u001b[0m\u001b[0m\n",
      "\u001b[1;32m~\\dev\\hpmoc\\tests\\test_healpy_shim.py\u001b[0m in \u001b[0;36mtest_installed_pix2xyf_xyf2pix\u001b[1;34m()\u001b[0m\n\u001b[0;32m    117\u001b[0m         \u001b[1;32massert\u001b[0m \u001b[1;33m(\u001b[0m\u001b[0mxyf2pix\u001b[0m\u001b[1;33m(\u001b[0m\u001b[0mnside\u001b[0m\u001b[1;33m,\u001b[0m \u001b[1;33m*\u001b[0m\u001b[0mpix2xyf\u001b[0m\u001b[1;33m(\u001b[0m\u001b[0mnside\u001b[0m\u001b[1;33m,\u001b[0m \u001b[0mi\u001b[0m\u001b[1;33m)\u001b[0m\u001b[1;33m)\u001b[0m \u001b[1;33m==\u001b[0m \u001b[0mi\u001b[0m\u001b[1;33m)\u001b[0m\u001b[1;33m.\u001b[0m\u001b[0mall\u001b[0m\u001b[1;33m(\u001b[0m\u001b[1;33m)\u001b[0m\u001b[1;33m\u001b[0m\u001b[1;33m\u001b[0m\u001b[0m\n\u001b[0;32m    118\u001b[0m         \u001b[1;32mfor\u001b[0m \u001b[0ms\u001b[0m \u001b[1;32min\u001b[0m \u001b[1;33m[\u001b[0m\u001b[1;36m0\u001b[0m\u001b[1;33m,\u001b[0m \u001b[0mnp\u001b[0m\u001b[1;33m.\u001b[0m\u001b[0mrandom\u001b[0m\u001b[1;33m.\u001b[0m\u001b[0mrandint\u001b[0m\u001b[1;33m(\u001b[0m\u001b[1;36m0\u001b[0m\u001b[1;33m,\u001b[0m \u001b[0mnpix\u001b[0m\u001b[1;33m)\u001b[0m\u001b[1;33m,\u001b[0m \u001b[0mnpix\u001b[0m\u001b[1;33m-\u001b[0m\u001b[1;36m1\u001b[0m\u001b[1;33m]\u001b[0m\u001b[1;33m:\u001b[0m\u001b[1;33m\u001b[0m\u001b[1;33m\u001b[0m\u001b[0m\n\u001b[1;32m--> 119\u001b[1;33m             \u001b[1;32mfor\u001b[0m \u001b[0mnest\u001b[0m \u001b[1;32min\u001b[0m \u001b[1;33m[\u001b[0m\u001b[1;32mTrue\u001b[0m\u001b[1;33m,\u001b[0m \u001b[1;32mFalse\u001b[0m\u001b[1;33m]\u001b[0m\u001b[1;33m:\u001b[0m\u001b[1;33m\u001b[0m\u001b[1;33m\u001b[0m\u001b[0m\n\u001b[0m\u001b[0;32m    120\u001b[0m                 assert (xyf2pix(nside, *pix2xyf(nside, s, nest=nest),\n\u001b[0;32m    121\u001b[0m                                 nest=nest) == s)\n",
      "\u001b[1;32m~\\dev\\hpmoc\\hpmoc\\healpy.py\u001b[0m in \u001b[0;36mpix2xyf\u001b[1;34m(nside, ipix, nest)\u001b[0m\n\u001b[0;32m     51\u001b[0m     \u001b[0mf\u001b[0m \u001b[1;33m=\u001b[0m \u001b[0mipix\u001b[0m\u001b[1;33m//\u001b[0m\u001b[0mnsq\u001b[0m\u001b[1;33m\u001b[0m\u001b[1;33m\u001b[0m\u001b[0m\n\u001b[0;32m     52\u001b[0m     \u001b[0mi\u001b[0m \u001b[1;33m=\u001b[0m \u001b[0mipix\u001b[0m\u001b[1;33m-\u001b[0m\u001b[0mf\u001b[0m\u001b[1;33m*\u001b[0m\u001b[0mnsq\u001b[0m\u001b[1;33m\u001b[0m\u001b[1;33m\u001b[0m\u001b[0m\n\u001b[1;32m---> 53\u001b[1;33m     \u001b[1;32mreturn\u001b[0m \u001b[0malt_compress\u001b[0m\u001b[1;33m(\u001b[0m\u001b[0mi\u001b[0m\u001b[1;33m)\u001b[0m\u001b[1;33m,\u001b[0m \u001b[0malt_compress\u001b[0m\u001b[1;33m(\u001b[0m\u001b[0mi\u001b[0m\u001b[1;33m>>\u001b[0m\u001b[1;36m1\u001b[0m\u001b[1;33m,\u001b[0m \u001b[1;32mTrue\u001b[0m\u001b[1;33m)\u001b[0m\u001b[1;33m,\u001b[0m \u001b[0mf\u001b[0m\u001b[1;33m\u001b[0m\u001b[1;33m\u001b[0m\u001b[0m\n\u001b[0m\u001b[0;32m     54\u001b[0m \u001b[1;33m\u001b[0m\u001b[0m\n\u001b[0;32m     55\u001b[0m \u001b[1;33m\u001b[0m\u001b[0m\n",
      "\u001b[1;32m~\\dev\\hpmoc\\hpmoc\\healpy_utils.py\u001b[0m in \u001b[0;36malt_compress\u001b[1;34m(x, in_place)\u001b[0m\n\u001b[0;32m     40\u001b[0m     \u001b[0malt_expand\u001b[0m\u001b[1;33m\u001b[0m\u001b[1;33m\u001b[0m\u001b[0m\n\u001b[0;32m     41\u001b[0m     \"\"\"\n\u001b[1;32m---> 42\u001b[1;33m     \u001b[1;32mimport\u001b[0m \u001b[0mnumpy\u001b[0m \u001b[1;32mas\u001b[0m \u001b[0mnp\u001b[0m\u001b[1;33m\u001b[0m\u001b[1;33m\u001b[0m\u001b[0m\n\u001b[0m\u001b[0;32m     43\u001b[0m     \u001b[0mbreakpoint\u001b[0m\u001b[1;33m(\u001b[0m\u001b[1;33m)\u001b[0m\u001b[1;33m\u001b[0m\u001b[1;33m\u001b[0m\u001b[0m\n\u001b[0;32m     44\u001b[0m \u001b[1;33m\u001b[0m\u001b[0m\n",
      "\u001b[1;31mTypeError\u001b[0m: ufunc 'bitwise_and' not supported for the input types, and the inputs could not be safely coerced to any supported types according to the casting rule ''safe''"
     ]
    }
   ],
   "source": [
    "def foo():\n",
    "    breakpoint()\n",
    "    test_installed_pix2xyf_xyf2pix()\n",
    "foo()"
   ]
  },
  {
   "cell_type": "code",
   "execution_count": 66,
   "id": "3781c38a",
   "metadata": {},
   "outputs": [
    {
     "name": "stdout",
     "output_type": "stream",
     "text": [
      " Volume in drive C has no label.\n",
      " Volume Serial Number is AA20-0BFC\n",
      "\n",
      " Directory of C:\\Users\\Stefan\\dev\\hpmoc\\tests\n",
      "\n",
      "06/06/2021  12:25 PM    <DIR>          .\n",
      "06/06/2021  12:25 PM    <DIR>          ..\n",
      "06/06/2021  12:25 PM                32 __init__.py\n",
      "06/06/2021  12:20 PM    <DIR>          __pycache__\n",
      "06/05/2021  05:03 PM    <DIR>          data\n",
      "06/06/2021  12:19 PM             4,178 test_healpy_shim.py\n",
      "06/05/2021  04:59 PM             2,196 test_io.py\n",
      "06/05/2021  04:59 PM                97 test_utils.py\n",
      "               4 File(s)          6,503 bytes\n",
      "               4 Dir(s)  11,697,262,592 bytes free\n"
     ]
    }
   ],
   "source": [
    "ls tests"
   ]
  },
  {
   "cell_type": "code",
   "execution_count": 70,
   "id": "43acf4fe",
   "metadata": {},
   "outputs": [
    {
     "data": {
      "text/plain": [
       "'E:\\\\miniconda3\\\\envs\\\\hpmoc-dev-win\\\\lib\\\\site-packages\\\\IPython\\\\extensions\\\\tests\\\\__init__.py'"
      ]
     },
     "execution_count": 70,
     "metadata": {},
     "output_type": "execute_result"
    }
   ],
   "source": [
    "tests.__file__"
   ]
  },
  {
   "cell_type": "code",
   "execution_count": 73,
   "id": "a1528964",
   "metadata": {},
   "outputs": [
    {
     "ename": "AttributeError",
     "evalue": "module 'tests' has no attribute 'test_healpy_shim'",
     "output_type": "error",
     "traceback": [
      "\u001b[1;31m---------------------------------------------------------------------------\u001b[0m",
      "\u001b[1;31mAttributeError\u001b[0m                            Traceback (most recent call last)",
      "\u001b[1;32m<ipython-input-73-1147f2594c16>\u001b[0m in \u001b[0;36m<module>\u001b[1;34m\u001b[0m\n\u001b[1;32m----> 1\u001b[1;33m \u001b[0mtests\u001b[0m\u001b[1;33m.\u001b[0m\u001b[0mtest_healpy_shim\u001b[0m\u001b[1;33m\u001b[0m\u001b[1;33m\u001b[0m\u001b[0m\n\u001b[0m",
      "\u001b[1;31mAttributeError\u001b[0m: module 'tests' has no attribute 'test_healpy_shim'"
     ]
    }
   ],
   "source": [
    "tests.test_healpy_shim"
   ]
  },
  {
   "cell_type": "code",
   "execution_count": null,
   "id": "26de752d",
   "metadata": {},
   "outputs": [],
   "source": []
  }
 ],
 "metadata": {
  "kernelspec": {
   "display_name": "Python 3",
   "language": "python",
   "name": "python3"
  },
  "language_info": {
   "codemirror_mode": {
    "name": "ipython",
    "version": 3
   },
   "file_extension": ".py",
   "mimetype": "text/x-python",
   "name": "python",
   "nbconvert_exporter": "python",
   "pygments_lexer": "ipython3",
   "version": "3.8.10"
  }
 },
 "nbformat": 4,
 "nbformat_minor": 5
}
