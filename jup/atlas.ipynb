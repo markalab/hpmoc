{
 "cells": [
  {
   "cell_type": "code",
   "execution_count": 1,
   "id": "aa07660f",
   "metadata": {},
   "outputs": [],
   "source": [
    "#import healpy as hp\n",
    "import astropy_healpix.healpy as ahp\n",
    "from astropy_healpix import HEALPix\n",
    "from hpmoc.healpy import healpy as hhp\n",
    "from matplotlib import pyplot as plt, cm\n",
    "import numpy as np\n",
    "import hpmoc\n",
    "from hpmoc.partial import PartialUniqSkymap\n",
    "from hpmoc import atlas as atls\n",
    "from reproject import reproject_from_healpix, reproject_to_healpix\n",
    "import astropy as ap\n",
    "from astropy.wcs import WCS\n",
    "from astropy.io import fits\n",
    "from astropy.visualization.wcsaxes.frame import EllipticalFrame\n",
    "from astropy.coordinates import FK5"
   ]
  },
  {
   "cell_type": "code",
   "execution_count": 2,
   "id": "1559cc39",
   "metadata": {},
   "outputs": [
    {
     "name": "stderr",
     "output_type": "stream",
     "text": [
      "E:\\miniconda3\\envs\\hpmoc-dev-win\\lib\\site-packages\\hpmoc\\utils.py:1443: VisibleDeprecationWarning: Creating an ndarray from ragged nested sequences (which is a list-or-tuple of lists-or-tuples-or ndarrays with different lengths or shapes) is deprecated. If you meant to do this, you must specify 'dtype=object' when creating the ndarray.\n",
      "  u⃗ = np.array(u⃗, dtype=dtype, copy=False)\n"
     ]
    }
   ],
   "source": [
    "m = PartialUniqSkymap.read(\"../tests/data/S191216ap.fits.gz\", strategy='ligo')\n",
    "mo = PartialUniqSkymap.read(\"../tests/data/S191216ap.multiorder.fits\", strategy='ligo')\n",
    "mc = (m.s⃗*m.A⃗()).value"
   ]
  },
  {
   "cell_type": "code",
   "execution_count": 3,
   "id": "ac12c5a1",
   "metadata": {},
   "outputs": [],
   "source": [
    "hdu_ligo = fits.open(\"../tests/data/S191216ap.fits.gz\")[1]\n",
    "target_header = fits.Header.fromstring(\"\"\"\n",
    "NAXIS   =                    2\n",
    "NAXIS1  =                  480\n",
    "NAXIS2  =                  240\n",
    "CTYPE1  = 'RA---MOL'\n",
    "CRPIX1  =                240.5\n",
    "CRVAL1  =                180.0\n",
    "CDELT1  =               -0.675\n",
    "CUNIT1  = 'deg     '\n",
    "CTYPE2  = 'DEC--MOL'\n",
    "CRPIX2  =                120.5\n",
    "CRVAL2  =                  0.0\n",
    "CDELT2  =                0.675\n",
    "CUNIT2  = 'deg     '\n",
    "COORDSYS= 'icrs    '\n",
    "\"\"\", sep='\\n')\n",
    "w = WCS(target_header)"
   ]
  },
  {
   "cell_type": "code",
   "execution_count": 4,
   "id": "5ad92267",
   "metadata": {},
   "outputs": [
    {
     "data": {
      "text/plain": [
       "array([[nan, nan, nan, ..., nan, nan, nan],\n",
       "       [nan, nan, nan, ..., nan, nan, nan],\n",
       "       [nan, nan, nan, ..., nan, nan, nan],\n",
       "       ...,\n",
       "       [nan, nan, nan, ..., nan, nan, nan],\n",
       "       [nan, nan, nan, ..., nan, nan, nan],\n",
       "       [nan, nan, nan, ..., nan, nan, nan]])"
      ]
     },
     "execution_count": 4,
     "metadata": {},
     "output_type": "execute_result"
    }
   ],
   "source": [
    "mo.render(w)"
   ]
  },
  {
   "cell_type": "code",
   "execution_count": 5,
   "id": "8bc93dc6",
   "metadata": {},
   "outputs": [],
   "source": [
    "# Go counter-clockwise from x=0, i.e. x=0, y=nˢ-1, x=nˢ-1, y=0\n",
    "atlas = np.array([\n",
    "    [4, 3, 1, 5],\n",
    "    [5, 0, 2, 6],\n",
    "    [6, 1, 3, 7],\n",
    "    [7, 2, 0, 4],\n",
    "    [11, 3, 0, 8],\n",
    "    [8, 0, 1, 9],\n",
    "    [9, 1, 2, 10],\n",
    "    [10, 2, 3, 11],\n",
    "    [11, 4, 5, 9],\n",
    "    [8, 5, 6, 10],\n",
    "    [9, 6, 7, 11],\n",
    "    [10, 7, 4, 8],\n",
    "], dtype=np.uint8)\n",
    "# Go counter-clockwise from (0,0), i.e. (0,0), (0,1), (1,1), (1,0)"
   ]
  },
  {
   "cell_type": "code",
   "execution_count": 92,
   "id": "1aaa413a",
   "metadata": {},
   "outputs": [],
   "source": [
    "right, face = np.meshgrid(*map(np.arange, atlas.shape[::-1]))\n",
    "loops = np.stack([*map(np.ravel, [np.roll(right, 1), face, right])]).T"
   ]
  },
  {
   "cell_type": "code",
   "execution_count": 180,
   "id": "1acb6b17",
   "metadata": {},
   "outputs": [],
   "source": [
    "def close_loops(loops):\n",
    "    next_sides = loops[:,-1]\n",
    "    last_faces = loops[:,-2]\n",
    "    next_faces = atlas[last_faces, next_sides]\n",
    "    next_last_sides = np.where(atlas[next_faces]==last_faces.reshape((-1, 1)))[1]\n",
    "    is_done = (loops[:,0]==next_last_sides) & (loops[:,1]==next_faces)\n",
    "    done = loops[is_done]\n",
    "    \n",
    "    # dedup and clean up\n",
    "    k = done.shape[1]\n",
    "    roll = 3*done[:,np.arange(1, k, 3)].argsort()[:,0]\n",
    "    rows, col_idx = np.ogrid[:done.shape[0], :k]\n",
    "    col_idx = (col_idx + roll[:, None])%k\n",
    "    next_res = done[rows, col_idx]\n",
    "    sorted_res = next_res[np.lexsort([next_res[:,i] for i in range(k-2, 0, -3)])]\n",
    "    for i in range(1, k//3):\n",
    "        assert (sorted_res[::k//3]==sorted_res[i::k//3]).all()\n",
    "    final = sorted_res[::k//3].reshape((-1, k//3, 3))\n",
    "\n",
    "    remove = (loops[is_done,:2].reshape((1, -1, 2))==loops[:,:2].reshape((-1, 1, 2))).all(axis=2).any(axis=1)\n",
    "    if remove.all():\n",
    "        return [final]\n",
    "    next_next_sides = ((next_last_sides[~remove].repeat(2).reshape((-1, 2))+(1+2*np.arange(2)))%4).ravel()\n",
    "    next_loops = np.concatenate(\n",
    "        [\n",
    "            loops[~remove].repeat(2, 0),\n",
    "            np.stack([\n",
    "                next_last_sides[~remove].repeat(2),\n",
    "                next_faces[~remove].repeat(2),\n",
    "                next_next_sides\n",
    "            ]).T\n",
    "        ],\n",
    "        1,\n",
    "    )\n",
    "    return [final, *close_loops(next_loops)]"
   ]
  },
  {
   "cell_type": "code",
   "execution_count": 181,
   "id": "6c62b863",
   "metadata": {},
   "outputs": [
    {
     "data": {
      "text/plain": [
       "[array([], shape=(0, 1, 3), dtype=int32),\n",
       " array([], shape=(0, 2, 3), dtype=int64),\n",
       " array([[[ 0,  0,  1],\n",
       "         [ 2,  3,  3],\n",
       "         [ 1,  4,  2]],\n",
       " \n",
       "        [[ 2,  0,  3],\n",
       "         [ 1,  5,  2],\n",
       "         [ 0,  1,  1]],\n",
       " \n",
       "        [[ 2,  1,  3],\n",
       "         [ 1,  6,  2],\n",
       "         [ 0,  2,  1]],\n",
       " \n",
       "        [[ 2,  2,  3],\n",
       "         [ 1,  7,  2],\n",
       "         [ 0,  3,  1]],\n",
       " \n",
       "        [[ 3,  4,  0],\n",
       "         [ 2, 11,  3],\n",
       "         [ 0,  8,  1]],\n",
       " \n",
       "        [[ 3,  5,  0],\n",
       "         [ 2,  8,  3],\n",
       "         [ 0,  9,  1]],\n",
       " \n",
       "        [[ 3,  6,  0],\n",
       "         [ 2,  9,  3],\n",
       "         [ 0, 10,  1]],\n",
       " \n",
       "        [[ 3,  7,  0],\n",
       "         [ 2, 10,  3],\n",
       "         [ 0, 11,  1]]], dtype=int64),\n",
       " array([[[ 1,  0,  2],\n",
       "         [ 1,  1,  2],\n",
       "         [ 1,  2,  2],\n",
       "         [ 1,  3,  2]],\n",
       " \n",
       "        [[ 3,  0,  0],\n",
       "         [ 2,  4,  3],\n",
       "         [ 1,  8,  2],\n",
       "         [ 0,  5,  1]],\n",
       " \n",
       "        [[ 3,  1,  0],\n",
       "         [ 2,  5,  3],\n",
       "         [ 1,  9,  2],\n",
       "         [ 0,  6,  1]],\n",
       " \n",
       "        [[ 3,  2,  0],\n",
       "         [ 2,  6,  3],\n",
       "         [ 1, 10,  2],\n",
       "         [ 0,  7,  1]],\n",
       " \n",
       "        [[ 3,  3,  0],\n",
       "         [ 2,  7,  3],\n",
       "         [ 1, 11,  2],\n",
       "         [ 0,  4,  1]],\n",
       " \n",
       "        [[ 3,  8,  0],\n",
       "         [ 3, 11,  0],\n",
       "         [ 3, 10,  0],\n",
       "         [ 3,  9,  0]]], dtype=int64)]"
      ]
     },
     "execution_count": 181,
     "metadata": {},
     "output_type": "execute_result"
    }
   ],
   "source": [
    "close_loops(loops)"
   ]
  },
  {
   "cell_type": "code",
   "execution_count": 9,
   "id": "a175e2b3",
   "metadata": {},
   "outputs": [
    {
     "data": {
      "text/plain": [
       "'0101010101010101010101010101010101010101010101010101010101010101'"
      ]
     },
     "execution_count": 9,
     "metadata": {},
     "output_type": "execute_result"
    }
   ],
   "source": [
    "f'{0x5555555555555555:064b}'"
   ]
  },
  {
   "cell_type": "code",
   "execution_count": 12,
   "id": "870cedc3",
   "metadata": {},
   "outputs": [
    {
     "data": {
      "text/plain": [
       "'f'"
      ]
     },
     "execution_count": 12,
     "metadata": {},
     "output_type": "execute_result"
    }
   ],
   "source": [
    "f'{0b1111:x}'"
   ]
  },
  {
   "cell_type": "code",
   "execution_count": 26,
   "id": "fbf84e0b",
   "metadata": {},
   "outputs": [
    {
     "name": "stderr",
     "output_type": "stream",
     "text": [
      "E:\\miniconda3\\envs\\hpmoc-dev-win\\lib\\site-packages\\hpmoc\\utils.py:1443: VisibleDeprecationWarning: Creating an ndarray from ragged nested sequences (which is a list-or-tuple of lists-or-tuples-or ndarrays with different lengths or shapes) is deprecated. If you meant to do this, you must specify 'dtype=object' when creating the ndarray.\n",
      "  u⃗ = np.array(u⃗, dtype=dtype, copy=False)\n"
     ]
    },
    {
     "data": {
      "text/plain": [
       "(array([0, 1], dtype=int64), array([7, 0], dtype=int64), array([-4, -3]))"
      ]
     },
     "execution_count": 26,
     "metadata": {},
     "output_type": "execute_result"
    }
   ],
   "source": [
    "from hpmoc.utils import uniq_intersection, uniq2nest_and_nside, uniq2nest, uniq2nside\n",
    "\n",
    "uniq_intersection(np.array([3003, 301]), np.arange(4, 16))"
   ]
  },
  {
   "cell_type": "code",
   "execution_count": 35,
   "id": "35ea4223",
   "metadata": {},
   "outputs": [
    {
     "data": {
      "text/plain": [
       "array([7, 0], dtype=int32)"
      ]
     },
     "execution_count": 35,
     "metadata": {},
     "output_type": "execute_result"
    }
   ],
   "source": [
    "x = np.array([3003, 301])\n",
    "(x//uniq2nside(x)**2)-4"
   ]
  },
  {
   "cell_type": "code",
   "execution_count": 31,
   "id": "0649e33e",
   "metadata": {},
   "outputs": [
    {
     "data": {
      "text/plain": [
       "(array([1979,   45]), array([16,  8], dtype=int32))"
      ]
     },
     "execution_count": 31,
     "metadata": {},
     "output_type": "execute_result"
    }
   ],
   "source": [
    "uniq2nest_and_nside(x)"
   ]
  },
  {
   "cell_type": "code",
   "execution_count": 7,
   "id": "d7a13f1c",
   "metadata": {},
   "outputs": [],
   "source": [
    "hp = ahp"
   ]
  },
  {
   "cell_type": "code",
   "execution_count": 11,
   "id": "430a9b49",
   "metadata": {},
   "outputs": [
    {
     "data": {
      "text/plain": [
       "array([2], dtype=int64)"
      ]
     },
     "execution_count": 11,
     "metadata": {},
     "output_type": "execute_result"
    }
   ],
   "source": [
    "hp.ring2nest(2, 4)"
   ]
  },
  {
   "cell_type": "code",
   "execution_count": 23,
   "id": "1a4a4892",
   "metadata": {},
   "outputs": [
    {
     "data": {
      "text/plain": [
       "False"
      ]
     },
     "execution_count": 23,
     "metadata": {},
     "output_type": "execute_result"
    }
   ],
   "source": [
    "np.isscalar(hp.ring2nest(1, 8))"
   ]
  },
  {
   "cell_type": "code",
   "execution_count": 35,
   "id": "13af9d8d",
   "metadata": {},
   "outputs": [
    {
     "data": {
      "text/plain": [
       "True"
      ]
     },
     "execution_count": 35,
     "metadata": {},
     "output_type": "execute_result"
    }
   ],
   "source": [
    "hp.order2nside(3) == 1<<3"
   ]
  },
  {
   "cell_type": "code",
   "execution_count": 50,
   "id": "0efc07e2",
   "metadata": {},
   "outputs": [],
   "source": [
    "np.random.randint?"
   ]
  },
  {
   "cell_type": "code",
   "execution_count": 52,
   "id": "07b9739f",
   "metadata": {},
   "outputs": [
    {
     "data": {
      "text/plain": [
       "int"
      ]
     },
     "execution_count": 52,
     "metadata": {},
     "output_type": "execute_result"
    }
   ],
   "source": [
    "type(np.random.randint(0, 30))"
   ]
  },
  {
   "cell_type": "code",
   "execution_count": 49,
   "id": "38e7d86b",
   "metadata": {},
   "outputs": [
    {
     "data": {
      "text/plain": [
       "array([28, 15, 23, 27,  7,  6,  9, 11,  3, 10], dtype=uint64)"
      ]
     },
     "execution_count": 49,
     "metadata": {},
     "output_type": "execute_result"
    }
   ],
   "source": [
    "np.random.randint(0, 30, 10, dtype='uint64')"
   ]
  },
  {
   "cell_type": "code",
   "execution_count": 38,
   "id": "6da13f37",
   "metadata": {},
   "outputs": [],
   "source": [
    "def pix2xyf(nside, ipix, nest=False):\n",
    "    \"Drop-in replacement for ``healpy.pix2xyf``.\"\n",
    "    import numpy as np\n",
    "\n",
    "    # Check for mistake in ``astropy_healpix`` scalar handling\n",
    "    scalar = np.isscalar(ipix)\n",
    "    ipix = ipix if nest else hp.ring2nest(nside, ipix)\n",
    "    if scalar and not np.isscalar(ipix):\n",
    "        ipix = ipix.ravel()[0]\n",
    "    nsq = nside*nside\n",
    "    f = ipix//nsq\n",
    "    i = ipix-f*nsq\n",
    "    return alt_compress(i), alt_compress(i>>1, True), f\n",
    "\n",
    "\n",
    "def xyf2pix(nside, x, y, face, nest=False):\n",
    "    \"Drop-in replacement for ``healpy.xyf2pix``.\"\n",
    "    import numpy as np\n",
    "\n",
    "    # Check for mistake in ``astropy_healpix`` scalar handling\n",
    "    scalar = all(map(np.isscalar, [x, y, face]))\n",
    "    ipix = alt_expand(x) + (alt_expand(y)<<1) + face*nside*nside\n",
    "    ipix = ipix if nest else hp.nest2ring(nside, ipix)\n",
    "    return ipix.ravel()[0] if scalar and not np.isscalar(ipix) else ipix"
   ]
  },
  {
   "cell_type": "code",
   "execution_count": 44,
   "id": "fc6b3efe",
   "metadata": {},
   "outputs": [
    {
     "data": {
      "text/plain": [
       "array([258, 259], dtype=int64)"
      ]
     },
     "execution_count": 44,
     "metadata": {},
     "output_type": "execute_result"
    }
   ],
   "source": [
    "xyf2pix(8, *pix2xyf(8, np.array([258, 259])))"
   ]
  },
  {
   "cell_type": "code",
   "execution_count": 40,
   "id": "0b81c6fa",
   "metadata": {},
   "outputs": [
    {
     "data": {
      "text/plain": [
       "(0, 3, 2)"
      ]
     },
     "execution_count": 40,
     "metadata": {},
     "output_type": "execute_result"
    }
   ],
   "source": [
    "pix2xyf(8, xyf2pix(8, 0, 3, 2))"
   ]
  },
  {
   "cell_type": "code",
   "execution_count": 33,
   "id": "f04282c2",
   "metadata": {},
   "outputs": [
    {
     "data": {
      "text/plain": [
       "(0, 0, 5)"
      ]
     },
     "execution_count": 33,
     "metadata": {},
     "output_type": "execute_result"
    }
   ],
   "source": [
    "pix2xyf(2, 20, nest=True)"
   ]
  },
  {
   "cell_type": "code",
   "execution_count": 73,
   "id": "f1eb4b38",
   "metadata": {},
   "outputs": [],
   "source": [
    "def uniq2xyf_nside(u⃗):\n",
    "    \"\"\"\n",
    "    Examples\n",
    "    --------\n",
    "    >>> uniq2xyf_nside(8)\n",
    "    (0, 0, 4, 1)\n",
    "    \n",
    "    See Also\n",
    "    --------\n",
    "    xyf_nside2uniq\n",
    "    \"\"\"\n",
    "    i, nˢ = uniq2nest_and_nside(u⃗)\n",
    "    nˢˢ = nˢ*nˢ\n",
    "    f = (u⃗//nˢˢ)-4\n",
    "    i -= f*nˢˢ\n",
    "    return alt_compress(i), alt_compress(i>>1, True), f, nˢ\n",
    "\n",
    "\n",
    "def xyf_nside2uniq(x, y, f, nˢ):\n",
    "    \"\"\"\n",
    "    Examples\n",
    "    --------\n",
    "    >>> (xyf_nside2uniq(*uniq2xyf_nside(np.arange(4, 10000))) == np.arange(4, 10000)).all()\n",
    "    True\n",
    "    \n",
    "    See Also\n",
    "    --------\n",
    "    uniq2xyf_nside\n",
    "    \"\"\"\n",
    "    return alt_expand(x) + (alt_expand(y)<<1) + (f+4)*nˢ*nˢ"
   ]
  },
  {
   "cell_type": "code",
   "execution_count": 82,
   "id": "4a8b7d3a",
   "metadata": {},
   "outputs": [
    {
     "data": {
      "text/plain": [
       "True"
      ]
     },
     "execution_count": 82,
     "metadata": {},
     "output_type": "execute_result"
    }
   ],
   "source": [
    "(xyf_nside2uniq(*uniq2xyf_nside(np.arange(4, 10000))) == np.arange(4, 10000)).all()"
   ]
  },
  {
   "cell_type": "code",
   "execution_count": 75,
   "id": "655e87a9",
   "metadata": {},
   "outputs": [
    {
     "data": {
      "text/plain": [
       "(0, 0, 4, 1)"
      ]
     },
     "execution_count": 75,
     "metadata": {},
     "output_type": "execute_result"
    }
   ],
   "source": [
    "uniq2xyf_nside(8)"
   ]
  },
  {
   "cell_type": "code",
   "execution_count": 76,
   "id": "11cb2b45",
   "metadata": {},
   "outputs": [
    {
     "data": {
      "text/plain": [
       "8"
      ]
     },
     "execution_count": 76,
     "metadata": {},
     "output_type": "execute_result"
    }
   ],
   "source": [
    "xyf_nside2uniq(0, 0, 4, 1)"
   ]
  },
  {
   "cell_type": "code",
   "execution_count": 72,
   "id": "ea28b8c8",
   "metadata": {},
   "outputs": [
    {
     "data": {
      "text/plain": [
       "(array([0, 0, 0, 0, 0, 0, 0, 0, 0, 0, 0, 0, 0, 1, 0, 1, 0, 1, 0, 1, 0, 1,\n",
       "        0, 1, 0, 1, 0, 1]),\n",
       " array([0, 0, 0, 0, 0, 0, 0, 0, 0, 0, 0, 0, 0, 0, 1, 1, 0, 0, 1, 1, 0, 0,\n",
       "        1, 1, 0, 0, 1, 1], dtype=int32),\n",
       " array([ 0,  1,  2,  3,  4,  5,  6,  7,  8,  9, 10, 11,  0,  0,  0,  0,  1,\n",
       "         1,  1,  1,  2,  2,  2,  2,  3,  3,  3,  3], dtype=int32))"
      ]
     },
     "execution_count": 72,
     "metadata": {},
     "output_type": "execute_result"
    }
   ],
   "source": [
    "uniq2xyf(np.arange(4, 32))"
   ]
  },
  {
   "cell_type": "code",
   "execution_count": 18,
   "id": "97dbda6c",
   "metadata": {
    "pycharm": {
     "name": "#%%\n"
    }
   },
   "outputs": [],
   "source": [
    "COMPRESS_MASKS = [\n",
    "    0x5555555555555555,\n",
    "    0x3333333333333333,\n",
    "    0x0f0f0f0f0f0f0f0f,\n",
    "    0x00ff00ff00ff00ff,\n",
    "    0x0000ffff0000ffff,\n",
    "    0x00000000ffffffff,\n",
    "]\n",
    "\n",
    "\n",
    "def alt_compress(x, in_place=False):\n",
    "    \"\"\"\n",
    "    Start in 0x55... state.\n",
    "    \n",
    "    https://help.dyalog.com/18.0/Content/Language/Primitive%20Functions/Replicate.htm\n",
    "    \n",
    "    Examples\n",
    "    --------\n",
    "    >>> alt_compress(0b011101)\n",
    "    7\n",
    "    >>> alt_compress(0b110010)\n",
    "    4\n",
    "    >>> alt_compress(100)\n",
    "    10\n",
    "    >>> f'{alt_compress(0b10011100):04b}'\n",
    "    '0110'\n",
    "    \"\"\"\n",
    "    import numpy as np\n",
    "\n",
    "    if (not isinstance(x, int)) and (not in_place):\n",
    "        x = x.copy()\n",
    "    x &= COMPRESS_MASKS[0]\n",
    "    for i, m in enumerate(COMPRESS_MASKS[1:]):\n",
    "        hold = m&x\n",
    "        x &= ~m\n",
    "        x >>= 1<<i\n",
    "        x |= hold\n",
    "    return x\n",
    "\n",
    "\n",
    "def alt_expand(x, in_place=False):\n",
    "    \"\"\"\n",
    "    Start in 0x00000000ffffffff state.\n",
    "    \n",
    "    https://help.dyalog.com/18.0/Content/Language/Primitive%20Functions/Expand.htm\n",
    "    \n",
    "    Examples\n",
    "    --------\n",
    "    >>> f'{alt_expand(0b100101):012b}'\n",
    "    '010000010001'\n",
    "    \"\"\"\n",
    "    import numpy as np\n",
    "    \n",
    "    o = len(COMPRESS_MASKS)\n",
    "    if (not isinstance(x, int)) and (not in_place):\n",
    "        x = x.copy()\n",
    "    x &= COMPRESS_MASKS[-1]\n",
    "    for i, m in enumerate(COMPRESS_MASKS[-2::-1]):\n",
    "        hold = m&x\n",
    "        x &= ~m\n",
    "        x <<= 1<<(o-i-2)\n",
    "        x |= hold\n",
    "    return x\n"
   ]
  }
 ],
 "metadata": {
  "kernelspec": {
   "display_name": "Python 3",
   "language": "python",
   "name": "python3"
  },
  "language_info": {
   "codemirror_mode": {
    "name": "ipython",
    "version": 3
   },
   "file_extension": ".py",
   "mimetype": "text/x-python",
   "name": "python",
   "nbconvert_exporter": "python",
   "pygments_lexer": "ipython3",
   "version": "3.8.10"
  }
 },
 "nbformat": 4,
 "nbformat_minor": 5
}