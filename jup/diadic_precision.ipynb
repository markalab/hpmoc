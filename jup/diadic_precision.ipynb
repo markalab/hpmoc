{
 "cells": [
  {
   "cell_type": "code",
   "execution_count": null,
   "metadata": {},
   "outputs": [],
   "source": [
    "from pathlib import Path\n",
    "from matplotlib import pyplot as plt\n",
    "import numpy as np\n",
    "from hpmoc import PartialUniqSkymap\n",
    "from hpmoc.healpy import healpy as hp\n",
    "import hpmoc.utils as ut\n",
    "from astropy.table import Table\n",
    "from astropy.wcs import WCS\n",
    "from astroquery.skyview import SkyView\n",
    "\n",
    "DATA = Path(\".\").absolute().parent/\"tests\"/\"data\"\n",
    "\n",
    "NUNIQ_FITS = DATA/'S200105ae.fits'\n",
    "m = PartialUniqSkymap.read(NUNIQ_FITS, strategy='ligo')"
   ]
  },
  {
   "cell_type": "code",
   "execution_count": null,
   "metadata": {},
   "outputs": [],
   "source": [
    "m2o = PartialUniqSkymap.read(DATA/'S200219ac-3-Update.fits.gz', strategy='ligo_old')\n",
    "m2 = PartialUniqSkymap.read(DATA/'S200219ac-3-Update.fits.gz', strategy='ligo')"
   ]
  },
  {
   "cell_type": "code",
   "execution_count": null,
   "metadata": {},
   "outputs": [],
   "source": [
    "m2o.plot()"
   ]
  },
  {
   "cell_type": "code",
   "execution_count": null,
   "metadata": {},
   "outputs": [],
   "source": [
    "m2.plot()"
   ]
  },
  {
   "cell_type": "code",
   "execution_count": null,
   "metadata": {},
   "outputs": [],
   "source": [
    "err = (m2 - m2o)\n",
    "rel_err = (m2 - m2o) / m2o"
   ]
  },
  {
   "cell_type": "code",
   "execution_count": null,
   "metadata": {},
   "outputs": [],
   "source": [
    "diff = rel_err.s != 0\n",
    "np.abs((rel_err[diff].s).value).max()"
   ]
  },
  {
   "cell_type": "code",
   "execution_count": null,
   "metadata": {},
   "outputs": [],
   "source": [
    "(m2o.reraster(m2o.u[diff]).s == 0).sum()"
   ]
  },
  {
   "cell_type": "code",
   "execution_count": null,
   "metadata": {},
   "outputs": [],
   "source": [
    "(m2o.s[diff] == 0).sum()"
   ]
  },
  {
   "cell_type": "code",
   "execution_count": null,
   "metadata": {},
   "outputs": [],
   "source": [
    "m2o[diff].area().sum() == m2.reraster(m2o.u[diff]).area().sum()"
   ]
  },
  {
   "cell_type": "code",
   "execution_count": null,
   "metadata": {},
   "outputs": [],
   "source": [
    "(ut.uniq_minimize(m2o[diff].u)[0] == \n",
    " ut.uniq_minimize(m2.reraster(m2o.u[diff]).u)[0]).all()"
   ]
  },
  {
   "cell_type": "code",
   "execution_count": null,
   "metadata": {},
   "outputs": [],
   "source": [
    "rel_err[diff].plot(cbar=True, projection='CAR', vmin=err.s.value.min(),\n",
    "                   vmax=err.s.value.max(), cmap='plasma')\n",
    "#ax.set_facecolor('gray')"
   ]
  },
  {
   "cell_type": "code",
   "execution_count": null,
   "metadata": {},
   "outputs": [],
   "source": [
    "m2.plot(projection='CAR')"
   ]
  },
  {
   "cell_type": "code",
   "execution_count": null,
   "metadata": {},
   "outputs": [],
   "source": [
    "m2 == m2o"
   ]
  },
  {
   "cell_type": "code",
   "execution_count": null,
   "metadata": {},
   "outputs": [],
   "source": [
    "iu2, iu2o, do = ut.uniq_intersection(m2.u, m2o.u)"
   ]
  },
  {
   "cell_type": "code",
   "execution_count": null,
   "metadata": {},
   "outputs": [],
   "source": [
    "(m2.s[iu2] == m2o.s[iu2o]).all()"
   ]
  },
  {
   "cell_type": "code",
   "execution_count": null,
   "metadata": {},
   "outputs": [],
   "source": [
    "from copy import deepcopy\n",
    "\n",
    "def get_colormap(cmap):\n",
    "    from matplotlib.cm import get_cmap\n",
    "    from matplotlib.colors import Colormap\n",
    "\n",
    "    if not isinstance(cmap, Colormap):\n",
    "        cmap = deepcopy(get_cmap(cmap))\n",
    "    cmap.set_bad(color='gray')\n",
    "    return cmap\n",
    "\n",
    "get_colormap('plasma')"
   ]
  },
  {
   "cell_type": "code",
   "execution_count": null,
   "metadata": {},
   "outputs": [],
   "source": [
    "(rel_err.u == m2o.u).all()"
   ]
  },
  {
   "cell_type": "code",
   "execution_count": null,
   "metadata": {},
   "outputs": [],
   "source": [
    "rel_err.plot(projection='CAR', cbar=True)"
   ]
  },
  {
   "cell_type": "code",
   "execution_count": null,
   "metadata": {},
   "outputs": [],
   "source": [
    "t = Table.read(DATA/'S200219ac-3-Update.fits.gz')"
   ]
  },
  {
   "cell_type": "code",
   "execution_count": null,
   "metadata": {},
   "outputs": [],
   "source": [
    "(m2.reraster(m2o.u).s != m2o.s).sum()"
   ]
  },
  {
   "cell_type": "code",
   "execution_count": null,
   "metadata": {},
   "outputs": [],
   "source": []
  }
 ],
 "metadata": {
  "kernelspec": {
   "display_name": "Python 3",
   "language": "python",
   "name": "python3"
  },
  "language_info": {
   "codemirror_mode": {
    "name": "ipython",
    "version": 3
   },
   "file_extension": ".py",
   "mimetype": "text/x-python",
   "name": "python",
   "nbconvert_exporter": "python",
   "pygments_lexer": "ipython3",
   "version": "3.7.6"
  }
 },
 "nbformat": 4,
 "nbformat_minor": 4
}
