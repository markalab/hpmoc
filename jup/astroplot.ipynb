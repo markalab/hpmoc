{
 "cells": [
  {
   "cell_type": "code",
   "execution_count": null,
   "metadata": {
    "pycharm": {
     "name": "#%%\n"
    }
   },
   "outputs": [],
   "source": [
    "#import healpy as hp\n",
    "from functools import partial\n",
    "import astropy_healpix.healpy as ahp\n",
    "from astropy.coordinates.sky_coordinate import SkyCoord\n",
    "from astropy_healpix import HEALPix\n",
    "from hpmoc.healpy import healpy as hhp\n",
    "from hpmoc.utils import N_X_OFFSET, N_Y_OFFSET, FONT_SIZE, wcs2ang\n",
    "from hpmoc.plotters import outline_effect\n",
    "from hpmoc.plot import (\n",
    "    get_wcs, get_frame_class, _WCS_HEADERS, MIN_GRAT,\n",
    "    DELTA_PARALLELS, DELTA_MERIDIANS, _DELTA_HIGHRES,\n",
    "    get_ticks, ra_exclusions, dec_exclusions,\n",
    "    _RA_EXCLUSIONS, _DEC_EXCLUSIONS, _PROJ_SETTINGS\n",
    ")\n",
    "from hpmoc.points import PointsTuple, Rgba\n",
    "from astropy.units import Unit, deg\n",
    "from matplotlib import pyplot as plt, cm\n",
    "import numpy as np\n",
    "import hpmoc\n",
    "from hpmoc.partial import PartialUniqSkymap\n",
    "from reproject import reproject_from_healpix, reproject_to_healpix\n",
    "import astropy as ap\n",
    "from astropy.units import deg, rad, Unit, Quantity\n",
    "from astropy.wcs import WCS\n",
    "from astropy.io import fits\n",
    "from astropy.visualization.wcsaxes import WCSAxes, WCSAxesSubplot\n",
    "from astropy.visualization.wcsaxes.frame import EllipticalFrame, RectangularFrame\n",
    "from astropy.coordinates import FK5\n",
    "#https://docs.astropy.org/en/stable/visualization/wcsaxes/generic_transforms.html\n",
    "from matplotlib.transforms import Affine2D\n",
    "from matplotlib.projections import projection_registry\n",
    "import matplotlib.pyplot as plt\n",
    "from matplotlib.transforms import ScaledTranslation"
   ]
  },
  {
   "cell_type": "code",
   "execution_count": null,
   "metadata": {
    "scrolled": true
   },
   "outputs": [],
   "source": [
    "SKYMAP = \"../tests/data/S191216ap.fits.gz\"\n",
    "hdu_head, hdu_ligo = fits.open(SKYMAP)[:2]\n",
    "m = PartialUniqSkymap.read(SKYMAP, strategy='ligo')\n",
    "mo = PartialUniqSkymap.read(\"../tests/data/S191216ap.multiorder.fits\", strategy='ligo')\n",
    "# https://github.com/lpsinger/ligo.skymap/blob/main/ligo/skymap/plot/allsky.py#L791\n",
    "target_header = fits.Header.fromstring(\"\"\"\n",
    "NAXIS   =                    2\n",
    "NAXIS1  =                  480\n",
    "NAXIS2  =                  240\n",
    "CTYPE1  = 'RA---MOL'\n",
    "CRPIX1  =                240.5\n",
    "CRVAL1  =                180.0\n",
    "CDELT1  =               -0.675\n",
    "CUNIT1  = 'deg     '\n",
    "CTYPE2  = 'DEC--MOL'\n",
    "CRPIX2  =                120.5\n",
    "CRVAL2  =                  0.0\n",
    "CDELT2  =                0.675\n",
    "CUNIT2  = 'deg     '\n",
    "COORDSYS= 'icrs    '\n",
    "\"\"\", sep='\\n')\n",
    "target_header['CDELT1'] = -np.sqrt(8)/np.pi*360/target_header['NAXIS1']\n",
    "target_header['CDELT2'] = np.sqrt(8)/np.pi*180/target_header['NAXIS2']\n",
    "w = WCS(target_header)\n",
    "wh = WCS(hdu_ligo.header)\n",
    "pts = PointsTuple(\n",
    "    points=[\n",
    "        (271., 31., 2., 'One'),\n",
    "        (355., -44., 3.),\n",
    "        (15., -62., 5.),\n",
    "        (16., -60., 3.),\n",
    "        (10., -30., 10.),\n",
    "    ],\n",
    "    rgba=Rgba(0, 1, 0, 0.3),\n",
    "    marker='x',\n",
    "    label='Test Points',\n",
    ")\n",
    "mo.point_sources = [pts]\n",
    "cr, levels, norm = mo.quantiles([0.1, 1])\n",
    "mr = m.render(w)\n",
    "mor = mo.render(w)\n",
    "array2, footprint2 = reproject_from_healpix(\"../tests/data/S191216ap.fits.gz\",\n",
    "                                            target_header, nested=True)"
   ]
  },
  {
   "cell_type": "code",
   "execution_count": null,
   "metadata": {},
   "outputs": [],
   "source": [
    "(5*Unit('hourangle')+34.5*Unit('arcmin')).to('deg')"
   ]
  },
  {
   "cell_type": "code",
   "execution_count": null,
   "metadata": {},
   "outputs": [],
   "source": [
    "_PROJ_SETTINGS['allsky']"
   ]
  },
  {
   "cell_type": "code",
   "execution_count": null,
   "metadata": {},
   "outputs": [],
   "source": [
    "ax = m.plot(projection='SIN', rot=(60, 15, 0))"
   ]
  },
  {
   "cell_type": "code",
   "execution_count": null,
   "metadata": {},
   "outputs": [],
   "source": [
    "def ticks(include, exclude, ticks, delta, transform):\n",
    "    import numpy as np\n",
    "\n",
    "    bins = np.repeat(ticks, 2).reshape((-1, 2))\n",
    "    bins += np.array([-1, 1]) * delta\n",
    "    bins = bins.ravel()\n",
    "    ihist, _ = np.histogram(transform(include, delta), bins=bins)\n",
    "    ehist, _ = np.histogram(transform(exclude, delta), bins=bins)\n",
    "    matches = (ihist != 0) & (ehist == 0)\n",
    "    return ticks[matches[::2]]"
   ]
  },
  {
   "cell_type": "code",
   "execution_count": null,
   "metadata": {},
   "outputs": [],
   "source": [
    "type(w.pixel_to_world([1, 2], [2, 3]))"
   ]
  },
  {
   "cell_type": "code",
   "execution_count": null,
   "metadata": {},
   "outputs": [],
   "source": [
    "pts_x, pts_y = w.world_to_pixel(SkyCoord(*[*zip(*((r, d) for r, d, *_ in pts.points))]*deg, frame='icrs'))"
   ]
  },
  {
   "cell_type": "code",
   "execution_count": null,
   "metadata": {},
   "outputs": [],
   "source": [
    "np.array(pts.points)[include]"
   ]
  },
  {
   "cell_type": "code",
   "execution_count": null,
   "metadata": {},
   "outputs": [],
   "source": [
    "include=(pts_x < w.pixel_shape[0]) & (pts_x > 0) & (pts_y < w.pixel_shape[1]) & (pts_y > 0)"
   ]
  },
  {
   "cell_type": "code",
   "execution_count": null,
   "metadata": {},
   "outputs": [],
   "source": [
    "pts.points"
   ]
  },
  {
   "cell_type": "code",
   "execution_count": null,
   "metadata": {},
   "outputs": [],
   "source": [
    "w.world_to_pixel?"
   ]
  },
  {
   "cell_type": "code",
   "execution_count": null,
   "metadata": {},
   "outputs": [],
   "source": [
    "w.world_to_pixel(SkyCoord([30, 31]*deg, [2, 3]*deg, frame='icrs'))"
   ]
  },
  {
   "cell_type": "code",
   "execution_count": null,
   "metadata": {},
   "outputs": [],
   "source": [
    "ra_exclusions(ax)"
   ]
  },
  {
   "cell_type": "code",
   "execution_count": null,
   "metadata": {},
   "outputs": [],
   "source": [
    "get_ticks(wcs2ang(ax.wcs)[1].value+3, ra_exclusions(ax)+3, np.arange(30, 390, 30),\n",
    "      3, lambda x, d: x+d%360)"
   ]
  },
  {
   "cell_type": "code",
   "execution_count": null,
   "metadata": {},
   "outputs": [],
   "source": [
    "get_ticks(wcs2ang(ax.wcs)[2].value, dec_exclusions(ax), np.arange(-75, 90, 15),\n",
    "      2, lambda x, _: x)"
   ]
  },
  {
   "cell_type": "code",
   "execution_count": null,
   "metadata": {},
   "outputs": [],
   "source": [
    "ticks(wcs2ang(w)[2].value, "
   ]
  },
  {
   "cell_type": "code",
   "execution_count": null,
   "metadata": {},
   "outputs": [],
   "source": [
    "np.abs(ax.wcs.to_header()['CDELT1'])"
   ]
  },
  {
   "cell_type": "code",
   "execution_count": null,
   "metadata": {},
   "outputs": [],
   "source": [
    "w.to_header()['CDELT1']"
   ]
  },
  {
   "cell_type": "code",
   "execution_count": null,
   "metadata": {},
   "outputs": [],
   "source": [
    "ax = mo.plot()\n",
    "#co_ra, co_dec = ax.coords\n",
    "#co_ra.set_major_formatter(\"dd:mm\")"
   ]
  },
  {
   "cell_type": "code",
   "execution_count": null,
   "metadata": {},
   "outputs": [],
   "source": [
    "ELLIPTICAL_EDGE_EXCLUSION = 50\n",
    "\n",
    "def _parametric_ra_exclusion(ra_height, w):\n",
    "    import numpy as np\n",
    "\n",
    "    return w.pixel_to_world(\n",
    "        *np.meshgrid(*map(np.arange, w.pixel_shape), sparse=True)\n",
    "    ).icrs.ra.value[\n",
    "        ra_height(w),\n",
    "        np.concatenate((\n",
    "            np.arange(int(w.pixel_shape[0])//ELLIPTICAL_EDGE_EXCLUSION),\n",
    "            -np.arange(1, int(w.pixel_shape[0])//ELLIPTICAL_EDGE_EXCLUSION),\n",
    "        ))\n",
    "    ]\n",
    "\n",
    "\n",
    "def _dec_exclusion(w):\n",
    "    import numpy as np\n",
    "    \n",
    "    dec = w.pixel_to_world(\n",
    "            *np.meshgrid(*map(np.arange, w.pixel_shape), sparse=True)\n",
    "        ).icrs.dec.value[\n",
    "        np.concatenate((\n",
    "            np.arange(int(w.pixel_shape[1])//ELLIPTICAL_EDGE_EXCLUSION),\n",
    "            np.arange(1, int(w.pixel_shape[1])//ELLIPTICAL_EDGE_EXCLUSION),\n",
    "        ))\n",
    "    ]\n",
    "    return dec[~np.isnan(dec)]\n",
    "\n",
    "\n",
    "RA_EXCLUSIONS = {\n",
    "    EllipticalFrame: partial(_parametric_ra_exclusion,\n",
    "                             lambda w: int(w.pixel_shape[1])//2),\n",
    "    object: partial(_parametric_ra_exclusion, lambda _: -1,),\n",
    "}\n",
    "DEC_EXCLUSIONS = {\n",
    "    object: _dec_exclusion,\n",
    "}\n",
    "\n",
    "\n",
    "def _exclusions(registry, ax):\n",
    "    w = ax.wcs\n",
    "    frame_class = ax.coords.frame.__class__\n",
    "    for c in frame_class.mro():\n",
    "        if c in registry:\n",
    "            return registry[c](w)\n",
    "        \n",
    "\n",
    "ra_exclusions = partial(_exclusions, RA_EXCLUSIONS)\n",
    "ra_exclusions.__doc__ = \"Get RA values to exclude from ticks.\"\n",
    "dec_exclusions = partial(_exclusions, DEC_EXCLUSIONS)\n",
    "dec_exclusions.__doc__ = \"Get declination values to exclude from ticks.\""
   ]
  },
  {
   "cell_type": "code",
   "execution_count": null,
   "metadata": {},
   "outputs": [],
   "source": [
    "dec_exclusions(ax)"
   ]
  },
  {
   "cell_type": "code",
   "execution_count": null,
   "metadata": {},
   "outputs": [],
   "source": [
    "ra_exclusions(w, EllipticalFrame)"
   ]
  },
  {
   "cell_type": "code",
   "execution_count": null,
   "metadata": {},
   "outputs": [],
   "source": [
    "(lambda x: x[~np.isnan(x)])(\n",
    "    w.pixel_to_world(\n",
    "            *np.meshgrid(*map(np.arange, w.pixel_shape), sparse=True)\n",
    "        ).icrs.dec.value[\n",
    "        np.concatenate((\n",
    "            np.arange(int(w.pixel_shape[1])//ELLIPTICAL_EDGE_EXCLUSION),\n",
    "            np.arange(1, int(w.pixel_shape[1])//ELLIPTICAL_EDGE_EXCLUSION),\n",
    "        ))\n",
    "    ]\n",
    ")"
   ]
  },
  {
   "cell_type": "code",
   "execution_count": null,
   "metadata": {},
   "outputs": [],
   "source": [
    "RA_EXCLUSIONS[EllipticalFrame](w)"
   ]
  },
  {
   "cell_type": "code",
   "execution_count": null,
   "metadata": {},
   "outputs": [],
   "source": [
    "np.concatenate((\n",
    "                np.arange(int(ax.wcs.pixel_shape[0])//ELLIPTICAL_EDGE_EXCLUSION),\n",
    "                -np.arange(1, int(ax.wcs.pixel_shape[0])//ELLIPTICAL_EDGE_EXCLUSION),\n",
    "            ))"
   ]
  },
  {
   "cell_type": "code",
   "execution_count": null,
   "metadata": {},
   "outputs": [],
   "source": [
    "def ra_transform("
   ]
  },
  {
   "cell_type": "code",
   "execution_count": null,
   "metadata": {},
   "outputs": [],
   "source": [
    "EllipticalFrame.mro()"
   ]
  },
  {
   "cell_type": "code",
   "execution_count": null,
   "metadata": {},
   "outputs": [],
   "source": [
    "np.array([True, False]) & np.array([True, True])"
   ]
  },
  {
   "cell_type": "code",
   "execution_count": null,
   "metadata": {},
   "outputs": [],
   "source": [
    "DELTA_MERIDIANS"
   ]
  },
  {
   "cell_type": "code",
   "execution_count": null,
   "metadata": {},
   "outputs": [],
   "source": [
    "hpmoc.plotters.mollview(mo)\n",
    "plt.show()"
   ]
  },
  {
   "cell_type": "code",
   "execution_count": null,
   "metadata": {},
   "outputs": [],
   "source": [
    "EllipticalFrame.spine_names"
   ]
  },
  {
   "cell_type": "code",
   "execution_count": null,
   "metadata": {},
   "outputs": [],
   "source": [
    "mo.mollview()\n",
    "plt.show()"
   ]
  },
  {
   "cell_type": "code",
   "execution_count": null,
   "metadata": {},
   "outputs": [],
   "source": [
    "ax2 = mo.plot(cr=[0.9, 0.99],\n",
    "              cr_kwargs={'colors': 'blue'},\n",
    "              projection=\"PAR\",\n",
    "              #hdelta=1,\n",
    "              #vdelta=1,\n",
    "              cr_filled=True,\n",
    "              )\n",
    "              # cr_format=lambda q, v: f\"{100*q:.0f}% CR\")\n",
    "ax2.legend()"
   ]
  },
  {
   "cell_type": "code",
   "execution_count": null,
   "metadata": {
    "pycharm": {
     "name": "#%%\n"
    },
    "scrolled": false
   },
   "outputs": [],
   "source": [
    "mo.point_sources = []\n",
    "ax2 = mo.plot(cr=[0.9],\n",
    "              cmap='plasma',\n",
    "              sigmas=[],\n",
    "              cr_kwargs={'colors': 'blue'},\n",
    "              projection=\"ZEA\",\n",
    "              #hdelta=4/np.pi,\n",
    "              #vdelta=4/np.pi,\n",
    "              frame_class=EllipticalFrame,\n",
    "              rot=(315, 90, 0),\n",
    "              )\n",
    "              # cr_format=lambda q, v: f\"{100*q:.0f}% CR\")\n",
    "#ax2.legend()\n",
    "ax2.set_title(\"LVC/IceCube\")"
   ]
  },
  {
   "cell_type": "code",
   "execution_count": null,
   "metadata": {},
   "outputs": [],
   "source": [
    "ax2.set_title(\""
   ]
  },
  {
   "cell_type": "code",
   "execution_count": null,
   "metadata": {
    "pycharm": {
     "name": "#%%\n"
    }
   },
   "outputs": [],
   "source": [
    "mo.plot(cmap=None, cr=[0.5, 0.9])"
   ]
  },
  {
   "cell_type": "code",
   "execution_count": null,
   "metadata": {},
   "outputs": [],
   "source": [
    "import astropy_healpix.healpy as ahp\n",
    "import healpy as hp\n",
    "from hpmoc.healpy import healpy as hhp"
   ]
  },
  {
   "cell_type": "code",
   "execution_count": null,
   "metadata": {},
   "outputs": [],
   "source": [
    "hp.ang2vec([1, 2], [3, 4], lonlat=False).shape == (3, 2)"
   ]
  },
  {
   "cell_type": "code",
   "execution_count": null,
   "metadata": {
    "pycharm": {
     "name": "#%%\n"
    }
   },
   "outputs": [],
   "source": [
    "ax2.contour?"
   ]
  },
  {
   "cell_type": "code",
   "execution_count": null,
   "metadata": {
    "pycharm": {
     "name": "#%%\n"
    }
   },
   "outputs": [],
   "source": [
    "ax1 = mo.plot()\n",
    "ax1.contour(mo.render(ax1.wcs), transform=ax1.get_transform(ax1.wcs),\n",
    "            levels=mo.quantiles([0, 0.1])[1][1:], colors='blue')"
   ]
  },
  {
   "cell_type": "code",
   "execution_count": null,
   "metadata": {
    "pycharm": {
     "name": "#%%\n"
    }
   },
   "outputs": [],
   "source": [
    "levels"
   ]
  },
  {
   "cell_type": "code",
   "execution_count": null,
   "metadata": {
    "pycharm": {
     "name": "#%%\n"
    }
   },
   "outputs": [],
   "source": [
    "mocr.plot()"
   ]
  },
  {
   "cell_type": "code",
   "execution_count": null,
   "metadata": {
    "pycharm": {
     "name": "#%%\n"
    }
   },
   "outputs": [],
   "source": [
    "mo.plot(width=720, height=360)"
   ]
  },
  {
   "cell_type": "code",
   "execution_count": null,
   "metadata": {
    "pycharm": {
     "name": "#%%\n"
    }
   },
   "outputs": [],
   "source": [
    "fig = plt.figure(dpi=200)\n",
    "mo.plot(fig=fig)"
   ]
  },
  {
   "cell_type": "markdown",
   "metadata": {
    "pycharm": {
     "name": "#%% md\n"
    }
   },
   "source": [
    "- [Some examples of setting the coordinate formatter](https://wcsaxes.readthedocs.io/en/latest/ticks_labels_grid.html)\n",
    "- [Seemingly same site here](https://docs.astropy.org/en/stable/visualization/wcsaxes/ticks_labels_grid.html)\n",
    "- [WCS Example FITS files](https://www.atnf.csiro.au/people/mcalabre/WCS/example_data.html)"
   ]
  }
 ],
 "metadata": {
  "kernelspec": {
   "display_name": "Python 3",
   "language": "python",
   "name": "python3"
  },
  "language_info": {
   "codemirror_mode": {
    "name": "ipython",
    "version": 3
   },
   "file_extension": ".py",
   "mimetype": "text/x-python",
   "name": "python",
   "nbconvert_exporter": "python",
   "pygments_lexer": "ipython3",
   "version": "3.7.6"
  }
 },
 "nbformat": 4,
 "nbformat_minor": 1
}
