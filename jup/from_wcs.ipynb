{
 "cells": [
  {
   "cell_type": "code",
   "execution_count": null,
   "metadata": {},
   "outputs": [],
   "source": [
    "from pathlib import Path\n",
    "from matplotlib import pyplot as plt\n",
    "import numpy as np\n",
    "from hpmoc import PartialUniqSkymap\n",
    "from hpmoc.healpy import healpy as hp\n",
    "from hpmoc.plot import plot, gridplot\n",
    "import hpmoc.utils as ut\n",
    "from astropy.table import Table\n",
    "from astropy.wcs import WCS\n",
    "from astroquery.skyview import SkyView\n",
    "from astropy.coordinates.sky_coordinate import SkyCoord\n",
    "from astropy.units import Unit, deg, rad\n",
    "from scipy.interpolate import interp2d\n",
    "from nptyping import NDArray\n",
    "from typing import Any, Tuple, Callable, Union, Optional\n",
    "\n",
    "DATA = Path(\".\").absolute().parent/\"tests\"/\"data\"\n",
    "\n",
    "NUNIQ_FITS = DATA/'S200105ae.fits'\n",
    "m = PartialUniqSkymap.read(NUNIQ_FITS, strategy='ligo')"
   ]
  },
  {
   "cell_type": "code",
   "execution_count": null,
   "metadata": {},
   "outputs": [],
   "source": [
    "hdu = SkyView.get_images(position='M1', survey='BAT SNR 150-195')[0][0]"
   ]
  },
  {
   "cell_type": "code",
   "execution_count": null,
   "metadata": {},
   "outputs": [],
   "source": [
    "mh = PartialUniqSkymap(hdu.data, WCS(hdu.header))"
   ]
  },
  {
   "cell_type": "code",
   "execution_count": null,
   "metadata": {},
   "outputs": [],
   "source": [
    "mh.plot(fig={'dpi': 200}, missing_color='blue', nan_color='green',\n",
    "       width=1440, height=1440, rot=(80, 20), projection=WCS(hdu.header))"
   ]
  },
  {
   "cell_type": "code",
   "execution_count": null,
   "metadata": {},
   "outputs": [],
   "source": [
    "w = WCS(hdu.header)\n",
    "m.plot(projection=w, cr=[0.9], cr_kwargs={'colors': 'blue'})"
   ]
  },
  {
   "cell_type": "code",
   "execution_count": null,
   "metadata": {},
   "outputs": [],
   "source": [
    "axh = plt.subplot(1, 1, 1, projection=w)\n",
    "axh.imshow(hdu.data, cmap='gist_heat_r')"
   ]
  },
  {
   "cell_type": "code",
   "execution_count": null,
   "metadata": {
    "scrolled": false
   },
   "outputs": [],
   "source": [
    "m"
   ]
  },
  {
   "cell_type": "code",
   "execution_count": null,
   "metadata": {},
   "outputs": [],
   "source": [
    "m.plot()"
   ]
  },
  {
   "cell_type": "code",
   "execution_count": null,
   "metadata": {
    "scrolled": false
   },
   "outputs": [],
   "source": [
    "ax = m.plot(rot=(70, 5), vdelta=0.3, hdelta=0.3, projection='TAN')"
   ]
  },
  {
   "cell_type": "code",
   "execution_count": null,
   "metadata": {},
   "outputs": [],
   "source": [
    "from hpmoc.utils import wcs2ang, resol2nside, wcs2resol, nest2uniq, wcs2nest\n",
    "\n",
    "wcs = ax.wcs\n",
    "data = ax.images[0].get_array().data.T\n",
    "\n",
    "# nearest-neighbor\n",
    "def interp_wcs_nn(\n",
    "        wcs: 'astropy.wcs.WCS',\n",
    "        data: NDArray[(Any,), Any],\n",
    ") -> Tuple[NDArray[(Any,), int], NDArray[(Any,), float]]:\n",
    "    \"\"\"\n",
    "    Do a nearest-neighbor interpolation of ``data`` with coordinates\n",
    "    specified by ``wcs`` FITS world coordinate system.\n",
    "\n",
    "    Parameters\n",
    "    ----------\n",
    "    wcs : astropy.wcs.WCS\n",
    "        The world coordinate system defining pixel locations. If loading\n",
    "        a FITS file as an HDU called ``hdu``, you can get this argument\n",
    "        as ``astropy.wcs.WCS(hdu.header)``. *Note that you will need to\n",
    "        manually include units for dimensionful quantities.*\n",
    "    data : array-like\n",
    "        The data corresponding to ``WCS``. Available from an HDU as\n",
    "        ``hdu.data``.\n",
    "\n",
    "    Returns\n",
    "    -------\n",
    "    u : array\n",
    "        The corresponding NUNIQ HEALPix indices of the input skymap.\n",
    "    s : array-like\n",
    "        The pixel-values of the input skymap interpolated at the locations of\n",
    "        the pixels in ``u``.\n",
    "        \n",
    "    See Also\n",
    "    --------\n",
    "    hpmoc.partial.PartialUniqSkymap\n",
    "    astropy.wcs.WCS\n",
    "    \"\"\"\n",
    "    nside, nest, x, y = wcs2nest(wcs, order_delta=2)\n",
    "    interp = data[np.round(x).astype(int), np.round(y).astype(int)]\n",
    "    return nest2uniq(nest, nside), interp\n",
    "\n",
    "\n",
    "def interp_wcs(\n",
    "        wcs: 'astropy.wcs.WCS',\n",
    "        data: NDArray[(Any,), Any],\n",
    "        interp: Optional[\n",
    "            Union[\n",
    "                str,\n",
    "                Tuple[\n",
    "                    int,\n",
    "                    Callable[\n",
    "                        [\n",
    "                            NDArray[(Any,), float],\n",
    "                            NDArray[(Any,), float],\n",
    "                            NDArray[(Any,), Any]\n",
    "                        ],\n",
    "                    NDArray[(Any,), Any]\n",
    "                    ]\n",
    "                ],\n",
    "            ]\n",
    "        ] = 'nearest'\n",
    ") -> Tuple[NDArray[(Any,), int], NDArray[(Any,), float]]:\n",
    "    \"\"\"\n",
    "    Interpolate ``data`` with coordinates specified by ``wcs`` FITS\n",
    "    world coordinate system into a HEALPix NUNIQ skymap.\n",
    "\n",
    "    Parameters\n",
    "    ----------\n",
    "    wcs : astropy.wcs.WCS\n",
    "        The world coordinate system defining pixel locations. If loading\n",
    "        a FITS file as an HDU called ``hdu``, you can get this argument\n",
    "        as ``astropy.wcs.WCS(hdu.header)``. *Note that you will need to\n",
    "        manually include units for dimensionful quantities.*\n",
    "    data : array-like\n",
    "        The data corresponding to ``WCS``. Available from an HDU as\n",
    "        ``hdu.data``.\n",
    "    interp : str or (int, func), optional\n",
    "        The interpolation strategy to use. Can be a string specifying one\n",
    "        of the following pre-defined strategies:\n",
    "        \n",
    "        - \"nearest\" for nearest-neighbor\n",
    "        - \"bilinear\" for bicubic\n",
    "        \n",
    "        or else a tuple whose first element is the number of orders by\n",
    "        which the pixels covering the ``WCS`` should have their resolution\n",
    "        increased (\"nearest\" uses a value of 2, \"bilinear\" a value of 1;\n",
    "        heuristically, a more sophisticated interpolation scheme can probably\n",
    "        get away with 1), while the second element is a function taking the\n",
    "        x, y coordinates of the pixels followed by the pixel values in ``data``\n",
    "        and returning the interpolated pixel values (which will form the return\n",
    "        value ``s`` of this function).\n",
    "\n",
    "    Returns\n",
    "    -------\n",
    "    u : array\n",
    "        The corresponding NUNIQ HEALPix indices of the input skymap.\n",
    "    s : array-like\n",
    "        The pixel-values of the input skymap interpolated at the locations of\n",
    "        the pixels in ``u``.\n",
    "        \n",
    "    See Also\n",
    "    --------\n",
    "    hpmoc.partial.PartialUniqSkymap\n",
    "    astropy.wcs.WCS\n",
    "    \"\"\"\n",
    "    if interp == 'nearest':\n",
    "        return interp_wcs_nn(wcs, data)\n",
    "    if interp == 'bilinear':\n",
    "        raise NotImplementedError()\n",
    "    if isinstance(interp, str):\n",
    "        raise ValueError(f\"Unrecognized interpolation strategy: {interp}\")\n",
    "    nside, nest, x, y = wcs2nest(wcs, order_delta=interp[0])\n",
    "    return nest2uniq(nest, nside), interp(x, y, data)"
   ]
  },
  {
   "cell_type": "code",
   "execution_count": null,
   "metadata": {},
   "outputs": [],
   "source": [
    "PartialUniqSkymap(hdu.data, WCS(hdu.header))"
   ]
  },
  {
   "cell_type": "code",
   "execution_count": null,
   "metadata": {},
   "outputs": [],
   "source": [
    "interp_wcs(w, hdu.data)"
   ]
  },
  {
   "cell_type": "code",
   "execution_count": null,
   "metadata": {},
   "outputs": [],
   "source": [
    "u, s = interp_wcs_nn(w, hdu.data)"
   ]
  },
  {
   "cell_type": "code",
   "execution_count": null,
   "metadata": {},
   "outputs": [],
   "source": [
    "hdu.data.size"
   ]
  },
  {
   "cell_type": "code",
   "execution_count": null,
   "metadata": {},
   "outputs": [],
   "source": [
    "WCS(hdu.header)"
   ]
  },
  {
   "cell_type": "code",
   "execution_count": null,
   "metadata": {},
   "outputs": [],
   "source": [
    "mh = PartialUniqSkymap(hdu.data[np.round(x).astype(int), np.round(y).astype(int)],\n",
    "                       nest2uniq(nest, nside))"
   ]
  },
  {
   "cell_type": "code",
   "execution_count": null,
   "metadata": {},
   "outputs": [],
   "source": [
    "axw = plt.subplot(1, 2, 1, projection=w)\n",
    "axw.imshow(hdu.data, cmap='gist_heat_r')\n",
    "axh = mh.plot(fig=axw.figure, subplot=(1, 2, 2), projection=w)\n",
    "axh.grid(False)"
   ]
  },
  {
   "cell_type": "code",
   "execution_count": null,
   "metadata": {},
   "outputs": [],
   "source": [
    "plt.imshow(data)"
   ]
  },
  {
   "cell_type": "code",
   "execution_count": null,
   "metadata": {},
   "outputs": [],
   "source": [
    "ax2 = PartialUniqSkymap(interp, nest2uniq(nest, nside)).plot(nan_color='#0007',\n",
    "                                                             missing_color='#7777',\n",
    "                                                             cr=[0.9])\n",
    "ax2.set_facecolor('blue')"
   ]
  },
  {
   "cell_type": "code",
   "execution_count": null,
   "metadata": {},
   "outputs": [],
   "source": [
    "im = ax.images[0]"
   ]
  },
  {
   "cell_type": "code",
   "execution_count": null,
   "metadata": {},
   "outputs": [],
   "source": [
    "im.get_array().data.shape"
   ]
  },
  {
   "cell_type": "code",
   "execution_count": null,
   "metadata": {},
   "outputs": [],
   "source": [
    "interp2d?"
   ]
  },
  {
   "cell_type": "code",
   "execution_count": null,
   "metadata": {},
   "outputs": [],
   "source": [
    "ax.images[0].get_interpolation"
   ]
  },
  {
   "cell_type": "code",
   "execution_count": null,
   "metadata": {},
   "outputs": [],
   "source": [
    "len(nest)"
   ]
  },
  {
   "cell_type": "code",
   "execution_count": null,
   "metadata": {},
   "outputs": [],
   "source": [
    "wcs2nest(wcs, order_delta=1)"
   ]
  },
  {
   "cell_type": "code",
   "execution_count": null,
   "metadata": {},
   "outputs": [],
   "source": [
    "len(x)"
   ]
  },
  {
   "cell_type": "code",
   "execution_count": null,
   "metadata": {},
   "outputs": [],
   "source": [
    "(4 * nest.reshape((-1, 1)) + np.arange(4)).ravel()"
   ]
  },
  {
   "cell_type": "code",
   "execution_count": null,
   "metadata": {},
   "outputs": [],
   "source": [
    "sum(include)"
   ]
  },
  {
   "cell_type": "code",
   "execution_count": null,
   "metadata": {},
   "outputs": [],
   "source": [
    "len(nest)"
   ]
  },
  {
   "cell_type": "code",
   "execution_count": null,
   "metadata": {},
   "outputs": [],
   "source": [
    "hp.n"
   ]
  },
  {
   "cell_type": "code",
   "execution_count": null,
   "metadata": {},
   "outputs": [],
   "source": [
    "ax.wcs.world_toP"
   ]
  },
  {
   "cell_type": "code",
   "execution_count": null,
   "metadata": {},
   "outputs": [],
   "source": []
  },
  {
   "cell_type": "code",
   "execution_count": null,
   "metadata": {},
   "outputs": [],
   "source": [
    "ut.resol2nside(ut.wcs2resol(ax.wcs).to('rad').value, degrees=False) << 1"
   ]
  },
  {
   "cell_type": "code",
   "execution_count": null,
   "metadata": {},
   "outputs": [],
   "source": [
    "ut.wcs2mask_and_uniq(ax.wcs)"
   ]
  },
  {
   "cell_type": "code",
   "execution_count": null,
   "metadata": {},
   "outputs": [],
   "source": [
    "ax.wcs.pixel_shape[0]/ax.wcs.pixel_shape[1]"
   ]
  },
  {
   "cell_type": "code",
   "execution_count": null,
   "metadata": {},
   "outputs": [],
   "source": [
    "fig = plt.gcf()"
   ]
  },
  {
   "cell_type": "code",
   "execution_count": null,
   "metadata": {},
   "outputs": [],
   "source": [
    "fig.get_size_inches()"
   ]
  },
  {
   "cell_type": "code",
   "execution_count": null,
   "metadata": {},
   "outputs": [],
   "source": [
    "fig = plt.figure()\n"
   ]
  }
 ],
 "metadata": {
  "kernelspec": {
   "display_name": "Python 3",
   "language": "python",
   "name": "python3"
  },
  "language_info": {
   "codemirror_mode": {
    "name": "ipython",
    "version": 3
   },
   "file_extension": ".py",
   "mimetype": "text/x-python",
   "name": "python",
   "nbconvert_exporter": "python",
   "pygments_lexer": "ipython3",
   "version": "3.7.6"
  }
 },
 "nbformat": 4,
 "nbformat_minor": 4
}
