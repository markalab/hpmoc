{
 "cells": [
  {
   "cell_type": "code",
   "execution_count": 46,
   "metadata": {},
   "outputs": [],
   "source": [
    "import numpy as np\n",
    "from matplotlib import pyplot as plt\n",
    "import hpmoc as hpm\n",
    "from hpmoc.healpy import healpy as hp\n",
    "from hpmoc import PartialUniqSkymap\n",
    "from hpmoc import utils as ut\n",
    "\n",
    "u = np.concatenate([ut.nest2uniq(np.arange(2), 1), ut.nest2uniq(np.arange(8, 17), 2)])\n",
    "x = np.full_like(u, 4)\n",
    "m = np.array([1, 2, 3, 3, 3, 3, 4, 5, 6, 7, 8])\n",
    "assert len(u) == len(m)"
   ]
  },
  {
   "cell_type": "code",
   "execution_count": 68,
   "metadata": {},
   "outputs": [
    {
     "name": "stdout",
     "output_type": "stream",
     "text": [
      "[ 4  5 24 25 26 27 28 29 30 31 32]\n"
     ]
    }
   ],
   "source": [
    "print(u)"
   ]
  },
  {
   "cell_type": "code",
   "execution_count": 4,
   "metadata": {},
   "outputs": [
    {
     "data": {
      "text/plain": [
       "array([0, 0, 1, 1, 1, 1, 1, 1, 1, 1, 1])"
      ]
     },
     "execution_count": 4,
     "metadata": {},
     "output_type": "execute_result"
    }
   ],
   "source": [
    "ut.uniq2order(u)"
   ]
  },
  {
   "cell_type": "code",
   "execution_count": 8,
   "metadata": {},
   "outputs": [
    {
     "data": {
      "text/plain": [
       "array([64, 16,  4])"
      ]
     },
     "execution_count": 8,
     "metadata": {},
     "output_type": "execute_result"
    }
   ],
   "source": [
    "z = np.arange(ut.uniq2order(u[-1])+1, -1, -1)\n",
    "ut.nest2uniq(np.zeros_like(z), hp.order2nside(z))"
   ]
  },
  {
   "cell_type": "code",
   "execution_count": 25,
   "metadata": {},
   "outputs": [
    {
     "data": {
      "text/plain": [
       "array([2, 1, 0])"
      ]
     },
     "execution_count": 25,
     "metadata": {},
     "output_type": "execute_result"
    }
   ],
   "source": [
    "z"
   ]
  },
  {
   "cell_type": "code",
   "execution_count": 63,
   "metadata": {},
   "outputs": [],
   "source": [
    "from operator import eq\n",
    "\n",
    "def uniq_minimize(u, *x, test=eq, combine=lambda x, i: x[i]):\n",
    "    isort = np.argsort(u)\n",
    "    u = u[isort]\n",
    "    x = [*x]\n",
    "    us = []\n",
    "    xs = [[] for _ in x]\n",
    "    orders = np.arange(ut.uniq2order(u[-1])+1, -1, -1)\n",
    "    bounds = np.searchsorted(u, ut.nest2uniq(np.zeros_like(orders),\n",
    "                                             hp.order2nside(orders)))\n",
    "    for xx in x:\n",
    "        if len(xx) != len(u):\n",
    "            raise ValueError(\"Indices and values must have same length.\")\n",
    "        xx = xx[isort]\n",
    "    for i in range(len(bounds)-2):\n",
    "        last, first = bounds[i:i+2]\n",
    "        if last - first < 4:\n",
    "            continue\n",
    "        uu = u[first:last-3].copy()\n",
    "        # find 0th pixels from matching quartets\n",
    "        m = np.zeros((last-first,), dtype=bool)\n",
    "        m[:-3] = uu % 4 == 0\n",
    "        for j in range(3):\n",
    "            uu += 1\n",
    "            m[:-3] &= uu == u[first+1+j:last-2+j]\n",
    "            for xx in x:\n",
    "                m[:-3] &= test(xx[first:last-3], xx[first+1+j:last-2+j])\n",
    "        # now find skipped indices\n",
    "        s = m.copy()\n",
    "        # do not mutate and compare simultaneously\n",
    "        s[1:-2] = s[1:-2] | s[:-3]\n",
    "        s[2:] = s[2:] | s[:-2]\n",
    "        np.logical_not(s, out=s)\n",
    "        # store the skipped indices for later concatenation\n",
    "        us.append(u[first:last][s])\n",
    "        for xxs, xx in zip(xs, x):\n",
    "            xxs.append(xx[first:last][s])\n",
    "        # combine pixels and put into existing buf adjacent next lowest order\n",
    "        combined = u[first:last][m] // 4\n",
    "        nc = len(combined)\n",
    "        u[first:first+nc] = combined\n",
    "        del combined\n",
    "        for xx in x:\n",
    "            xx[first:first+nc] = combine(xx[first:last], m)\n",
    "        assert 4 * nc + len(us[-1]) == last - first\n",
    "        # absorb combined pixels by modifying the next lowest order's bounds\n",
    "        bounds[i+1] += nc\n",
    "        # now re-sort the next lowest order\n",
    "        next_last, next_first = bounds[i+1:i+3]\n",
    "        isort = u[next_first:next_last].argsort()\n",
    "        u[next_first:next_last] = u[next_first:next_last][isort]\n",
    "        for xx in x:\n",
    "            xx[next_first:next_last] = xx[next_first:next_last][isort]\n",
    "    #breakpoint()\n",
    "    return [np.concatenate([y[:bounds[-2]], *ys[::-1]])\n",
    "            for y, ys in zip([u, *x], [us, *xs])]"
   ]
  },
  {
   "cell_type": "code",
   "execution_count": 69,
   "metadata": {
    "scrolled": false
   },
   "outputs": [
    {
     "name": "stdout",
     "output_type": "stream",
     "text": [
      "[ 4  5  6  7 32]\n"
     ]
    }
   ],
   "source": [
    "print(uniq_minimize(u)[0])"
   ]
  },
  {
   "cell_type": "code",
   "execution_count": 72,
   "metadata": {
    "scrolled": false
   },
   "outputs": [
    {
     "name": "stdout",
     "output_type": "stream",
     "text": [
      "[1 1 1 1 1]\n"
     ]
    }
   ],
   "source": [
    "print(uniq_minimize(u, x)[1]//4)"
   ]
  },
  {
   "cell_type": "code",
   "execution_count": 66,
   "metadata": {},
   "outputs": [
    {
     "data": {
      "text/plain": [
       "array([ 4,  5, 24, 25, 26, 27, 28, 29, 30, 31, 32])"
      ]
     },
     "execution_count": 66,
     "metadata": {},
     "output_type": "execute_result"
    }
   ],
   "source": [
    "u"
   ]
  },
  {
   "cell_type": "code",
   "execution_count": 73,
   "metadata": {},
   "outputs": [],
   "source": [
    "um, xm = uniq_minimize(u, np.array([1, 2, 3, 3, 3, 3, 4, 5, 6, 7, 8]))"
   ]
  },
  {
   "cell_type": "code",
   "execution_count": 75,
   "metadata": {},
   "outputs": [
    {
     "name": "stdout",
     "output_type": "stream",
     "text": [
      "[1 2 3 4 5 6 7 8]\n"
     ]
    }
   ],
   "source": [
    "print(xm)"
   ]
  },
  {
   "cell_type": "code",
   "execution_count": 76,
   "metadata": {},
   "outputs": [],
   "source": [
    "m = PartialUniqSkymap.read(\"../tests/data/S191216ap.fits.gz\", strategy=\"ligo\")"
   ]
  },
  {
   "cell_type": "code",
   "execution_count": 77,
   "metadata": {},
   "outputs": [],
   "source": [
    "mo = PartialUniqSkymap.read(\"../tests/data/S191216ap.multiorder.fits\", strategy=\"ligo\")"
   ]
  },
  {
   "cell_type": "code",
   "execution_count": 78,
   "metadata": {},
   "outputs": [
    {
     "data": {
      "text/html": [
       "\n",
       "        <style>\n",
       "            .partialuniq_flexbox {\n",
       "                display: flex;\n",
       "                flex-wrap: wrap;\n",
       "                pad: -0.5em;\n",
       "            }\n",
       "\n",
       "            .partialuniq_flexbox > div {\n",
       "                margin: 0.5em;\n",
       "            }\n",
       "\n",
       "            .partialuniq_flexbox_vert {\n",
       "                flex-direction: column;\n",
       "            }\n",
       "        </style>\n",
       "        <div class=\"partialuniq_flexbox\">\n",
       "                <div style=\"vertical-align: top;\">\n",
       "                    <h5>Skymap (3145728 pixels)</h5>\n",
       "                    <table>\n",
       "                        <thead><tr><th>UNIQ</th><th>PROBDENSITY</th></tr></thead>\n",
       "                        <thead><tr><th></th><th>1 / sr</th></tr></thead>\n",
       "                        <thead><tr><th>int64</th><th>float64</th></tr></thead>\n",
       "                        <tr><td>1048576</td><td>3.213695489137866e-08</td></tr>\n",
       "<tr><td>1048577</td><td>3.213695489137866e-08</td></tr>\n",
       "<tr><td>1048578</td><td>3.213695489137866e-08</td></tr>\n",
       "<tr><td>1048579</td><td>3.213695489137866e-08</td></tr>\n",
       "<tr><td>1048580</td><td>3.213695489137866e-08</td></tr>\n",
       "<tr><td>1048581</td><td>3.213695489137866e-08</td></tr>\n",
       "<tr><td>1048582</td><td>3.213695489137866e-08</td></tr>\n",
       "<tr><td>1048583</td><td>3.213695489137866e-08</td></tr>\n",
       "<tr><td>1048584</td><td>3.213695489137866e-08</td></tr>\n",
       "<tr><td>...</td><td>...</td></tr>\n",
       "<tr><td>4194294</td><td>0.03207936582000511</td></tr>\n",
       "<tr><td>4194295</td><td>0.03207936582000511</td></tr>\n",
       "<tr><td>4194296</td><td>0.03207936582000511</td></tr>\n",
       "<tr><td>4194297</td><td>0.03207936582000511</td></tr>\n",
       "<tr><td>4194298</td><td>0.03207936582000511</td></tr>\n",
       "<tr><td>4194299</td><td>0.03207936582000511</td></tr>\n",
       "<tr><td>4194300</td><td>0.03207936582000511</td></tr>\n",
       "<tr><td>4194301</td><td>0.03207936582000511</td></tr>\n",
       "<tr><td>4194302</td><td>0.03207936582000511</td></tr>\n",
       "<tr><td>4194303</td><td>0.03207936582000511</td></tr>\n",
       "                    </table>\n",
       "                </div>\n",
       "                <div style=\"vertical-align: top;\">\n",
       "                    <h5>Metadata</h5>\n",
       "                    <table>\n",
       "                        <tr><th>MOC</th><td><em>bool</em></td><td>True</td></tr>\n",
       "<tr><th>PIXTYPE</th><td><em>str</em></td><td>HEALPIX</td></tr>\n",
       "<tr><th>ORDERING</th><td><em>str</em></td><td>NUNIQ</td></tr>\n",
       "<tr><th>COORDSYS</th><td><em>str</em></td><td>C</td></tr>\n",
       "<tr><th>NSIDE</th><td><em>int</em></td><td>512</td></tr>\n",
       "<tr><th>INDXSCHM</th><td><em>str</em></td><td>IMPLICIT</td></tr>\n",
       "<tr><th>OBJECT</th><td><em>str</em></td><td>G357490</td></tr>\n",
       "<tr><th>REFERENC</th><td><em>str</em></td><td>https://gracedb.ligo.org/events/G357490</td></tr>\n",
       "<tr><th>INSTRUME</th><td><em>str</em></td><td>H1,V1</td></tr>\n",
       "<tr><th>DATE-OBS</th><td><em>str</em></td><td>2019-12-16T21:33:38.473820</td></tr>\n",
       "<tr><th>MJD-OBS</th><td><em>float</em></td><td>58833.89836196548</td></tr>\n",
       "<tr><th>DATE</th><td><em>str</em></td><td>2019-12-16T21:34:25.000000</td></tr>\n",
       "<tr><th>CREATOR</th><td><em>str</em></td><td>BAYESTAR</td></tr>\n",
       "<tr><th>ORIGIN</th><td><em>str</em></td><td>LIGO/Virgo</td></tr>\n",
       "<tr><th>RUNTIME</th><td><em>float</em></td><td>2.853073801845312</td></tr>\n",
       "<tr><th>DISTMEAN</th><td><em>float</em></td><td>324.1180263050961</td></tr>\n",
       "<tr><th>DISTSTD</th><td><em>float</em></td><td>78.04007938037513</td></tr>\n",
       "<tr><th>LOGBCI</th><td><em>float</em></td><td>4.801347121843971</td></tr>\n",
       "<tr><th>LOGBSN</th><td><em>float</em></td><td>94.90348970239019</td></tr>\n",
       "<tr><th>VCSVERS</th><td><em>str</em></td><td>ligo.skymap 0.1.14</td></tr>\n",
       "<tr><th>VCSREV</th><td><em>str</em></td><td>6700e6a991e99afbbebe3632d2f3bfe8aedd06a4</td></tr>\n",
       "<tr><th>DATE-BLD</th><td><em>str</em></td><td>2019-11-16T21:23:11</td></tr>\n",
       "<tr><th>HISTORY</th><td><em>list</em></td><td><table><tr><td></td></tr>\n",
       "<tr><td>Generated by calling the following Python function:</td></tr>\n",
       "<tr><td>ligo.skymap.bayestar.localize(event=..., waveform='o2-uberbank', f_low=3</td></tr>\n",
       "<tr><td>0.0, min_inclination=0, max_inclination=1.5707963267948966, min_distance</td></tr>\n",
       "<tr><td>=None, max_distance=None, prior_distance_power=None, cosmology=False, mc</td></tr>\n",
       "<tr><td>mc=False, chain_dump=None, enable_snr_series=True, f_high_truncate=0.95)</td></tr>\n",
       "<tr><td></td></tr>\n",
       "<tr><td>This was the command line that started the program:</td></tr>\n",
       "<tr><td>gwcelery worker -l info -n gwcelery-openmp-worker-17 -Q openmp -c 1</td></tr>\n",
       "<tr><td></td></tr>\n",
       "<tr><td> Pixels were downselected by the LLAMA pipeline to overlap with the</td></tr>\n",
       "<tr><td>sky regions specified in NUNIQ mask indices:  [ 4  5  6  7  8  9 10 11</td></tr>\n",
       "<tr><td>12 13 14 15].  This is a PARTIAL skymap; not all pixels are included.</td></tr>\n",
       "<tr><td>You can read this file with astropy.table.Table.read(); the included</td></tr>\n",
       "<tr><td>indices in NUNIQ ordering can be found in the UNIQ column, and their</td></tr>\n",
       "<tr><td>corresponding pixel probability densities can be found in the</td></tr>\n",
       "<tr><td>PROBDENSITY column.</td></tr></table></td></tr>\n",
       "<tr><th>PARTIAL</th><td><em>bool</em></td><td>True</td></tr>\n",
       "                    </table>\n",
       "                </div>\n",
       "                <div class=\"partialuniq_flexbox partialuniq_flexbox_vert\">\n",
       "                    \n",
       "                <div style=\"vertical-align: top;\">\n",
       "                    <h5>Plot</h5>\n",
       "                    <img src=\"data:image/png;base64,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\" alt=\"Preview plot\"\n",
       "                         style=\"min-width: 200px; max-width: 400px;\"/>\n",
       "                </div>\n",
       "            \n",
       "                    \n",
       "                </div>\n",
       "        </div>\n",
       "        "
      ],
      "text/plain": [
       "<Table length=3145728>\n",
       "  UNIQ       PROBDENSITY     \n",
       "                1 / sr       \n",
       " int64         float64       \n",
       "------- ---------------------\n",
       "1048576 3.213695489137866e-08\n",
       "1048577 3.213695489137866e-08\n",
       "1048578 3.213695489137866e-08\n",
       "1048579 3.213695489137866e-08\n",
       "1048580 3.213695489137866e-08\n",
       "1048581 3.213695489137866e-08\n",
       "1048582 3.213695489137866e-08\n",
       "1048583 3.213695489137866e-08\n",
       "1048584 3.213695489137866e-08\n",
       "    ...                   ...\n",
       "4194294   0.03207936582000511\n",
       "4194295   0.03207936582000511\n",
       "4194296   0.03207936582000511\n",
       "4194297   0.03207936582000511\n",
       "4194298   0.03207936582000511\n",
       "4194299   0.03207936582000511\n",
       "4194300   0.03207936582000511\n",
       "4194301   0.03207936582000511\n",
       "4194302   0.03207936582000511\n",
       "4194303   0.03207936582000511"
      ]
     },
     "execution_count": 78,
     "metadata": {},
     "output_type": "execute_result"
    }
   ],
   "source": [
    "m"
   ]
  },
  {
   "cell_type": "code",
   "execution_count": 79,
   "metadata": {},
   "outputs": [
    {
     "data": {
      "text/html": [
       "\n",
       "        <style>\n",
       "            .partialuniq_flexbox {\n",
       "                display: flex;\n",
       "                flex-wrap: wrap;\n",
       "                pad: -0.5em;\n",
       "            }\n",
       "\n",
       "            .partialuniq_flexbox > div {\n",
       "                margin: 0.5em;\n",
       "            }\n",
       "\n",
       "            .partialuniq_flexbox_vert {\n",
       "                flex-direction: column;\n",
       "            }\n",
       "        </style>\n",
       "        <div class=\"partialuniq_flexbox\">\n",
       "                <div style=\"vertical-align: top;\">\n",
       "                    <h5>Skymap (19200 pixels)</h5>\n",
       "                    <table>\n",
       "                        <thead><tr><th>UNIQ</th><th>PROBDENSITY</th></tr></thead>\n",
       "                        <thead><tr><th></th><th>1 / sr</th></tr></thead>\n",
       "                        <thead><tr><th>int64</th><th>float64</th></tr></thead>\n",
       "                        <tr><td>1024</td><td>3.213695489137866e-08</td></tr>\n",
       "<tr><td>1025</td><td>3.2040818957820824e-08</td></tr>\n",
       "<tr><td>1026</td><td>2.0972529622375458e-08</td></tr>\n",
       "<tr><td>1027</td><td>2.4901479898406154e-08</td></tr>\n",
       "<tr><td>1028</td><td>2.1234324933391196e-08</td></tr>\n",
       "<tr><td>1029</td><td>8.554557560719774e-09</td></tr>\n",
       "<tr><td>1030</td><td>1.9393133077742037e-08</td></tr>\n",
       "<tr><td>1031</td><td>9.82231961874086e-09</td></tr>\n",
       "<tr><td>1032</td><td>1.4848588101120417e-08</td></tr>\n",
       "<tr><td>...</td><td>...</td></tr>\n",
       "<tr><td>2276074</td><td>13.79502962927491</td></tr>\n",
       "<tr><td>2276075</td><td>13.762345692726539</td></tr>\n",
       "<tr><td>2276076</td><td>13.201107880093748</td></tr>\n",
       "<tr><td>2276077</td><td>12.737972669083591</td></tr>\n",
       "<tr><td>2276078</td><td>13.537393641648675</td></tr>\n",
       "<tr><td>2276079</td><td>13.240584097803032</td></tr>\n",
       "<tr><td>2276088</td><td>12.21986306827855</td></tr>\n",
       "<tr><td>2276089</td><td>11.605281331152998</td></tr>\n",
       "<tr><td>2276090</td><td>12.768191009185621</td></tr>\n",
       "<tr><td>2276091</td><td>12.241672462993298</td></tr>\n",
       "                    </table>\n",
       "                </div>\n",
       "                <div style=\"vertical-align: top;\">\n",
       "                    <h5>Metadata</h5>\n",
       "                    <table>\n",
       "                        <tr><th>MOC</th><td><em>bool</em></td><td>True</td></tr>\n",
       "<tr><th>PIXTYPE</th><td><em>str</em></td><td>HEALPIX</td></tr>\n",
       "<tr><th>ORDERING</th><td><em>str</em></td><td>NUNIQ</td></tr>\n",
       "<tr><th>COORDSYS</th><td><em>str</em></td><td>C</td></tr>\n",
       "<tr><th>MOCORDER</th><td><em>int</em></td><td>9</td></tr>\n",
       "<tr><th>INDXSCHM</th><td><em>str</em></td><td>EXPLICIT</td></tr>\n",
       "<tr><th>OBJECT</th><td><em>str</em></td><td>G357490</td></tr>\n",
       "<tr><th>REFERENC</th><td><em>str</em></td><td>https://gracedb.ligo.org/events/G357490</td></tr>\n",
       "<tr><th>INSTRUME</th><td><em>str</em></td><td>H1,V1</td></tr>\n",
       "<tr><th>DATE-OBS</th><td><em>str</em></td><td>2019-12-16T21:33:38.473820</td></tr>\n",
       "<tr><th>MJD-OBS</th><td><em>float</em></td><td>58833.89836196548</td></tr>\n",
       "<tr><th>DATE</th><td><em>str</em></td><td>2019-12-16T21:34:25.000000</td></tr>\n",
       "<tr><th>CREATOR</th><td><em>str</em></td><td>BAYESTAR</td></tr>\n",
       "<tr><th>ORIGIN</th><td><em>str</em></td><td>LIGO/Virgo</td></tr>\n",
       "<tr><th>RUNTIME</th><td><em>float</em></td><td>2.853073801845312</td></tr>\n",
       "<tr><th>DISTMEAN</th><td><em>float</em></td><td>324.1180263050961</td></tr>\n",
       "<tr><th>DISTSTD</th><td><em>float</em></td><td>78.04007938037513</td></tr>\n",
       "<tr><th>LOGBCI</th><td><em>float</em></td><td>4.801347121843971</td></tr>\n",
       "<tr><th>LOGBSN</th><td><em>float</em></td><td>94.90348970239019</td></tr>\n",
       "<tr><th>VCSVERS</th><td><em>str</em></td><td>ligo.skymap 0.1.14</td></tr>\n",
       "<tr><th>VCSREV</th><td><em>str</em></td><td>6700e6a991e99afbbebe3632d2f3bfe8aedd06a4</td></tr>\n",
       "<tr><th>DATE-BLD</th><td><em>str</em></td><td>2019-11-16T21:23:11</td></tr>\n",
       "<tr><th>HISTORY</th><td><em>list</em></td><td><table><tr><td></td></tr>\n",
       "<tr><td>Generated by calling the following Python function:</td></tr>\n",
       "<tr><td>ligo.skymap.bayestar.localize(event=..., waveform='o2-uberbank', f_low=3</td></tr>\n",
       "<tr><td>0.0, min_inclination=0, max_inclination=1.5707963267948966, min_distance</td></tr>\n",
       "<tr><td>=None, max_distance=None, prior_distance_power=None, cosmology=False, mc</td></tr>\n",
       "<tr><td>mc=False, chain_dump=None, enable_snr_series=True, f_high_truncate=0.95)</td></tr>\n",
       "<tr><td></td></tr>\n",
       "<tr><td>This was the command line that started the program:</td></tr>\n",
       "<tr><td>gwcelery worker -l info -n gwcelery-openmp-worker-17 -Q openmp -c 1</td></tr>\n",
       "<tr><td></td></tr>\n",
       "<tr><td> Pixels were downselected by the LLAMA pipeline to overlap with the</td></tr>\n",
       "<tr><td>sky regions specified in NUNIQ mask indices:  [ 4  5  6  7  8  9 10 11</td></tr>\n",
       "<tr><td>12 13 14 15].  This is a PARTIAL skymap; not all pixels are included.</td></tr>\n",
       "<tr><td>You can read this file with astropy.table.Table.read(); the included</td></tr>\n",
       "<tr><td>indices in NUNIQ ordering can be found in the UNIQ column, and their</td></tr>\n",
       "<tr><td>corresponding pixel probability densities can be found in the</td></tr>\n",
       "<tr><td>PROBDENSITY column.</td></tr></table></td></tr>\n",
       "<tr><th>PARTIAL</th><td><em>bool</em></td><td>True</td></tr>\n",
       "                    </table>\n",
       "                </div>\n",
       "                <div class=\"partialuniq_flexbox partialuniq_flexbox_vert\">\n",
       "                    \n",
       "                <div style=\"vertical-align: top;\">\n",
       "                    <h5>Plot</h5>\n",
       "                    <img src=\"data:image/png;base64,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\" alt=\"Preview plot\"\n",
       "                         style=\"min-width: 200px; max-width: 400px;\"/>\n",
       "                </div>\n",
       "            \n",
       "                    \n",
       "                </div>\n",
       "        </div>\n",
       "        "
      ],
      "text/plain": [
       "<Table length=19200>\n",
       "  UNIQ       PROBDENSITY      \n",
       "                1 / sr        \n",
       " int64         float64        \n",
       "------- ----------------------\n",
       "   1024  3.213695489137866e-08\n",
       "   1025 3.2040818957820824e-08\n",
       "   1026 2.0972529622375458e-08\n",
       "   1027 2.4901479898406154e-08\n",
       "   1028 2.1234324933391196e-08\n",
       "   1029  8.554557560719774e-09\n",
       "   1030 1.9393133077742037e-08\n",
       "   1031   9.82231961874086e-09\n",
       "   1032 1.4848588101120417e-08\n",
       "    ...                    ...\n",
       "2276074      13.79502962927491\n",
       "2276075     13.762345692726539\n",
       "2276076     13.201107880093748\n",
       "2276077     12.737972669083591\n",
       "2276078     13.537393641648675\n",
       "2276079     13.240584097803032\n",
       "2276088      12.21986306827855\n",
       "2276089     11.605281331152998\n",
       "2276090     12.768191009185621\n",
       "2276091     12.241672462993298"
      ]
     },
     "execution_count": 79,
     "metadata": {},
     "output_type": "execute_result"
    }
   ],
   "source": [
    "mo"
   ]
  },
  {
   "cell_type": "code",
   "execution_count": 94,
   "metadata": {},
   "outputs": [],
   "source": [
    "u, s = uniq_minimize(m.u⃗, m.s⃗)"
   ]
  },
  {
   "cell_type": "code",
   "execution_count": 97,
   "metadata": {},
   "outputs": [
    {
     "data": {
      "text/plain": [
       "True"
      ]
     },
     "execution_count": 97,
     "metadata": {},
     "output_type": "execute_result"
    }
   ],
   "source": [
    "(mo.u⃗ == u).all()"
   ]
  },
  {
   "cell_type": "code",
   "execution_count": 99,
   "metadata": {},
   "outputs": [],
   "source": [
    "mm = mo.s⃗ != s"
   ]
  },
  {
   "cell_type": "code",
   "execution_count": 105,
   "metadata": {},
   "outputs": [
    {
     "data": {
      "text/plain": [
       "True"
      ]
     },
     "execution_count": 105,
     "metadata": {},
     "output_type": "execute_result"
    }
   ],
   "source": [
    "((mo.s⃗-s)/s)[mm].max() < 1e-15"
   ]
  },
  {
   "cell_type": "code",
   "execution_count": 16,
   "metadata": {},
   "outputs": [],
   "source": [
    "np.searchsorted?"
   ]
  },
  {
   "cell_type": "code",
   "execution_count": 15,
   "metadata": {},
   "outputs": [
    {
     "data": {
      "text/plain": [
       "array([2, 1])"
      ]
     },
     "execution_count": 15,
     "metadata": {},
     "output_type": "execute_result"
    }
   ],
   "source": [
    "np.arange(ut.uniq2nside(u[-1]), ut.uniq2nside(u[0])-1, -1)"
   ]
  },
  {
   "cell_type": "code",
   "execution_count": 37,
   "metadata": {},
   "outputs": [
    {
     "data": {
      "text/plain": [
       "array([0, 0, 1, 1, 1, 1, 1, 1, 1, 1, 1])"
      ]
     },
     "execution_count": 37,
     "metadata": {},
     "output_type": "execute_result"
    }
   ],
   "source": [
    "ut.uniq2order(u)"
   ]
  },
  {
   "cell_type": "code",
   "execution_count": null,
   "metadata": {},
   "outputs": [],
   "source": []
  }
 ],
 "metadata": {
  "kernelspec": {
   "display_name": "Python 3",
   "language": "python",
   "name": "python3"
  },
  "language_info": {
   "codemirror_mode": {
    "name": "ipython",
    "version": 3
   },
   "file_extension": ".py",
   "mimetype": "text/x-python",
   "name": "python",
   "nbconvert_exporter": "python",
   "pygments_lexer": "ipython3",
   "version": "3.7.6"
  }
 },
 "nbformat": 4,
 "nbformat_minor": 4
}
