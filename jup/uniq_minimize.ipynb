{
 "cells": [
  {
   "cell_type": "code",
   "execution_count": 46,
   "metadata": {},
   "outputs": [],
   "source": [
    "import numpy as np\n",
    "from matplotlib import pyplot as plt\n",
    "import hpmoc as hpm\n",
    "from hpmoc.healpy import healpy as hp\n",
    "from hpmoc import PartialUniqSkymap\n",
    "from hpmoc import utils as ut\n",
    "\n",
    "u = np.concatenate([ut.nest2uniq(np.arange(2), 1), ut.nest2uniq(np.arange(8, 17), 2)])\n",
    "x = np.full_like(u, 4)\n",
    "m = np.array([1, 2, 3, 3, 3, 3, 4, 5, 6, 7, 8])\n",
    "assert len(u) == len(m)"
   ]
  },
  {
   "cell_type": "code",
   "execution_count": 68,
   "metadata": {},
   "outputs": [
    {
     "name": "stdout",
     "output_type": "stream",
     "text": [
      "[ 4  5 24 25 26 27 28 29 30 31 32]\n"
     ]
    }
   ],
   "source": [
    "print(u)"
   ]
  },
  {
   "cell_type": "code",
   "execution_count": 4,
   "metadata": {},
   "outputs": [
    {
     "data": {
      "text/plain": [
       "array([0, 0, 1, 1, 1, 1, 1, 1, 1, 1, 1])"
      ]
     },
     "execution_count": 4,
     "metadata": {},
     "output_type": "execute_result"
    }
   ],
   "source": [
    "ut.uniq2order(u)"
   ]
  },
  {
   "cell_type": "code",
   "execution_count": 8,
   "metadata": {},
   "outputs": [
    {
     "data": {
      "text/plain": [
       "array([64, 16,  4])"
      ]
     },
     "execution_count": 8,
     "metadata": {},
     "output_type": "execute_result"
    }
   ],
   "source": [
    "z = np.arange(ut.uniq2order(u[-1])+1, -1, -1)\n",
    "ut.nest2uniq(np.zeros_like(z), hp.order2nside(z))"
   ]
  },
  {
   "cell_type": "code",
   "execution_count": 25,
   "metadata": {},
   "outputs": [
    {
     "data": {
      "text/plain": [
       "array([2, 1, 0])"
      ]
     },
     "execution_count": 25,
     "metadata": {},
     "output_type": "execute_result"
    }
   ],
   "source": [
    "z"
   ]
  },
  {
   "cell_type": "code",
   "execution_count": 63,
   "metadata": {},
   "outputs": [],
   "source": [
    "from operator import eq\n",
    "\n",
    "def uniq_minimize(u, *x, test=eq, combine=lambda x, i: x[i]):\n",
    "    isort = np.argsort(u)\n",
    "    u = u[isort]\n",
    "    x = [*x]\n",
    "    us = []\n",
    "    xs = [[] for _ in x]\n",
    "    orders = np.arange(ut.uniq2order(u[-1])+1, -1, -1)\n",
    "    bounds = np.searchsorted(u, ut.nest2uniq(np.zeros_like(orders),\n",
    "                                             hp.order2nside(orders)))\n",
    "    for xx in x:\n",
    "        if len(xx) != len(u):\n",
    "            raise ValueError(\"Indices and values must have same length.\")\n",
    "        xx = xx[isort]\n",
    "    for i in range(len(bounds)-2):\n",
    "        last, first = bounds[i:i+2]\n",
    "        if last - first < 4:\n",
    "            continue\n",
    "        uu = u[first:last-3].copy()\n",
    "        # find 0th pixels from matching quartets\n",
    "        m = np.zeros((last-first,), dtype=bool)\n",
    "        m[:-3] = uu % 4 == 0\n",
    "        for j in range(3):\n",
    "            uu += 1\n",
    "            m[:-3] &= uu == u[first+1+j:last-2+j]\n",
    "            for xx in x:\n",
    "                m[:-3] &= test(xx[first:last-3], xx[first+1+j:last-2+j])\n",
    "        # now find skipped indices\n",
    "        s = m.copy()\n",
    "        # do not mutate and compare simultaneously\n",
    "        s[1:-2] = s[1:-2] | s[:-3]\n",
    "        s[2:] = s[2:] | s[:-2]\n",
    "        np.logical_not(s, out=s)\n",
    "        # store the skipped indices for later concatenation\n",
    "        us.append(u[first:last][s])\n",
    "        for xxs, xx in zip(xs, x):\n",
    "            xxs.append(xx[first:last][s])\n",
    "        # combine pixels and put into existing buf adjacent next lowest order\n",
    "        combined = u[first:last][m] // 4\n",
    "        nc = len(combined)\n",
    "        u[first:first+nc] = combined\n",
    "        del combined\n",
    "        for xx in x:\n",
    "            xx[first:first+nc] = combine(xx[first:last], m)\n",
    "        assert 4 * nc + len(us[-1]) == last - first\n",
    "        # absorb combined pixels by modifying the next lowest order's bounds\n",
    "        bounds[i+1] += nc\n",
    "        # now re-sort the next lowest order\n",
    "        next_last, next_first = bounds[i+1:i+3]\n",
    "        isort = u[next_first:next_last].argsort()\n",
    "        u[next_first:next_last] = u[next_first:next_last][isort]\n",
    "        for xx in x:\n",
    "            xx[next_first:next_last] = xx[next_first:next_last][isort]\n",
    "    #breakpoint()\n",
    "    return [np.concatenate([y[:bounds[-2]], *ys[::-1]])\n",
    "            for y, ys in zip([u, *x], [us, *xs])]"
   ]
  },
  {
   "cell_type": "code",
   "execution_count": 69,
   "metadata": {
    "scrolled": false
   },
   "outputs": [
    {
     "name": "stdout",
     "output_type": "stream",
     "text": [
      "[ 4  5  6  7 32]\n"
     ]
    }
   ],
   "source": [
    "print(uniq_minimize(u)[0])"
   ]
  },
  {
   "cell_type": "code",
   "execution_count": 72,
   "metadata": {
    "scrolled": false
   },
   "outputs": [
    {
     "name": "stdout",
     "output_type": "stream",
     "text": [
      "[1 1 1 1 1]\n"
     ]
    }
   ],
   "source": [
    "print(uniq_minimize(u, x)[1]//4)"
   ]
  },
  {
   "cell_type": "code",
   "execution_count": 66,
   "metadata": {},
   "outputs": [
    {
     "data": {
      "text/plain": [
       "array([ 4,  5, 24, 25, 26, 27, 28, 29, 30, 31, 32])"
      ]
     },
     "execution_count": 66,
     "metadata": {},
     "output_type": "execute_result"
    }
   ],
   "source": [
    "u"
   ]
  },
  {
   "cell_type": "code",
   "execution_count": 73,
   "metadata": {},
   "outputs": [],
   "source": [
    "um, xm = uniq_minimize(u, np.array([1, 2, 3, 3, 3, 3, 4, 5, 6, 7, 8]))"
   ]
  },
  {
   "cell_type": "code",
   "execution_count": 75,
   "metadata": {},
   "outputs": [
    {
     "name": "stdout",
     "output_type": "stream",
     "text": [
      "[1 2 3 4 5 6 7 8]\n"
     ]
    }
   ],
   "source": [
    "print(xm)"
   ]
  },
  {
   "cell_type": "code",
   "execution_count": 20,
   "metadata": {},
   "outputs": [],
   "source": [
    "x = np.arange(10, 0, -1)"
   ]
  },
  {
   "cell_type": "code",
   "execution_count": 21,
   "metadata": {},
   "outputs": [
    {
     "data": {
      "text/plain": [
       "array([3, 2, 1, 0])"
      ]
     },
     "execution_count": 21,
     "metadata": {},
     "output_type": "execute_result"
    }
   ],
   "source": [
    "x[3:7].argsort()"
   ]
  },
  {
   "cell_type": "code",
   "execution_count": 32,
   "metadata": {},
   "outputs": [
    {
     "data": {
      "text/plain": [
       "array([ True,  True,  True])"
      ]
     },
     "execution_count": 32,
     "metadata": {},
     "output_type": "execute_result"
    }
   ],
   "source": [
    "~np.concatenate(([False, False, False],))"
   ]
  },
  {
   "cell_type": "code",
   "execution_count": 20,
   "metadata": {},
   "outputs": [],
   "source": [
    "from operator import eq"
   ]
  },
  {
   "cell_type": "code",
   "execution_count": 22,
   "metadata": {},
   "outputs": [
    {
     "data": {
      "text/plain": [
       "array([ True,  True,  True,  True,  True,  True,  True,  True,  True,\n",
       "        True,  True])"
      ]
     },
     "execution_count": 22,
     "metadata": {},
     "output_type": "execute_result"
    }
   ],
   "source": [
    "eq(u, u)"
   ]
  },
  {
   "cell_type": "code",
   "execution_count": 16,
   "metadata": {},
   "outputs": [],
   "source": [
    "np.searchsorted?"
   ]
  },
  {
   "cell_type": "code",
   "execution_count": 15,
   "metadata": {},
   "outputs": [
    {
     "data": {
      "text/plain": [
       "array([2, 1])"
      ]
     },
     "execution_count": 15,
     "metadata": {},
     "output_type": "execute_result"
    }
   ],
   "source": [
    "np.arange(ut.uniq2nside(u[-1]), ut.uniq2nside(u[0])-1, -1)"
   ]
  },
  {
   "cell_type": "code",
   "execution_count": 37,
   "metadata": {},
   "outputs": [
    {
     "data": {
      "text/plain": [
       "array([0, 0, 1, 1, 1, 1, 1, 1, 1, 1, 1])"
      ]
     },
     "execution_count": 37,
     "metadata": {},
     "output_type": "execute_result"
    }
   ],
   "source": [
    "ut.uniq2order(u)"
   ]
  },
  {
   "cell_type": "code",
   "execution_count": null,
   "metadata": {},
   "outputs": [],
   "source": []
  }
 ],
 "metadata": {
  "kernelspec": {
   "display_name": "Python 3",
   "language": "python",
   "name": "python3"
  },
  "language_info": {
   "codemirror_mode": {
    "name": "ipython",
    "version": 3
   },
   "file_extension": ".py",
   "mimetype": "text/x-python",
   "name": "python",
   "nbconvert_exporter": "python",
   "pygments_lexer": "ipython3",
   "version": "3.7.6"
  }
 },
 "nbformat": 4,
 "nbformat_minor": 4
}
