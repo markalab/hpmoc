{
 "cells": [
  {
   "cell_type": "code",
   "execution_count": null,
   "metadata": {
    "scrolled": false
   },
   "outputs": [],
   "source": [
    "from pathlib import Path\n",
    "from math import ceil\n",
    "from textwrap import wrap\n",
    "from io import BytesIO\n",
    "from typing import Union, IO, Iterator, Callable, Tuple, List, Any, Optional, Iterable\n",
    "import re\n",
    "import gzip\n",
    "import logging\n",
    "from collections import OrderedDict\n",
    "from nptyping import NDArray\n",
    "import numpy as np\n",
    "from matplotlib import pyplot as plt\n",
    "from astropy.io import fits\n",
    "from astropy.table import Table\n",
    "from astropy.units import Quantity\n",
    "import hpmoc as hpm\n",
    "from hpmoc.healpy import healpy as hp\n",
    "from hpmoc import PartialUniqSkymap\n",
    "from hpmoc import utils as ut\n",
    "from hpmoc.utils import *\n",
    "from hpmoc.fits import (\n",
    "    next_header,\n",
    "    next_hdu,\n",
    "    bintable_dtype,\n",
    "    _next_header_blocks,\n",
    "    read_bintable_chunks,\n",
    "    extract_probdensity,\n",
    "    calculate_max_rows_read,\n",
    "    HEADER_NON_META,\n",
    "    load_ligo,\n",
    ")\n",
    "\n",
    "LOGGER = logging.getLogger(__name__)\n",
    "DATA = Path(\".\").absolute().parent/\"tests\"/\"data\"\n",
    "\n",
    "NUNIQ_FITS = DATA/'S200105ae.fits'\n",
    "NUNIQ_FITS_GZ = DATA/'S200105ae.fits.gz'\n",
    "BAYESTAR_NEST_FITS_GZ_1024 = DATA/'S200316bj-1-Preliminary.fits.gz'\n",
    "CWB_NEST_FITS_GZ_128 = DATA/'S200114f-3-Initial.fits.gz'\n",
    "CWB_RING_FITS_GZ_128 = DATA/'S200129m-3-Initial.fits.gz'"
   ]
  },
  {
   "cell_type": "code",
   "execution_count": null,
   "metadata": {},
   "outputs": [],
   "source": [
    "def compare_new_old_ligo_io_read(infile, mask: PartialUniqSkymap = None):\n",
    "    old = (mask or PartialUniqSkymap).read(infile, strategy='ligo_old')\n",
    "    new = (mask or PartialUniqSkymap).read(infile, strategy='ligo')\n",
    "    assert (old == new).s.all(), f\"old ({old}) != new ({new}) for {infile}\"\n",
    "    cov_old = ut.uniq_minimize(old.u)[0]\n",
    "    cov_new = ut.uniq_minimize(new.u)[0]\n",
    "    assert (cov_old == cov_new).all(), \\\n",
    "        f\"old cov ({cov_old}) != new cov ({cov_new}) for {infile}\"\n",
    "    for (k, v), (ko, vo) in zip(new.meta.items(), old.meta.items()):\n",
    "        if k != 'HISTORY':\n",
    "            assert k == ko, f\"meta key mismatch: {k} != {ko} for {infile}\"\n",
    "            assert v == vo, f\"meta val mismatch: {v} != {vo} for {infile}\""
   ]
  },
  {
   "cell_type": "code",
   "execution_count": null,
   "metadata": {},
   "outputs": [],
   "source": [
    "compare_new_old_ligo_io_read(CWB_RING_FITS_GZ_128)"
   ]
  },
  {
   "cell_type": "code",
   "execution_count": null,
   "metadata": {},
   "outputs": [],
   "source": [
    "moo = PartialUniqSkymap.read(CWB_RING_FITS_GZ_128, strategy='ligo_old')\n",
    "mo = PartialUniqSkymap.read(CWB_RING_FITS_GZ_128, strategy='ligo')"
   ]
  },
  {
   "cell_type": "code",
   "execution_count": null,
   "metadata": {},
   "outputs": [],
   "source": [
    "plt.suptitle"
   ]
  },
  {
   "cell_type": "code",
   "execution_count": null,
   "metadata": {
    "scrolled": false
   },
   "outputs": [],
   "source": [
    "ax = mo.plot(fig={'figsize': (6, 5)}, cbar={'pad': 0.05}, cmap='bone_r')\n",
    "mo.orders(as_skymap=True).plot(projection=ax.wcs, ax=ax,\n",
    "                               alpha=0.15, cmap='rainbow', cbar={'pad': 0.1})\n",
    "_ = ax.set_title(\"S200129m-3-Initial\")"
   ]
  },
  {
   "cell_type": "code",
   "execution_count": null,
   "metadata": {},
   "outputs": [],
   "source": [
    "ax.set_title?\n"
   ]
  },
  {
   "cell_type": "code",
   "execution_count": null,
   "metadata": {},
   "outputs": [],
   "source": [
    "mo.meta"
   ]
  },
  {
   "cell_type": "code",
   "execution_count": null,
   "metadata": {},
   "outputs": [],
   "source": [
    "PartialUniqSkymap.read(NUNIQ_FITS, strategy='ligo').meta"
   ]
  },
  {
   "cell_type": "code",
   "execution_count": null,
   "metadata": {},
   "outputs": [],
   "source": [
    "plt.colorbar?"
   ]
  },
  {
   "cell_type": "code",
   "execution_count": null,
   "metadata": {},
   "outputs": [],
   "source": [
    "for src in [NUNIQ_FITS, NUNIQ_FITS_GZ, BAYESTAR_NEST_FITS_GZ_1024,\n",
    "            CWB_NEST_FITS_GZ_128, CWB_RING_FITS_GZ_128]:\n",
    "    compare_new_old_ligo_io_read(src)"
   ]
  },
  {
   "cell_type": "code",
   "execution_count": null,
   "metadata": {
    "scrolled": false
   },
   "outputs": [],
   "source": [
    "fig = plt.figure(dpi=50)\n",
    "mcwb = PartialUniqSkymap.read(CWB_NEST_FITS_GZ_128, strategy='ligo')\n",
    "mcwb.plot(projection='CAR', fig=fig, cbar=True)"
   ]
  },
  {
   "cell_type": "code",
   "execution_count": null,
   "metadata": {},
   "outputs": [],
   "source": [
    "mcwb"
   ]
  },
  {
   "cell_type": "code",
   "execution_count": null,
   "metadata": {},
   "outputs": [],
   "source": [
    "mo = PartialUniqSkymap.read(NUNIQ_FITS, strategy='ligo')"
   ]
  },
  {
   "cell_type": "code",
   "execution_count": null,
   "metadata": {},
   "outputs": [],
   "source": [
    "mo.plot(projection='plate-caree')"
   ]
  },
  {
   "cell_type": "code",
   "execution_count": null,
   "metadata": {},
   "outputs": [],
   "source": [
    "mot"
   ]
  },
  {
   "cell_type": "code",
   "execution_count": null,
   "metadata": {
    "scrolled": true
   },
   "outputs": [],
   "source": [
    "with gzip.open(CWB_NEST_FITS_GZ_128, 'rb') as f:\n",
    "    [[u, s, meta]] = load_ligo(f)\n",
    "    mo = PartialUniqSkymap(s, u, meta=meta, name='PROBDENSITY')"
   ]
  },
  {
   "cell_type": "code",
   "execution_count": null,
   "metadata": {},
   "outputs": [],
   "source": [
    "mo"
   ]
  },
  {
   "cell_type": "code",
   "execution_count": null,
   "metadata": {},
   "outputs": [],
   "source": [
    "ax = mo.o⃗(as_skymap=True).plot(cbar=True)#projection='CAR', cmap='rainbow', cbar={'orientation': 'horizontal', 'aspect': 40})"
   ]
  },
  {
   "cell_type": "code",
   "execution_count": null,
   "metadata": {},
   "outputs": [],
   "source": [
    "mo.plot()"
   ]
  },
  {
   "cell_type": "code",
   "execution_count": null,
   "metadata": {},
   "outputs": [],
   "source": [
    "moo = PartialUniqSkymap.read(CWB_NEST_FITS_GZ_128, strategy='ligo')"
   ]
  },
  {
   "cell_type": "code",
   "execution_count": null,
   "metadata": {},
   "outputs": [],
   "source": [
    "moo.to_table().meta"
   ]
  },
  {
   "cell_type": "code",
   "execution_count": null,
   "metadata": {},
   "outputs": [],
   "source": [
    "from astropy.table import meta"
   ]
  },
  {
   "cell_type": "code",
   "execution_count": null,
   "metadata": {},
   "outputs": [],
   "source": [
    "mo.meta"
   ]
  },
  {
   "cell_type": "code",
   "execution_count": null,
   "metadata": {},
   "outputs": [],
   "source": [
    "mo.plot(projection='CAR', cbar=True)"
   ]
  },
  {
   "cell_type": "code",
   "execution_count": null,
   "metadata": {},
   "outputs": [],
   "source": [
    "str(mo.s⃗.unit)"
   ]
  },
  {
   "cell_type": "code",
   "execution_count": null,
   "metadata": {},
   "outputs": [],
   "source": [
    "hp.nside2npix(hp.order2nside(7))"
   ]
  },
  {
   "cell_type": "code",
   "execution_count": null,
   "metadata": {},
   "outputs": [],
   "source": [
    "mo"
   ]
  }
 ],
 "metadata": {
  "kernelspec": {
   "display_name": "Python 3",
   "language": "python",
   "name": "python3"
  },
  "language_info": {
   "codemirror_mode": {
    "name": "ipython",
    "version": 3
   },
   "file_extension": ".py",
   "mimetype": "text/x-python",
   "name": "python",
   "nbconvert_exporter": "python",
   "pygments_lexer": "ipython3",
   "version": "3.7.6"
  }
 },
 "nbformat": 4,
 "nbformat_minor": 4
}
